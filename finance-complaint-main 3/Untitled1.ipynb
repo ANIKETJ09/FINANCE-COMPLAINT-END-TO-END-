{
 "cells": [
  {
   "cell_type": "code",
   "execution_count": 1,
   "id": "8dbf7a1f",
   "metadata": {},
   "outputs": [],
   "source": [
    "file_path = \"/home/avnish/iNeuron_Private_Intelligence_Limited/project_neuron/finance-complaint/feature_store\""
   ]
  },
  {
   "cell_type": "code",
   "execution_count": 2,
   "id": "1f193e45",
   "metadata": {},
   "outputs": [],
   "source": [
    "# from tfx.components.base import executor_spec\n",
    "# from tfx.components.example_gen.csv_example_gen import executor\n",
    "# from tfx.components.example_gen.custom_executors import parquet_executor\n",
    "# from tfx.components import FileBasedExampleGen\n",
    "# example_gen = FileBasedExampleGen(\n",
    "#     input_base=file_path,\n",
    "#     custom_executor_spec=executor_spec.ExecutorClassSpec(parquet_executor.Executor))"
   ]
  },
  {
   "cell_type": "code",
   "execution_count": null,
   "id": "a1c6720d-bb10-45a1-9d3b-9730a50b74df",
   "metadata": {},
   "outputs": [],
   "source": []
  },
  {
   "cell_type": "code",
   "execution_count": null,
   "id": "2fc042f6-4c03-4c3b-931f-995d32381ac8",
   "metadata": {},
   "outputs": [],
   "source": []
  },
  {
   "cell_type": "code",
   "execution_count": 3,
   "id": "193a4577",
   "metadata": {},
   "outputs": [
    {
     "name": "stderr",
     "output_type": "stream",
     "text": [
      "2022-11-12 19:30:43.302307: I tensorflow/core/util/util.cc:169] oneDNN custom operations are on. You may see slightly different numerical results due to floating-point round-off errors from different computation orders. To turn them off, set the environment variable `TF_ENABLE_ONEDNN_OPTS=0`.\n",
      "2022-11-12 19:30:43.306695: W tensorflow/stream_executor/platform/default/dso_loader.cc:64] Could not load dynamic library 'libcudart.so.11.0'; dlerror: libcudart.so.11.0: cannot open shared object file: No such file or directory\n",
      "2022-11-12 19:30:43.306737: I tensorflow/stream_executor/cuda/cudart_stub.cc:29] Ignore above cudart dlerror if you do not have a GPU set up on your machine.\n"
     ]
    }
   ],
   "source": [
    "from census_consumer_complaint.orchestrator.interactive_context_runner import CensusConsumerInteractiveContext"
   ]
  },
  {
   "cell_type": "code",
   "execution_count": 4,
   "id": "6c48c4ee",
   "metadata": {},
   "outputs": [],
   "source": [
    "cx = CensusConsumerInteractiveContext().get_interactive_context()"
   ]
  },
  {
   "cell_type": "code",
   "execution_count": 5,
   "id": "0e219323-ee3b-4ac4-8fa1-bd3b6bd85be0",
   "metadata": {},
   "outputs": [],
   "source": [
    "from census_consumer_complaint.pipeline.training_pipeline import CensusConsumerTrainingPipeline"
   ]
  },
  {
   "cell_type": "code",
   "execution_count": 6,
   "id": "df098487-7d09-4a74-94cd-7e1dbf851ba5",
   "metadata": {},
   "outputs": [],
   "source": [
    "cctp = CensusConsumerTrainingPipeline()"
   ]
  },
  {
   "cell_type": "code",
   "execution_count": 7,
   "id": "600ab92f-eb6f-4153-baf3-ca32daae5b25",
   "metadata": {},
   "outputs": [],
   "source": [
    "comp = cctp.get_pipeline_component()"
   ]
  },
  {
   "cell_type": "code",
   "execution_count": 8,
   "id": "4957f9c5-6e34-44ee-bb92-f1c35dfbe1f1",
   "metadata": {},
   "outputs": [
    {
     "data": {
      "text/html": [
       "<style>\n",
       ".tfx-object.expanded {\n",
       "  padding: 4px 8px 4px 8px;\n",
       "  background: white;\n",
       "  border: 1px solid #bbbbbb;\n",
       "  box-shadow: 4px 4px 2px rgba(0,0,0,0.05);\n",
       "}\n",
       "html[theme=dark] .tfx-object.expanded {\n",
       "  background: black;\n",
       "}\n",
       ".tfx-object, .tfx-object * {\n",
       "  font-size: 11pt;\n",
       "}\n",
       ".tfx-object > .title {\n",
       "  cursor: pointer;\n",
       "}\n",
       ".tfx-object .expansion-marker {\n",
       "  color: #999999;\n",
       "}\n",
       ".tfx-object.expanded > .title > .expansion-marker:before {\n",
       "  content: '▼';\n",
       "}\n",
       ".tfx-object.collapsed > .title > .expansion-marker:before {\n",
       "  content: '▶';\n",
       "}\n",
       ".tfx-object .class-name {\n",
       "  font-weight: bold;\n",
       "}\n",
       ".tfx-object .deemphasize {\n",
       "  opacity: 0.5;\n",
       "}\n",
       ".tfx-object.collapsed > table.attr-table {\n",
       "  display: none;\n",
       "}\n",
       ".tfx-object.expanded > table.attr-table {\n",
       "  display: block;\n",
       "}\n",
       ".tfx-object table.attr-table {\n",
       "  border: 2px solid white;\n",
       "  margin-top: 5px;\n",
       "}\n",
       "html[theme=dark] .tfx-object table.attr-table {\n",
       "  border: 2px solid black;\n",
       "}\n",
       ".tfx-object table.attr-table td.attr-name {\n",
       "  vertical-align: top;\n",
       "  font-weight: bold;\n",
       "}\n",
       ".tfx-object table.attr-table td.attrvalue {\n",
       "  text-align: left;\n",
       "}\n",
       "</style>\n",
       "<script>\n",
       "function toggleTfxObject(element) {\n",
       "  var objElement = element.parentElement;\n",
       "  if (objElement.classList.contains('collapsed')) {\n",
       "    objElement.classList.remove('collapsed');\n",
       "    objElement.classList.add('expanded');\n",
       "  } else {\n",
       "    objElement.classList.add('collapsed');\n",
       "    objElement.classList.remove('expanded');\n",
       "  }\n",
       "}\n",
       "</script>\n",
       "<div class=\"tfx-object expanded\"><div class = \"title\" onclick=\"toggleTfxObject(this)\"><span class=\"expansion-marker\"></span><span class=\"class-name\">FileBasedExampleGen</span><span class=\"deemphasize\"> at 0x7fd421f7c2b0</span></div><table class=\"attr-table\"><tr><td class=\"attr-name\">.inputs</td><td class = \"attrvalue\">{}</td></tr><tr><td class=\"attr-name\">.outputs</td><td class = \"attrvalue\"><table class=\"attr-table\"><tr><td class=\"attr-name\">['examples']</td><td class = \"attrvalue\"><style>\n",
       ".tfx-object.expanded {\n",
       "  padding: 4px 8px 4px 8px;\n",
       "  background: white;\n",
       "  border: 1px solid #bbbbbb;\n",
       "  box-shadow: 4px 4px 2px rgba(0,0,0,0.05);\n",
       "}\n",
       "html[theme=dark] .tfx-object.expanded {\n",
       "  background: black;\n",
       "}\n",
       ".tfx-object, .tfx-object * {\n",
       "  font-size: 11pt;\n",
       "}\n",
       ".tfx-object > .title {\n",
       "  cursor: pointer;\n",
       "}\n",
       ".tfx-object .expansion-marker {\n",
       "  color: #999999;\n",
       "}\n",
       ".tfx-object.expanded > .title > .expansion-marker:before {\n",
       "  content: '▼';\n",
       "}\n",
       ".tfx-object.collapsed > .title > .expansion-marker:before {\n",
       "  content: '▶';\n",
       "}\n",
       ".tfx-object .class-name {\n",
       "  font-weight: bold;\n",
       "}\n",
       ".tfx-object .deemphasize {\n",
       "  opacity: 0.5;\n",
       "}\n",
       ".tfx-object.collapsed > table.attr-table {\n",
       "  display: none;\n",
       "}\n",
       ".tfx-object.expanded > table.attr-table {\n",
       "  display: block;\n",
       "}\n",
       ".tfx-object table.attr-table {\n",
       "  border: 2px solid white;\n",
       "  margin-top: 5px;\n",
       "}\n",
       "html[theme=dark] .tfx-object table.attr-table {\n",
       "  border: 2px solid black;\n",
       "}\n",
       ".tfx-object table.attr-table td.attr-name {\n",
       "  vertical-align: top;\n",
       "  font-weight: bold;\n",
       "}\n",
       ".tfx-object table.attr-table td.attrvalue {\n",
       "  text-align: left;\n",
       "}\n",
       "</style>\n",
       "<script>\n",
       "function toggleTfxObject(element) {\n",
       "  var objElement = element.parentElement;\n",
       "  if (objElement.classList.contains('collapsed')) {\n",
       "    objElement.classList.remove('collapsed');\n",
       "    objElement.classList.add('expanded');\n",
       "  } else {\n",
       "    objElement.classList.add('collapsed');\n",
       "    objElement.classList.remove('expanded');\n",
       "  }\n",
       "}\n",
       "</script>\n",
       "<div class=\"tfx-object collapsed\"><div class = \"title\" onclick=\"toggleTfxObject(this)\"><span class=\"expansion-marker\"></span><span class=\"class-name\">Channel</span> of type <span class=\"class-name\">'Examples'</span> (0 artifacts)<span class=\"deemphasize\"> at 0x7fd421f7c550</span></div><table class=\"attr-table\"><tr><td class=\"attr-name\">.type_name</td><td class = \"attrvalue\">Examples</td></tr><tr><td class=\"attr-name\">._artifacts</td><td class = \"attrvalue\">[]</td></tr></table></div></td></tr></table></td></tr><tr><td class=\"attr-name\">.exec_properties</td><td class = \"attrvalue\"><table class=\"attr-table\"><tr><td class=\"attr-name\">['input_base']</td><td class = \"attrvalue\">/home/avnish/iNeuron_Private_Intelligence_Limited/project_neuron/finance-complaint/census_consumer_complaint_data/data_source/feature_store</td></tr><tr><td class=\"attr-name\">['input_config']</td><td class = \"attrvalue\">{\n",
       "  &quot;splits&quot;: [\n",
       "    {\n",
       "      &quot;name&quot;: &quot;single_split&quot;,\n",
       "      &quot;pattern&quot;: &quot;*&quot;\n",
       "    }\n",
       "  ]\n",
       "}</td></tr><tr><td class=\"attr-name\">['output_config']</td><td class = \"attrvalue\">{\n",
       "  &quot;split_config&quot;: {\n",
       "    &quot;splits&quot;: [\n",
       "      {\n",
       "        &quot;hash_buckets&quot;: 2,\n",
       "        &quot;name&quot;: &quot;train&quot;\n",
       "      },\n",
       "      {\n",
       "        &quot;hash_buckets&quot;: 1,\n",
       "        &quot;name&quot;: &quot;eval&quot;\n",
       "      }\n",
       "    ]\n",
       "  }\n",
       "}</td></tr><tr><td class=\"attr-name\">['output_data_format']</td><td class = \"attrvalue\">6</td></tr><tr><td class=\"attr-name\">['output_file_format']</td><td class = \"attrvalue\">5</td></tr><tr><td class=\"attr-name\">['custom_config']</td><td class = \"attrvalue\">None</td></tr><tr><td class=\"attr-name\">['range_config']</td><td class = \"attrvalue\">None</td></tr></table></td></tr></table></div>"
      ],
      "text/plain": [
       "FileBasedExampleGen(spec: <tfx.types.standard_component_specs.FileBasedExampleGenSpec object at 0x7fd421f7c4a8>, executor_spec: <tfx.dsl.components.base.executor_spec.BeamExecutorSpec object at 0x7fd421f7c2e8>, driver_class: <class 'tfx.components.example_gen.driver.FileBasedDriver'>, component_id: FileBasedExampleGen, inputs: {}, outputs: {'examples': OutputChannel(artifact_type=Examples, producer_component_id=FileBasedExampleGen, output_key=examples, additional_properties={}, additional_custom_properties={})})"
      ]
     },
     "execution_count": 8,
     "metadata": {},
     "output_type": "execute_result"
    }
   ],
   "source": [
    "comp[0]"
   ]
  },
  {
   "cell_type": "code",
   "execution_count": 9,
   "id": "672707fb",
   "metadata": {},
   "outputs": [],
   "source": [
    "ingestion_output =  cx.run(comp[0])"
   ]
  },
  {
   "cell_type": "code",
   "execution_count": 10,
   "id": "22dd96a9-011f-4c5d-9843-4a87a1444ddd",
   "metadata": {},
   "outputs": [],
   "source": [
    "stats_output = cx.run(comp[1])"
   ]
  },
  {
   "cell_type": "code",
   "execution_count": 11,
   "id": "84f7a258-9dd6-43a7-984e-f9aec0b82d59",
   "metadata": {},
   "outputs": [],
   "source": [
    "schema_output = cx.run(comp[2])"
   ]
  },
  {
   "cell_type": "code",
   "execution_count": 12,
   "id": "168b451f",
   "metadata": {},
   "outputs": [],
   "source": [
    "example_validator = cx.run(comp[3])"
   ]
  },
  {
   "cell_type": "code",
   "execution_count": 13,
   "id": "135d84b3",
   "metadata": {},
   "outputs": [
    {
     "name": "stdout",
     "output_type": "stream",
     "text": [
      "running bdist_wheel\n",
      "running build\n",
      "running build_py\n",
      "creating build\n",
      "creating build/lib\n",
      "copying feature_engineering.py -> build/lib\n",
      "installing to /tmp/tmps_07mtru\n",
      "running install\n",
      "running install_lib\n",
      "copying build/lib/feature_engineering.py -> /tmp/tmps_07mtru\n",
      "running install_egg_info\n",
      "running egg_info\n",
      "creating tfx_user_code_Transform.egg-info\n",
      "writing tfx_user_code_Transform.egg-info/PKG-INFO\n",
      "writing dependency_links to tfx_user_code_Transform.egg-info/dependency_links.txt\n",
      "writing top-level names to tfx_user_code_Transform.egg-info/top_level.txt\n",
      "writing manifest file 'tfx_user_code_Transform.egg-info/SOURCES.txt'\n",
      "reading manifest file 'tfx_user_code_Transform.egg-info/SOURCES.txt'\n",
      "writing manifest file 'tfx_user_code_Transform.egg-info/SOURCES.txt'\n",
      "Copying tfx_user_code_Transform.egg-info to /tmp/tmps_07mtru/tfx_user_code_Transform-0.0+656f0e2f01cbc4f994c85ed3e7e4627731c18d9287717f42e7aafc21b2ad8e70-py3.7.egg-info\n",
      "running install_scripts\n",
      "creating /tmp/tmps_07mtru/tfx_user_code_Transform-0.0+656f0e2f01cbc4f994c85ed3e7e4627731c18d9287717f42e7aafc21b2ad8e70.dist-info/WHEEL\n",
      "creating '/tmp/tmpbz4i7vt4/tfx_user_code_Transform-0.0+656f0e2f01cbc4f994c85ed3e7e4627731c18d9287717f42e7aafc21b2ad8e70-py3-none-any.whl' and adding '/tmp/tmps_07mtru' to it\n",
      "adding 'feature_engineering.py'\n",
      "adding 'tfx_user_code_Transform-0.0+656f0e2f01cbc4f994c85ed3e7e4627731c18d9287717f42e7aafc21b2ad8e70.dist-info/METADATA'\n",
      "adding 'tfx_user_code_Transform-0.0+656f0e2f01cbc4f994c85ed3e7e4627731c18d9287717f42e7aafc21b2ad8e70.dist-info/WHEEL'\n",
      "adding 'tfx_user_code_Transform-0.0+656f0e2f01cbc4f994c85ed3e7e4627731c18d9287717f42e7aafc21b2ad8e70.dist-info/top_level.txt'\n",
      "adding 'tfx_user_code_Transform-0.0+656f0e2f01cbc4f994c85ed3e7e4627731c18d9287717f42e7aafc21b2ad8e70.dist-info/RECORD'\n",
      "removing /tmp/tmps_07mtru\n"
     ]
    },
    {
     "name": "stderr",
     "output_type": "stream",
     "text": [
      "/home/avnish/iNeuron_Private_Intelligence_Limited/project_neuron/finance-complaint/venv/lib/python3.7/site-packages/setuptools/command/install.py:37: SetuptoolsDeprecationWarning: setup.py install is deprecated. Use build and pip and other standards-based tools.\n",
      "  setuptools.SetuptoolsDeprecationWarning,\n"
     ]
    }
   ],
   "source": [
    "transform = cx.run(comp[4])"
   ]
  },
  {
   "cell_type": "code",
   "execution_count": 14,
   "id": "37226e56",
   "metadata": {},
   "outputs": [
    {
     "name": "stdout",
     "output_type": "stream",
     "text": [
      "running bdist_wheel\n",
      "running build\n",
      "running build_py\n",
      "creating build\n",
      "creating build/lib\n",
      "copying trainer.py -> build/lib\n",
      "installing to /tmp/tmpjxjgyxu4\n",
      "running install\n",
      "running install_lib\n",
      "copying build/lib/trainer.py -> /tmp/tmpjxjgyxu4\n",
      "running install_egg_info\n",
      "running egg_info\n",
      "creating tfx_user_code_Trainer.egg-info\n",
      "writing tfx_user_code_Trainer.egg-info/PKG-INFO\n",
      "writing dependency_links to tfx_user_code_Trainer.egg-info/dependency_links.txt\n",
      "writing top-level names to tfx_user_code_Trainer.egg-info/top_level.txt\n",
      "writing manifest file 'tfx_user_code_Trainer.egg-info/SOURCES.txt'\n",
      "reading manifest file 'tfx_user_code_Trainer.egg-info/SOURCES.txt'\n",
      "writing manifest file 'tfx_user_code_Trainer.egg-info/SOURCES.txt'\n",
      "Copying tfx_user_code_Trainer.egg-info to /tmp/tmpjxjgyxu4/tfx_user_code_Trainer-0.0+092529593cc0f42a7fb6a9239d37f2bf930e2ab601d93f5b681cdf1684680963-py3.7.egg-info\n",
      "running install_scripts\n"
     ]
    },
    {
     "name": "stderr",
     "output_type": "stream",
     "text": [
      "/home/avnish/iNeuron_Private_Intelligence_Limited/project_neuron/finance-complaint/venv/lib/python3.7/site-packages/setuptools/command/install.py:37: SetuptoolsDeprecationWarning: setup.py install is deprecated. Use build and pip and other standards-based tools.\n",
      "  setuptools.SetuptoolsDeprecationWarning,\n"
     ]
    },
    {
     "name": "stdout",
     "output_type": "stream",
     "text": [
      "creating /tmp/tmpjxjgyxu4/tfx_user_code_Trainer-0.0+092529593cc0f42a7fb6a9239d37f2bf930e2ab601d93f5b681cdf1684680963.dist-info/WHEEL\n",
      "creating '/tmp/tmpjq67tf4w/tfx_user_code_Trainer-0.0+092529593cc0f42a7fb6a9239d37f2bf930e2ab601d93f5b681cdf1684680963-py3-none-any.whl' and adding '/tmp/tmpjxjgyxu4' to it\n",
      "adding 'trainer.py'\n",
      "adding 'tfx_user_code_Trainer-0.0+092529593cc0f42a7fb6a9239d37f2bf930e2ab601d93f5b681cdf1684680963.dist-info/METADATA'\n",
      "adding 'tfx_user_code_Trainer-0.0+092529593cc0f42a7fb6a9239d37f2bf930e2ab601d93f5b681cdf1684680963.dist-info/WHEEL'\n",
      "adding 'tfx_user_code_Trainer-0.0+092529593cc0f42a7fb6a9239d37f2bf930e2ab601d93f5b681cdf1684680963.dist-info/top_level.txt'\n",
      "adding 'tfx_user_code_Trainer-0.0+092529593cc0f42a7fb6a9239d37f2bf930e2ab601d93f5b681cdf1684680963.dist-info/RECORD'\n",
      "removing /tmp/tmpjxjgyxu4\n",
      "Processing ./census_consumer_complaint_data/census_consumer_complaint/artifact/_wheels/tfx_user_code_Trainer-0.0+092529593cc0f42a7fb6a9239d37f2bf930e2ab601d93f5b681cdf1684680963-py3-none-any.whl\n",
      "Installing collected packages: tfx-user-code-Trainer\n",
      "Successfully installed tfx-user-code-Trainer-0.0+092529593cc0f42a7fb6a9239d37f2bf930e2ab601d93f5b681cdf1684680963\n"
     ]
    },
    {
     "name": "stderr",
     "output_type": "stream",
     "text": [
      "2022-11-12 19:30:54.726572: I tensorflow/stream_executor/cuda/cuda_gpu_executor.cc:975] successful NUMA node read from SysFS had negative value (-1), but there must be at least one NUMA node, so returning NUMA node zero\n",
      "2022-11-12 19:30:54.727122: W tensorflow/stream_executor/platform/default/dso_loader.cc:64] Could not load dynamic library 'libcudart.so.11.0'; dlerror: libcudart.so.11.0: cannot open shared object file: No such file or directory\n",
      "2022-11-12 19:30:54.727170: W tensorflow/stream_executor/platform/default/dso_loader.cc:64] Could not load dynamic library 'libcublas.so.11'; dlerror: libcublas.so.11: cannot open shared object file: No such file or directory\n",
      "2022-11-12 19:30:54.727208: W tensorflow/stream_executor/platform/default/dso_loader.cc:64] Could not load dynamic library 'libcublasLt.so.11'; dlerror: libcublasLt.so.11: cannot open shared object file: No such file or directory\n",
      "2022-11-12 19:30:54.729615: W tensorflow/stream_executor/platform/default/dso_loader.cc:64] Could not load dynamic library 'libcusolver.so.11'; dlerror: libcusolver.so.11: cannot open shared object file: No such file or directory\n",
      "2022-11-12 19:30:54.729684: W tensorflow/stream_executor/platform/default/dso_loader.cc:64] Could not load dynamic library 'libcusparse.so.11'; dlerror: libcusparse.so.11: cannot open shared object file: No such file or directory\n",
      "2022-11-12 19:30:54.729723: W tensorflow/stream_executor/platform/default/dso_loader.cc:64] Could not load dynamic library 'libcudnn.so.8'; dlerror: libcudnn.so.8: cannot open shared object file: No such file or directory\n",
      "2022-11-12 19:30:54.729733: W tensorflow/core/common_runtime/gpu/gpu_device.cc:1850] Cannot dlopen some GPU libraries. Please make sure the missing libraries mentioned above are installed properly if you would like to use GPU. Follow the guide at https://www.tensorflow.org/install/gpu for how to download and setup the required libraries for your platform.\n",
      "Skipping registering GPU devices...\n",
      "2022-11-12 19:30:54.731931: I tensorflow/core/platform/cpu_feature_guard.cc:193] This TensorFlow binary is optimized with oneAPI Deep Neural Network Library (oneDNN) to use the following CPU instructions in performance-critical operations:  AVX2 AVX512F AVX512_VNNI FMA\n",
      "To enable them in other operations, rebuild TensorFlow with the appropriate compiler flags.\n"
     ]
    },
    {
     "name": "stdout",
     "output_type": "stream",
     "text": [
      "Model: \"model\"\n",
      "__________________________________________________________________________________________________\n",
      " Layer (type)                   Output Shape         Param #     Connected to                     \n",
      "==================================================================================================\n",
      " consumer_consent_provided_xf (  [(None, 1)]         0           []                               \n",
      " InputLayer)                                                                                      \n",
      "                                                                                                  \n",
      " timely_xf (InputLayer)         [(None, 1)]          0           []                               \n",
      "                                                                                                  \n",
      " state_xf (InputLayer)          [(None, 1)]          0           []                               \n",
      "                                                                                                  \n",
      " product_xf (InputLayer)        [(None, 1)]          0           []                               \n",
      "                                                                                                  \n",
      " submitted_via_xf (InputLayer)  [(None, 1)]          0           []                               \n",
      "                                                                                                  \n",
      " company_response_xf (InputLaye  [(None, 1)]         0           []                               \n",
      " r)                                                                                               \n",
      "                                                                                                  \n",
      " issue_xf (InputLayer)          [(None, 1)]          0           []                               \n",
      "                                                                                                  \n",
      " concatenate (Concatenate)      (None, 7)            0           ['consumer_consent_provided_xf[0]\n",
      "                                                                 [0]',                            \n",
      "                                                                  'timely_xf[0][0]',              \n",
      "                                                                  'state_xf[0][0]',               \n",
      "                                                                  'product_xf[0][0]',             \n",
      "                                                                  'submitted_via_xf[0][0]',       \n",
      "                                                                  'company_response_xf[0][0]',    \n",
      "                                                                  'issue_xf[0][0]']               \n",
      "                                                                                                  \n",
      " dense (Dense)                  (None, 16)           128         ['concatenate[0][0]']            \n",
      "                                                                                                  \n",
      " dense_1 (Dense)                (None, 8)            136         ['dense[0][0]']                  \n",
      "                                                                                                  \n",
      " dense_2 (Dense)                (None, 1)            9           ['dense_1[0][0]']                \n",
      "                                                                                                  \n",
      "==================================================================================================\n",
      "Total params: 273\n",
      "Trainable params: 273\n",
      "Non-trainable params: 0\n",
      "__________________________________________________________________________________________________\n",
      "100000/100000 [==============================] - 104s 1ms/step - loss: 0.3880 - binary_accuracy: 0.8631 - true_positives: 73.0000 - val_loss: 0.3984 - val_binary_accuracy: 0.8588 - val_true_positives: 0.0000e+00\n",
      "INFO:tensorflow:struct2tensor is not available.\n",
      "INFO:tensorflow:tensorflow_decision_forests is not available.\n",
      "INFO:tensorflow:tensorflow_text is not available.\n",
      "INFO:tensorflow:Assets written to: census_consumer_complaint_data/census_consumer_complaint/artifact/Trainer/model/298/Format-Serving/assets\n"
     ]
    }
   ],
   "source": [
    "transform = cx.run(comp[5])"
   ]
  },
  {
   "cell_type": "markdown",
   "id": "29a65ca2",
   "metadata": {},
   "source": []
  },
  {
   "cell_type": "code",
   "execution_count": 15,
   "id": "0b45d54c",
   "metadata": {},
   "outputs": [
    {
     "data": {
      "text/plain": [
       "6"
      ]
     },
     "execution_count": 15,
     "metadata": {},
     "output_type": "execute_result"
    }
   ],
   "source": [
    "len(comp)"
   ]
  },
  {
   "cell_type": "code",
   "execution_count": null,
   "id": "322b9ad3",
   "metadata": {},
   "outputs": [],
   "source": []
  },
  {
   "cell_type": "code",
   "execution_count": null,
   "id": "454220ea",
   "metadata": {},
   "outputs": [],
   "source": []
  },
  {
   "cell_type": "code",
   "execution_count": 30,
   "id": "5617bd4a",
   "metadata": {},
   "outputs": [],
   "source": [
    "file_path=\"/home/avnish/iNeuron_Private_Intelligence_Limited/project_neuron/finance-complaint/census_consumer_complaint_data/data_source/feature_store/finance_complaint_2016-12-31_2017-12-31.parquet\""
   ]
  },
  {
   "cell_type": "code",
   "execution_count": null,
   "id": "e636b9a4",
   "metadata": {},
   "outputs": [],
   "source": [
    "import pandas as pd"
   ]
  },
  {
   "cell_type": "code",
   "execution_count": 4,
   "id": "b0832181",
   "metadata": {},
   "outputs": [],
   "source": [
    "df = pd.read_parquet(file_path)"
   ]
  },
  {
   "cell_type": "code",
   "execution_count": 5,
   "id": "fe896471",
   "metadata": {},
   "outputs": [
    {
     "data": {
      "text/plain": [
       "(72545, 18)"
      ]
     },
     "execution_count": 5,
     "metadata": {},
     "output_type": "execute_result"
    }
   ],
   "source": [
    "df.shape"
   ]
  },
  {
   "cell_type": "code",
   "execution_count": 6,
   "id": "c2757439",
   "metadata": {},
   "outputs": [],
   "source": [
    "df.dropna(axis=0,inplace=True)"
   ]
  },
  {
   "cell_type": "code",
   "execution_count": 7,
   "id": "153f32bd",
   "metadata": {},
   "outputs": [
    {
     "data": {
      "text/plain": [
       "No     883\n",
       "Yes    142\n",
       "Name: consumer_disputed, dtype: int64"
      ]
     },
     "execution_count": 7,
     "metadata": {},
     "output_type": "execute_result"
    }
   ],
   "source": [
    "df.consumer_disputed.value_counts()"
   ]
  },
  {
   "cell_type": "code",
   "execution_count": 8,
   "id": "02aa5aed",
   "metadata": {},
   "outputs": [
    {
     "name": "stderr",
     "output_type": "stream",
     "text": [
      "2022-11-10 13:31:31.845689: I tensorflow/core/util/util.cc:169] oneDNN custom operations are on. You may see slightly different numerical results due to floating-point round-off errors from different computation orders. To turn them off, set the environment variable `TF_ENABLE_ONEDNN_OPTS=0`.\n",
      "2022-11-10 13:31:31.855983: W tensorflow/stream_executor/platform/default/dso_loader.cc:64] Could not load dynamic library 'libcudart.so.11.0'; dlerror: libcudart.so.11.0: cannot open shared object file: No such file or directory\n",
      "2022-11-10 13:31:31.855998: I tensorflow/stream_executor/cuda/cudart_stub.cc:29] Ignore above cudart dlerror if you do not have a GPU set up on your machine.\n"
     ]
    }
   ],
   "source": [
    "import tensorflow as tf"
   ]
  },
  {
   "cell_type": "code",
   "execution_count": 9,
   "id": "4e053031",
   "metadata": {},
   "outputs": [
    {
     "data": {
      "text/html": [
       "<div>\n",
       "<style scoped>\n",
       "    .dataframe tbody tr th:only-of-type {\n",
       "        vertical-align: middle;\n",
       "    }\n",
       "\n",
       "    .dataframe tbody tr th {\n",
       "        vertical-align: top;\n",
       "    }\n",
       "\n",
       "    .dataframe thead th {\n",
       "        text-align: right;\n",
       "    }\n",
       "</style>\n",
       "<table border=\"1\" class=\"dataframe\">\n",
       "  <thead>\n",
       "    <tr style=\"text-align: right;\">\n",
       "      <th></th>\n",
       "      <th>product</th>\n",
       "      <th>complaint_what_happened</th>\n",
       "      <th>date_sent_to_company</th>\n",
       "      <th>issue</th>\n",
       "      <th>sub_product</th>\n",
       "      <th>zip_code</th>\n",
       "      <th>tags</th>\n",
       "      <th>complaint_id</th>\n",
       "      <th>timely</th>\n",
       "      <th>consumer_consent_provided</th>\n",
       "      <th>company_response</th>\n",
       "      <th>submitted_via</th>\n",
       "      <th>company</th>\n",
       "      <th>date_received</th>\n",
       "      <th>state</th>\n",
       "      <th>consumer_disputed</th>\n",
       "      <th>company_public_response</th>\n",
       "      <th>sub_issue</th>\n",
       "    </tr>\n",
       "  </thead>\n",
       "  <tbody>\n",
       "    <tr>\n",
       "      <th>35</th>\n",
       "      <td>Debt collection</td>\n",
       "      <td></td>\n",
       "      <td>2017-01-12T12:00:00-05:00</td>\n",
       "      <td>Cont'd attempts collect debt not owed</td>\n",
       "      <td>Other (i.e. phone, health club, etc.)</td>\n",
       "      <td>87174</td>\n",
       "      <td>Servicemember</td>\n",
       "      <td>2284205</td>\n",
       "      <td>Yes</td>\n",
       "      <td>N/A</td>\n",
       "      <td>Closed with explanation</td>\n",
       "      <td>Postal mail</td>\n",
       "      <td>NAVY FEDERAL CREDIT UNION</td>\n",
       "      <td>2017-01-11T12:00:00-05:00</td>\n",
       "      <td>NM</td>\n",
       "      <td>No</td>\n",
       "      <td>Company believes it acted appropriately as aut...</td>\n",
       "      <td>Debt is not mine</td>\n",
       "    </tr>\n",
       "    <tr>\n",
       "      <th>253</th>\n",
       "      <td>Debt collection</td>\n",
       "      <td></td>\n",
       "      <td>2017-02-12T12:00:00-05:00</td>\n",
       "      <td>Cont'd attempts collect debt not owed</td>\n",
       "      <td>Other (i.e. phone, health club, etc.)</td>\n",
       "      <td>11249</td>\n",
       "      <td>Servicemember</td>\n",
       "      <td>2340354</td>\n",
       "      <td>Yes</td>\n",
       "      <td>Consent not provided</td>\n",
       "      <td>Closed</td>\n",
       "      <td>Web</td>\n",
       "      <td>ERC</td>\n",
       "      <td>2017-02-12T12:00:00-05:00</td>\n",
       "      <td>NY</td>\n",
       "      <td>No</td>\n",
       "      <td>Company believes it acted appropriately as aut...</td>\n",
       "      <td>Debt is not mine</td>\n",
       "    </tr>\n",
       "    <tr>\n",
       "      <th>691</th>\n",
       "      <td>Debt collection</td>\n",
       "      <td></td>\n",
       "      <td>2017-04-13T12:00:00-05:00</td>\n",
       "      <td>Cont'd attempts collect debt not owed</td>\n",
       "      <td>Other (i.e. phone, health club, etc.)</td>\n",
       "      <td>29860</td>\n",
       "      <td>Servicemember</td>\n",
       "      <td>2434754</td>\n",
       "      <td>Yes</td>\n",
       "      <td>Consent not provided</td>\n",
       "      <td>Closed with explanation</td>\n",
       "      <td>Web</td>\n",
       "      <td>Monterey Financial Services LLC</td>\n",
       "      <td>2017-04-13T12:00:00-05:00</td>\n",
       "      <td>SC</td>\n",
       "      <td>No</td>\n",
       "      <td>Company believes it acted appropriately as aut...</td>\n",
       "      <td>Debt was discharged in bankruptcy</td>\n",
       "    </tr>\n",
       "    <tr>\n",
       "      <th>1634</th>\n",
       "      <td>Debt collection</td>\n",
       "      <td></td>\n",
       "      <td>2017-01-10T12:00:00-05:00</td>\n",
       "      <td>Cont'd attempts collect debt not owed</td>\n",
       "      <td>Medical</td>\n",
       "      <td>32566</td>\n",
       "      <td>Servicemember</td>\n",
       "      <td>2282267</td>\n",
       "      <td>Yes</td>\n",
       "      <td>Consent not provided</td>\n",
       "      <td>Closed with explanation</td>\n",
       "      <td>Web</td>\n",
       "      <td>HOVG, LLC</td>\n",
       "      <td>2017-01-10T12:00:00-05:00</td>\n",
       "      <td>FL</td>\n",
       "      <td>No</td>\n",
       "      <td>Company believes it acted appropriately as aut...</td>\n",
       "      <td>Debt was paid</td>\n",
       "    </tr>\n",
       "    <tr>\n",
       "      <th>2192</th>\n",
       "      <td>Debt collection</td>\n",
       "      <td></td>\n",
       "      <td>2017-02-14T12:00:00-05:00</td>\n",
       "      <td>Communication tactics</td>\n",
       "      <td>Other (i.e. phone, health club, etc.)</td>\n",
       "      <td>29303</td>\n",
       "      <td>Servicemember</td>\n",
       "      <td>2319821</td>\n",
       "      <td>Yes</td>\n",
       "      <td>N/A</td>\n",
       "      <td>Closed with explanation</td>\n",
       "      <td>Phone</td>\n",
       "      <td>Credit Central Holdings, LLC</td>\n",
       "      <td>2017-01-31T12:00:00-05:00</td>\n",
       "      <td>SC</td>\n",
       "      <td>No</td>\n",
       "      <td>Company believes it acted appropriately as aut...</td>\n",
       "      <td>Threatened to take legal action</td>\n",
       "    </tr>\n",
       "    <tr>\n",
       "      <th>...</th>\n",
       "      <td>...</td>\n",
       "      <td>...</td>\n",
       "      <td>...</td>\n",
       "      <td>...</td>\n",
       "      <td>...</td>\n",
       "      <td>...</td>\n",
       "      <td>...</td>\n",
       "      <td>...</td>\n",
       "      <td>...</td>\n",
       "      <td>...</td>\n",
       "      <td>...</td>\n",
       "      <td>...</td>\n",
       "      <td>...</td>\n",
       "      <td>...</td>\n",
       "      <td>...</td>\n",
       "      <td>...</td>\n",
       "      <td>...</td>\n",
       "      <td>...</td>\n",
       "    </tr>\n",
       "    <tr>\n",
       "      <th>241650</th>\n",
       "      <td>Debt collection</td>\n",
       "      <td>Addendum to Case # XXXX ... .This is in regard...</td>\n",
       "      <td>2017-03-06T12:00:00-05:00</td>\n",
       "      <td>Disclosure verification of debt</td>\n",
       "      <td>Other (i.e. phone, health club, etc.)</td>\n",
       "      <td>04042</td>\n",
       "      <td>Servicemember</td>\n",
       "      <td>2372192</td>\n",
       "      <td>Yes</td>\n",
       "      <td>Consent provided</td>\n",
       "      <td>Closed with explanation</td>\n",
       "      <td>Web</td>\n",
       "      <td>Fidelity National Information Services, Inc. (...</td>\n",
       "      <td>2017-03-06T12:00:00-05:00</td>\n",
       "      <td>ME</td>\n",
       "      <td>No</td>\n",
       "      <td>Company has responded to the consumer and the ...</td>\n",
       "      <td>Right to dispute notice not received</td>\n",
       "    </tr>\n",
       "    <tr>\n",
       "      <th>241657</th>\n",
       "      <td>Debt collection</td>\n",
       "      <td></td>\n",
       "      <td>2017-03-22T12:00:00-05:00</td>\n",
       "      <td>Disclosure verification of debt</td>\n",
       "      <td>Medical</td>\n",
       "      <td>56688</td>\n",
       "      <td>Servicemember</td>\n",
       "      <td>2400323</td>\n",
       "      <td>Yes</td>\n",
       "      <td>Consent not provided</td>\n",
       "      <td>Closed with explanation</td>\n",
       "      <td>Web</td>\n",
       "      <td>SYNCHRONY FINANCIAL</td>\n",
       "      <td>2017-03-22T12:00:00-05:00</td>\n",
       "      <td>MN</td>\n",
       "      <td>No</td>\n",
       "      <td>Company has responded to the consumer and the ...</td>\n",
       "      <td>Not given enough info to verify debt</td>\n",
       "    </tr>\n",
       "    <tr>\n",
       "      <th>242060</th>\n",
       "      <td>Debt collection</td>\n",
       "      <td>I have a loan from Equitable Acceptance. They ...</td>\n",
       "      <td>2017-03-29T12:00:00-05:00</td>\n",
       "      <td>Communication tactics</td>\n",
       "      <td>Other (i.e. phone, health club, etc.)</td>\n",
       "      <td>20774</td>\n",
       "      <td>Servicemember</td>\n",
       "      <td>2410066</td>\n",
       "      <td>Yes</td>\n",
       "      <td>Consent provided</td>\n",
       "      <td>Closed with explanation</td>\n",
       "      <td>Web</td>\n",
       "      <td>Equitable Acceptance Corp</td>\n",
       "      <td>2017-03-29T12:00:00-05:00</td>\n",
       "      <td>MD</td>\n",
       "      <td>No</td>\n",
       "      <td>Company believes it acted appropriately as aut...</td>\n",
       "      <td>Frequent or repeated calls</td>\n",
       "    </tr>\n",
       "    <tr>\n",
       "      <th>242665</th>\n",
       "      <td>Debt collection</td>\n",
       "      <td>I have disputed this debt numerous times and t...</td>\n",
       "      <td>2017-02-13T12:00:00-05:00</td>\n",
       "      <td>Cont'd attempts collect debt not owed</td>\n",
       "      <td>I do not know</td>\n",
       "      <td>84054</td>\n",
       "      <td>Servicemember</td>\n",
       "      <td>2341555</td>\n",
       "      <td>Yes</td>\n",
       "      <td>Consent provided</td>\n",
       "      <td>Closed with non-monetary relief</td>\n",
       "      <td>Web</td>\n",
       "      <td>Trident Asset Management, L.L.C.</td>\n",
       "      <td>2017-02-13T12:00:00-05:00</td>\n",
       "      <td>UT</td>\n",
       "      <td>No</td>\n",
       "      <td>Company believes it acted appropriately as aut...</td>\n",
       "      <td>Debt resulted from identity theft</td>\n",
       "    </tr>\n",
       "    <tr>\n",
       "      <th>242964</th>\n",
       "      <td>Debt collection</td>\n",
       "      <td></td>\n",
       "      <td>2017-04-18T12:00:00-05:00</td>\n",
       "      <td>Communication tactics</td>\n",
       "      <td>I do not know</td>\n",
       "      <td>46032</td>\n",
       "      <td>Older American</td>\n",
       "      <td>2414728</td>\n",
       "      <td>Yes</td>\n",
       "      <td>Consent not provided</td>\n",
       "      <td>Closed with explanation</td>\n",
       "      <td>Web</td>\n",
       "      <td>Navient Solutions, LLC.</td>\n",
       "      <td>2017-04-01T12:00:00-05:00</td>\n",
       "      <td>IN</td>\n",
       "      <td>No</td>\n",
       "      <td>Company has responded to the consumer and the ...</td>\n",
       "      <td>Frequent or repeated calls</td>\n",
       "    </tr>\n",
       "  </tbody>\n",
       "</table>\n",
       "<p>1025 rows × 18 columns</p>\n",
       "</div>"
      ],
      "text/plain": [
       "                product                            complaint_what_happened  \\\n",
       "35      Debt collection                                                      \n",
       "253     Debt collection                                                      \n",
       "691     Debt collection                                                      \n",
       "1634    Debt collection                                                      \n",
       "2192    Debt collection                                                      \n",
       "...                 ...                                                ...   \n",
       "241650  Debt collection  Addendum to Case # XXXX ... .This is in regard...   \n",
       "241657  Debt collection                                                      \n",
       "242060  Debt collection  I have a loan from Equitable Acceptance. They ...   \n",
       "242665  Debt collection  I have disputed this debt numerous times and t...   \n",
       "242964  Debt collection                                                      \n",
       "\n",
       "             date_sent_to_company                                  issue  \\\n",
       "35      2017-01-12T12:00:00-05:00  Cont'd attempts collect debt not owed   \n",
       "253     2017-02-12T12:00:00-05:00  Cont'd attempts collect debt not owed   \n",
       "691     2017-04-13T12:00:00-05:00  Cont'd attempts collect debt not owed   \n",
       "1634    2017-01-10T12:00:00-05:00  Cont'd attempts collect debt not owed   \n",
       "2192    2017-02-14T12:00:00-05:00                  Communication tactics   \n",
       "...                           ...                                    ...   \n",
       "241650  2017-03-06T12:00:00-05:00        Disclosure verification of debt   \n",
       "241657  2017-03-22T12:00:00-05:00        Disclosure verification of debt   \n",
       "242060  2017-03-29T12:00:00-05:00                  Communication tactics   \n",
       "242665  2017-02-13T12:00:00-05:00  Cont'd attempts collect debt not owed   \n",
       "242964  2017-04-18T12:00:00-05:00                  Communication tactics   \n",
       "\n",
       "                                  sub_product zip_code            tags  \\\n",
       "35      Other (i.e. phone, health club, etc.)    87174   Servicemember   \n",
       "253     Other (i.e. phone, health club, etc.)    11249   Servicemember   \n",
       "691     Other (i.e. phone, health club, etc.)    29860   Servicemember   \n",
       "1634                                  Medical    32566   Servicemember   \n",
       "2192    Other (i.e. phone, health club, etc.)    29303   Servicemember   \n",
       "...                                       ...      ...             ...   \n",
       "241650  Other (i.e. phone, health club, etc.)    04042   Servicemember   \n",
       "241657                                Medical    56688   Servicemember   \n",
       "242060  Other (i.e. phone, health club, etc.)    20774   Servicemember   \n",
       "242665                          I do not know    84054   Servicemember   \n",
       "242964                          I do not know    46032  Older American   \n",
       "\n",
       "        complaint_id timely consumer_consent_provided  \\\n",
       "35           2284205    Yes                       N/A   \n",
       "253          2340354    Yes      Consent not provided   \n",
       "691          2434754    Yes      Consent not provided   \n",
       "1634         2282267    Yes      Consent not provided   \n",
       "2192         2319821    Yes                       N/A   \n",
       "...              ...    ...                       ...   \n",
       "241650       2372192    Yes          Consent provided   \n",
       "241657       2400323    Yes      Consent not provided   \n",
       "242060       2410066    Yes          Consent provided   \n",
       "242665       2341555    Yes          Consent provided   \n",
       "242964       2414728    Yes      Consent not provided   \n",
       "\n",
       "                       company_response submitted_via  \\\n",
       "35              Closed with explanation   Postal mail   \n",
       "253                              Closed           Web   \n",
       "691             Closed with explanation           Web   \n",
       "1634            Closed with explanation           Web   \n",
       "2192            Closed with explanation         Phone   \n",
       "...                                 ...           ...   \n",
       "241650          Closed with explanation           Web   \n",
       "241657          Closed with explanation           Web   \n",
       "242060          Closed with explanation           Web   \n",
       "242665  Closed with non-monetary relief           Web   \n",
       "242964          Closed with explanation           Web   \n",
       "\n",
       "                                                  company  \\\n",
       "35                              NAVY FEDERAL CREDIT UNION   \n",
       "253                                                   ERC   \n",
       "691                       Monterey Financial Services LLC   \n",
       "1634                                            HOVG, LLC   \n",
       "2192                         Credit Central Holdings, LLC   \n",
       "...                                                   ...   \n",
       "241650  Fidelity National Information Services, Inc. (...   \n",
       "241657                                SYNCHRONY FINANCIAL   \n",
       "242060                          Equitable Acceptance Corp   \n",
       "242665                   Trident Asset Management, L.L.C.   \n",
       "242964                            Navient Solutions, LLC.   \n",
       "\n",
       "                    date_received state consumer_disputed  \\\n",
       "35      2017-01-11T12:00:00-05:00    NM                No   \n",
       "253     2017-02-12T12:00:00-05:00    NY                No   \n",
       "691     2017-04-13T12:00:00-05:00    SC                No   \n",
       "1634    2017-01-10T12:00:00-05:00    FL                No   \n",
       "2192    2017-01-31T12:00:00-05:00    SC                No   \n",
       "...                           ...   ...               ...   \n",
       "241650  2017-03-06T12:00:00-05:00    ME                No   \n",
       "241657  2017-03-22T12:00:00-05:00    MN                No   \n",
       "242060  2017-03-29T12:00:00-05:00    MD                No   \n",
       "242665  2017-02-13T12:00:00-05:00    UT                No   \n",
       "242964  2017-04-01T12:00:00-05:00    IN                No   \n",
       "\n",
       "                                  company_public_response  \\\n",
       "35      Company believes it acted appropriately as aut...   \n",
       "253     Company believes it acted appropriately as aut...   \n",
       "691     Company believes it acted appropriately as aut...   \n",
       "1634    Company believes it acted appropriately as aut...   \n",
       "2192    Company believes it acted appropriately as aut...   \n",
       "...                                                   ...   \n",
       "241650  Company has responded to the consumer and the ...   \n",
       "241657  Company has responded to the consumer and the ...   \n",
       "242060  Company believes it acted appropriately as aut...   \n",
       "242665  Company believes it acted appropriately as aut...   \n",
       "242964  Company has responded to the consumer and the ...   \n",
       "\n",
       "                                   sub_issue  \n",
       "35                          Debt is not mine  \n",
       "253                         Debt is not mine  \n",
       "691        Debt was discharged in bankruptcy  \n",
       "1634                           Debt was paid  \n",
       "2192         Threatened to take legal action  \n",
       "...                                      ...  \n",
       "241650  Right to dispute notice not received  \n",
       "241657  Not given enough info to verify debt  \n",
       "242060            Frequent or repeated calls  \n",
       "242665     Debt resulted from identity theft  \n",
       "242964            Frequent or repeated calls  \n",
       "\n",
       "[1025 rows x 18 columns]"
      ]
     },
     "execution_count": 9,
     "metadata": {},
     "output_type": "execute_result"
    }
   ],
   "source": [
    "df"
   ]
  },
  {
   "cell_type": "code",
   "execution_count": 10,
   "id": "9ba172df",
   "metadata": {},
   "outputs": [
    {
     "name": "stderr",
     "output_type": "stream",
     "text": [
      "2022-11-10 13:32:10.061590: I tensorflow/stream_executor/cuda/cuda_gpu_executor.cc:975] successful NUMA node read from SysFS had negative value (-1), but there must be at least one NUMA node, so returning NUMA node zero\n",
      "2022-11-10 13:32:10.061977: W tensorflow/stream_executor/platform/default/dso_loader.cc:64] Could not load dynamic library 'libcudart.so.11.0'; dlerror: libcudart.so.11.0: cannot open shared object file: No such file or directory\n",
      "2022-11-10 13:32:10.062026: W tensorflow/stream_executor/platform/default/dso_loader.cc:64] Could not load dynamic library 'libcublas.so.11'; dlerror: libcublas.so.11: cannot open shared object file: No such file or directory\n",
      "2022-11-10 13:32:10.062056: W tensorflow/stream_executor/platform/default/dso_loader.cc:64] Could not load dynamic library 'libcublasLt.so.11'; dlerror: libcublasLt.so.11: cannot open shared object file: No such file or directory\n",
      "2022-11-10 13:32:10.069340: W tensorflow/stream_executor/platform/default/dso_loader.cc:64] Could not load dynamic library 'libcusolver.so.11'; dlerror: libcusolver.so.11: cannot open shared object file: No such file or directory\n",
      "2022-11-10 13:32:10.069403: W tensorflow/stream_executor/platform/default/dso_loader.cc:64] Could not load dynamic library 'libcusparse.so.11'; dlerror: libcusparse.so.11: cannot open shared object file: No such file or directory\n",
      "2022-11-10 13:32:10.069444: W tensorflow/stream_executor/platform/default/dso_loader.cc:64] Could not load dynamic library 'libcudnn.so.8'; dlerror: libcudnn.so.8: cannot open shared object file: No such file or directory\n",
      "2022-11-10 13:32:10.069452: W tensorflow/core/common_runtime/gpu/gpu_device.cc:1850] Cannot dlopen some GPU libraries. Please make sure the missing libraries mentioned above are installed properly if you would like to use GPU. Follow the guide at https://www.tensorflow.org/install/gpu for how to download and setup the required libraries for your platform.\n",
      "Skipping registering GPU devices...\n",
      "2022-11-10 13:32:10.070032: I tensorflow/core/platform/cpu_feature_guard.cc:193] This TensorFlow binary is optimized with oneAPI Deep Neural Network Library (oneDNN) to use the following CPU instructions in performance-critical operations:  AVX2 AVX512F AVX512_VNNI FMA\n",
      "To enable them in other operations, rebuild TensorFlow with the appropriate compiler flags.\n"
     ]
    }
   ],
   "source": [
    "dataset= {}\n",
    "for column in df.columns:\n",
    "    dataset[column]=tf.constant(df[column].values)"
   ]
  },
  {
   "cell_type": "code",
   "execution_count": 12,
   "id": "b783a255",
   "metadata": {},
   "outputs": [
    {
     "data": {
      "text/plain": [
       "<tf.Tensor: shape=(1025,), dtype=string, numpy=\n",
       "array([b'Debt collection', b'Debt collection', b'Debt collection', ...,\n",
       "       b'Debt collection', b'Debt collection', b'Debt collection'],\n",
       "      dtype=object)>"
      ]
     },
     "execution_count": 12,
     "metadata": {},
     "output_type": "execute_result"
    }
   ],
   "source": [
    "dataset['product']"
   ]
  },
  {
   "cell_type": "code",
   "execution_count": 13,
   "id": "5b28f5be",
   "metadata": {},
   "outputs": [],
   "source": [
    "from census_consumer_complaint.config.schema import CensusDatasetSchema"
   ]
  },
  {
   "cell_type": "code",
   "execution_count": 23,
   "id": "3afc2e8c",
   "metadata": {},
   "outputs": [],
   "source": [
    "schema= CensusDatasetSchema()"
   ]
  },
  {
   "cell_type": "code",
   "execution_count": 24,
   "id": "ce03f23a",
   "metadata": {},
   "outputs": [
    {
     "data": {
      "text/plain": [
       "<tf.Tensor: shape=(1025,), dtype=string, numpy=\n",
       "array([b'NAVY FEDERAL CREDIT UNION', b'ERC',\n",
       "       b'Monterey Financial Services LLC', ...,\n",
       "       b'Equitable Acceptance Corp', b'Trident Asset Management, L.L.C.',\n",
       "       b'Navient Solutions, LLC.'], dtype=object)>"
      ]
     },
     "execution_count": 24,
     "metadata": {},
     "output_type": "execute_result"
    }
   ],
   "source": [
    "dataset[schema.company]"
   ]
  },
  {
   "cell_type": "code",
   "execution_count": 25,
   "id": "0b02edf1",
   "metadata": {},
   "outputs": [
    {
     "data": {
      "text/plain": [
       "['consumer_consent_provided', 'timely', 'state']"
      ]
     },
     "execution_count": 25,
     "metadata": {},
     "output_type": "execute_result"
    }
   ],
   "source": [
    "schema.one_hot_features"
   ]
  },
  {
   "cell_type": "code",
   "execution_count": 26,
   "id": "a9f9d4db",
   "metadata": {},
   "outputs": [],
   "source": [
    "import tensorflow_data_validation as tfdv"
   ]
  },
  {
   "cell_type": "code",
   "execution_count": 27,
   "id": "d99919c5",
   "metadata": {},
   "outputs": [],
   "source": [
    "dataset_schema = tfdv.load_schema_text(\"/home/avnish/iNeuron_Private_Intelligence_Limited/project_neuron/finance-complaint/census_consumer_complaint_data/census_consumer_complaint/artifact/SchemaGen/schema/134/schema.pbtxt\")"
   ]
  },
  {
   "cell_type": "code",
   "execution_count": 28,
   "id": "f8935001",
   "metadata": {},
   "outputs": [
    {
     "data": {
      "text/html": [
       "<div>\n",
       "<style scoped>\n",
       "    .dataframe tbody tr th:only-of-type {\n",
       "        vertical-align: middle;\n",
       "    }\n",
       "\n",
       "    .dataframe tbody tr th {\n",
       "        vertical-align: top;\n",
       "    }\n",
       "\n",
       "    .dataframe thead th {\n",
       "        text-align: right;\n",
       "    }\n",
       "</style>\n",
       "<table border=\"1\" class=\"dataframe\">\n",
       "  <thead>\n",
       "    <tr style=\"text-align: right;\">\n",
       "      <th></th>\n",
       "      <th>Type</th>\n",
       "      <th>Presence</th>\n",
       "      <th>Valency</th>\n",
       "      <th>Domain</th>\n",
       "    </tr>\n",
       "    <tr>\n",
       "      <th>Feature name</th>\n",
       "      <th></th>\n",
       "      <th></th>\n",
       "      <th></th>\n",
       "      <th></th>\n",
       "    </tr>\n",
       "  </thead>\n",
       "  <tbody>\n",
       "    <tr>\n",
       "      <th>'__index_level_0__'</th>\n",
       "      <td>INT</td>\n",
       "      <td>required</td>\n",
       "      <td></td>\n",
       "      <td>-</td>\n",
       "    </tr>\n",
       "    <tr>\n",
       "      <th>'company'</th>\n",
       "      <td>BYTES</td>\n",
       "      <td>required</td>\n",
       "      <td></td>\n",
       "      <td>-</td>\n",
       "    </tr>\n",
       "    <tr>\n",
       "      <th>'company_public_response'</th>\n",
       "      <td>STRING</td>\n",
       "      <td>optional</td>\n",
       "      <td>single</td>\n",
       "      <td>'company_public_response'</td>\n",
       "    </tr>\n",
       "    <tr>\n",
       "      <th>'company_response'</th>\n",
       "      <td>STRING</td>\n",
       "      <td>required</td>\n",
       "      <td></td>\n",
       "      <td>'company_response'</td>\n",
       "    </tr>\n",
       "    <tr>\n",
       "      <th>'complaint_id'</th>\n",
       "      <td>INT</td>\n",
       "      <td>required</td>\n",
       "      <td></td>\n",
       "      <td>-</td>\n",
       "    </tr>\n",
       "    <tr>\n",
       "      <th>'complaint_what_happened'</th>\n",
       "      <td>BYTES</td>\n",
       "      <td>required</td>\n",
       "      <td></td>\n",
       "      <td>-</td>\n",
       "    </tr>\n",
       "    <tr>\n",
       "      <th>'consumer_consent_provided'</th>\n",
       "      <td>STRING</td>\n",
       "      <td>optional</td>\n",
       "      <td>single</td>\n",
       "      <td>'consumer_consent_provided'</td>\n",
       "    </tr>\n",
       "    <tr>\n",
       "      <th>'consumer_disputed'</th>\n",
       "      <td>STRING</td>\n",
       "      <td>required</td>\n",
       "      <td></td>\n",
       "      <td>'consumer_disputed'</td>\n",
       "    </tr>\n",
       "    <tr>\n",
       "      <th>'date_received'</th>\n",
       "      <td>BYTES</td>\n",
       "      <td>required</td>\n",
       "      <td></td>\n",
       "      <td>-</td>\n",
       "    </tr>\n",
       "    <tr>\n",
       "      <th>'date_sent_to_company'</th>\n",
       "      <td>BYTES</td>\n",
       "      <td>required</td>\n",
       "      <td></td>\n",
       "      <td>-</td>\n",
       "    </tr>\n",
       "    <tr>\n",
       "      <th>'issue'</th>\n",
       "      <td>STRING</td>\n",
       "      <td>required</td>\n",
       "      <td></td>\n",
       "      <td>'issue'</td>\n",
       "    </tr>\n",
       "    <tr>\n",
       "      <th>'product'</th>\n",
       "      <td>STRING</td>\n",
       "      <td>required</td>\n",
       "      <td></td>\n",
       "      <td>'product'</td>\n",
       "    </tr>\n",
       "    <tr>\n",
       "      <th>'state'</th>\n",
       "      <td>STRING</td>\n",
       "      <td>optional</td>\n",
       "      <td>single</td>\n",
       "      <td>'state'</td>\n",
       "    </tr>\n",
       "    <tr>\n",
       "      <th>'sub_issue'</th>\n",
       "      <td>STRING</td>\n",
       "      <td>optional</td>\n",
       "      <td>single</td>\n",
       "      <td>'sub_issue'</td>\n",
       "    </tr>\n",
       "    <tr>\n",
       "      <th>'sub_product'</th>\n",
       "      <td>STRING</td>\n",
       "      <td>optional</td>\n",
       "      <td>single</td>\n",
       "      <td>'sub_product'</td>\n",
       "    </tr>\n",
       "    <tr>\n",
       "      <th>'submitted_via'</th>\n",
       "      <td>STRING</td>\n",
       "      <td>required</td>\n",
       "      <td></td>\n",
       "      <td>'submitted_via'</td>\n",
       "    </tr>\n",
       "    <tr>\n",
       "      <th>'tags'</th>\n",
       "      <td>STRING</td>\n",
       "      <td>optional</td>\n",
       "      <td>single</td>\n",
       "      <td>'tags'</td>\n",
       "    </tr>\n",
       "    <tr>\n",
       "      <th>'timely'</th>\n",
       "      <td>STRING</td>\n",
       "      <td>required</td>\n",
       "      <td></td>\n",
       "      <td>'timely'</td>\n",
       "    </tr>\n",
       "    <tr>\n",
       "      <th>'zip_code'</th>\n",
       "      <td>BYTES</td>\n",
       "      <td>optional</td>\n",
       "      <td>single</td>\n",
       "      <td>-</td>\n",
       "    </tr>\n",
       "  </tbody>\n",
       "</table>\n",
       "</div>"
      ],
      "text/plain": [
       "                               Type  Presence Valency  \\\n",
       "Feature name                                            \n",
       "'__index_level_0__'             INT  required           \n",
       "'company'                     BYTES  required           \n",
       "'company_public_response'    STRING  optional  single   \n",
       "'company_response'           STRING  required           \n",
       "'complaint_id'                  INT  required           \n",
       "'complaint_what_happened'     BYTES  required           \n",
       "'consumer_consent_provided'  STRING  optional  single   \n",
       "'consumer_disputed'          STRING  required           \n",
       "'date_received'               BYTES  required           \n",
       "'date_sent_to_company'        BYTES  required           \n",
       "'issue'                      STRING  required           \n",
       "'product'                    STRING  required           \n",
       "'state'                      STRING  optional  single   \n",
       "'sub_issue'                  STRING  optional  single   \n",
       "'sub_product'                STRING  optional  single   \n",
       "'submitted_via'              STRING  required           \n",
       "'tags'                       STRING  optional  single   \n",
       "'timely'                     STRING  required           \n",
       "'zip_code'                    BYTES  optional  single   \n",
       "\n",
       "                                                  Domain  \n",
       "Feature name                                              \n",
       "'__index_level_0__'                                    -  \n",
       "'company'                                              -  \n",
       "'company_public_response'      'company_public_response'  \n",
       "'company_response'                    'company_response'  \n",
       "'complaint_id'                                         -  \n",
       "'complaint_what_happened'                              -  \n",
       "'consumer_consent_provided'  'consumer_consent_provided'  \n",
       "'consumer_disputed'                  'consumer_disputed'  \n",
       "'date_received'                                        -  \n",
       "'date_sent_to_company'                                 -  \n",
       "'issue'                                          'issue'  \n",
       "'product'                                      'product'  \n",
       "'state'                                          'state'  \n",
       "'sub_issue'                                  'sub_issue'  \n",
       "'sub_product'                              'sub_product'  \n",
       "'submitted_via'                          'submitted_via'  \n",
       "'tags'                                            'tags'  \n",
       "'timely'                                        'timely'  \n",
       "'zip_code'                                             -  "
      ]
     },
     "metadata": {},
     "output_type": "display_data"
    },
    {
     "data": {
      "text/html": [
       "<div>\n",
       "<style scoped>\n",
       "    .dataframe tbody tr th:only-of-type {\n",
       "        vertical-align: middle;\n",
       "    }\n",
       "\n",
       "    .dataframe tbody tr th {\n",
       "        vertical-align: top;\n",
       "    }\n",
       "\n",
       "    .dataframe thead th {\n",
       "        text-align: right;\n",
       "    }\n",
       "</style>\n",
       "<table border=\"1\" class=\"dataframe\">\n",
       "  <thead>\n",
       "    <tr style=\"text-align: right;\">\n",
       "      <th></th>\n",
       "      <th>Values</th>\n",
       "    </tr>\n",
       "    <tr>\n",
       "      <th>Domain</th>\n",
       "      <th></th>\n",
       "    </tr>\n",
       "  </thead>\n",
       "  <tbody>\n",
       "    <tr>\n",
       "      <th>'company_public_response'</th>\n",
       "      <td>'Company believes complaint caused principally by actions of third party outside the control or direction of the company', 'Company believes complaint is the result of an isolated error', 'Company believes complaint relates to a discontinued policy or procedure', 'Company believes complaint represents an opportunity for improvement to better serve consumers', 'Company believes it acted appropriately as authorized by contract or law', 'Company believes the complaint is the result of a misunderstanding', 'Company can\\'t verify or dispute the facts in the complaint', 'Company chooses not to provide a public response', 'Company disputes the facts presented in the complaint', 'Company has responded to the consumer and the CFPB and chooses not to provide a public response'</td>\n",
       "    </tr>\n",
       "    <tr>\n",
       "      <th>'company_response'</th>\n",
       "      <td>'Closed', 'Closed with explanation', 'Closed with monetary relief', 'Closed with non-monetary relief', 'Closed with relief', 'Closed without relief', 'Untimely response'</td>\n",
       "    </tr>\n",
       "    <tr>\n",
       "      <th>'consumer_consent_provided'</th>\n",
       "      <td>'Consent not provided', 'Consent provided', 'Consent withdrawn', 'N/A', 'Other'</td>\n",
       "    </tr>\n",
       "    <tr>\n",
       "      <th>'consumer_disputed'</th>\n",
       "      <td>'No', 'Yes'</td>\n",
       "    </tr>\n",
       "    <tr>\n",
       "      <th>'issue'</th>\n",
       "      <td>'APR or interest rate', 'Account opening, closing, or management', 'Account terms and changes', 'Adding money', 'Advertising and marketing', 'Advertising, marketing or disclosures', 'Application processing delay', 'Application, originator, mortgage broker', 'Applied for loan/did not receive money', 'Arbitration', 'Balance transfer', 'Balance transfer fee', 'Bankruptcy', 'Billing disputes', 'Billing statement', 'Can\\'t contact lender', 'Can\\'t repay my loan', 'Can\\'t stop charges to bank account', 'Cash advance', 'Cash advance fee', 'Charged bank acct wrong day or amt', 'Charged fees or interest I didn\\'t expect', 'Closing/Cancelling account', 'Collection debt dispute', 'Collection practices', 'Communication tactics', 'Cont\\'d attempts collect debt not owed', 'Convenience checks', 'Credit card protection / Debt protection', 'Credit decision / Underwriting', 'Credit determination', 'Credit line increase/decrease', 'Credit monitoring or identity protection', 'Credit reporting', 'Credit reporting company\\'s investigation', 'Customer service / Customer relations', 'Customer service/Customer relations', 'Dealing with my lender or servicer', 'Delinquent account', 'Deposits and withdrawals', 'Disclosure verification of debt', 'Disclosures', 'Excessive fees', 'False statements or representation', 'Fees', 'Forbearance / Workout plans', 'Fraud or scam', 'Getting a loan', 'Identity theft / Fraud / Embezzlement', 'Improper contact or sharing of info', 'Improper use of my credit report', 'Incorrect exchange rate', 'Incorrect information on credit report', 'Incorrect/missing disclosures or info', 'Late fee', 'Lender damaged or destroyed property', 'Lender damaged or destroyed vehicle', 'Lender repossessed or sold the vehicle', 'Lender sold the property', 'Loan modification,collection,foreclosure', 'Loan servicing, payments, escrow account', 'Lost or stolen check', 'Lost or stolen money order', 'Making/receiving payments, sending money', 'Managing an account', 'Managing the line of credit', 'Managing the loan or lease', 'Managing, opening, or closing account', 'Money was not available when promised', 'Opening an account', 'Other', 'Other fee', 'Other service issues', 'Other transaction issues', 'Overdraft, savings or rewards features', 'Overlimit fee', 'Payment to acct not credited', 'Payoff process', 'Privacy', 'Problems caused by my funds being low', 'Problems when you are unable to pay', 'Received a loan I didn\\'t apply for', 'Repaying your loan', 'Rewards', 'Sale of account', 'Settlement process and costs', 'Shopping for a line of credit', 'Shopping for a loan or lease', 'Struggling to pay mortgage', 'Taking out the loan or lease', 'Taking/threatening an illegal action', 'Transaction issue', 'Trouble during payment process', 'Unable to get credit report/credit score', 'Unauthorized transactions/trans. issues', 'Unexpected/Other fees', 'Unsolicited issuance of credit card', 'Using a debit or ATM card', 'Wrong amount charged or received'</td>\n",
       "    </tr>\n",
       "    <tr>\n",
       "      <th>'product'</th>\n",
       "      <td>'Bank account or service', 'Checking or savings account', 'Consumer Loan', 'Credit card', 'Credit reporting', 'Debt collection', 'Money transfers', 'Mortgage', 'Other financial service', 'Payday loan', 'Prepaid card', 'Student loan', 'Virtual currency'</td>\n",
       "    </tr>\n",
       "    <tr>\n",
       "      <th>'state'</th>\n",
       "      <td>'AA', 'AE', 'AK', 'AL', 'AP', 'AR', 'AS', 'AZ', 'CA', 'CO', 'CT', 'DC', 'DE', 'FL', 'FM', 'GA', 'GU', 'HI', 'IA', 'ID', 'IL', 'IN', 'KS', 'KY', 'LA', 'MA', 'MD', 'ME', 'MH', 'MI', 'MN', 'MO', 'MP', 'MS', 'MT', 'NC', 'ND', 'NE', 'NH', 'NJ', 'NM', 'NV', 'NY', 'OH', 'OK', 'OR', 'PA', 'PR', 'PW', 'RI', 'SC', 'SD', 'TN', 'TX', 'UT', 'VA', 'VI', 'VT', 'WA', 'WI', 'WV', 'WY'</td>\n",
       "    </tr>\n",
       "    <tr>\n",
       "      <th>'sub_issue'</th>\n",
       "      <td>'Account opened as a result of fraud', 'Account status', 'Account terms', 'Account terms and changes', 'Attempted to collect wrong amount', 'Attempted to/Collected exempt funds', 'Billing dispute', 'Called after sent written cease of comm', 'Called outside of 8am-9pm', 'Can\\'t decrease my monthly payments', 'Can\\'t get flexible payment options', 'Can\\'t qualify for a loan', 'Can\\'t temporarily postpone payments', 'Contacted employer after asked not to', 'Contacted me after I asked not to', 'Contacted me instead of my attorney', 'Debt is not mine', 'Debt resulted from identity theft', 'Debt was discharged in bankruptcy', 'Debt was paid', 'Don\\'t agree with fees charged', 'Frequent or repeated calls', 'Having problems with customer service', 'Impersonated an attorney or official', 'Inadequate help over the phone', 'Indicated committed crime not paying', 'Indicated shouldn\\'t respond to lawsuit', 'Information is not mine', 'Insurance terms', 'Investigation took too long', 'Keep getting calls about my loan', 'Need information about my balance/terms', 'No notice of investigation status/result', 'Not disclosed as an attempt to collect', 'Not given enough info to verify debt', 'Personal information', 'Problem accessing account', 'Problem cancelling or closing account', 'Problem getting my free annual report', 'Problem getting report or credit score', 'Problem with fraud alerts', 'Problem with statement of dispute', 'Public record', 'Qualify for a better loan than offered', 'Received bad information about my loan', 'Received marketing offer after opted out', 'Receiving unwanted marketing/advertising', 'Reinserted previously deleted info', 'Report improperly shared by CRC', 'Report shared with employer w/o consent', 'Right to dispute notice not received', 'Seized/Attempted to seize property', 'Sued w/o proper notification of suit', 'Sued where didn\\'t live/sign for debt', 'Talked to a third party about my debt', 'Threatened arrest/jail if do not pay', 'Threatened to sue on too old debt', 'Threatened to take legal action', 'Trouble with how payments are handled', 'Used obscene/profane/abusive language', 'Deposits and withdrawals'</td>\n",
       "    </tr>\n",
       "    <tr>\n",
       "      <th>'sub_product'</th>\n",
       "      <td>'(CD) Certificate of deposit', 'Auto', 'Cashing a check without an account', 'Check cashing', 'Checking account', 'Conventional adjustable mortgage (ARM)', 'Conventional fixed mortgage', 'Conventional home mortgage', 'Credit card', 'Credit repair', 'Debt settlement', 'Domestic (US) money transfer', 'Electronic Benefit Transfer / EBT card', 'FHA mortgage', 'Federal student loan', 'Federal student loan servicing', 'Foreign currency exchange', 'General purpose card', 'Gift or merchant card', 'Government benefit payment card', 'Home equity loan or line of credit', 'I do not know', 'ID prepaid card', 'Installment loan', 'International money transfer', 'Medical', 'Mobile wallet', 'Money order', 'Mortgage', 'Non-federal student loan', 'Other (i.e. phone, health club, etc.)', 'Other bank product/service', 'Other banking product or service', 'Other mortgage', 'Other special purpose card', 'Other type of mortgage', 'Pawn loan', 'Payday loan', 'Payroll card', 'Personal line of credit', 'Refund anticipation check', 'Reverse mortgage', 'Savings account', 'Second mortgage', 'Title loan', 'Transit card', 'Traveler’s/Cashier’s checks', 'VA mortgage', 'Vehicle lease', 'Vehicle loan'</td>\n",
       "    </tr>\n",
       "    <tr>\n",
       "      <th>'submitted_via'</th>\n",
       "      <td>'Email', 'Fax', 'Phone', 'Postal mail', 'Referral', 'Web'</td>\n",
       "    </tr>\n",
       "    <tr>\n",
       "      <th>'tags'</th>\n",
       "      <td>'Older American', 'Older American, Servicemember', 'Servicemember'</td>\n",
       "    </tr>\n",
       "    <tr>\n",
       "      <th>'timely'</th>\n",
       "      <td>'No', 'Yes'</td>\n",
       "    </tr>\n",
       "  </tbody>\n",
       "</table>\n",
       "</div>"
      ],
      "text/plain": [
       "                                                                                                                                                                                                                                                                                                                                                                                                                                                                                                                                                                                                                                                                                                                                                                                                                                                                                                                                                                                                                                                                                                                                                                                                                                                                                                                                                                                                                                                                                                                                                                                                                                                                                                                                                                                                                                                                                                                                                                                                                                                                                                                                                                                                                                                                                                                                                                                                                                                                                                                                                                                                                                                                                                                                                                                                                                                                                                                                                                                                                                                                                                                        Values\n",
       "Domain                                                                                                                                                                                                                                                                                                                                                                                                                                                                                                                                                                                                                                                                                                                                                                                                                                                                                                                                                                                                                                                                                                                                                                                                                                                                                                                                                                                                                                                                                                                                                                                                                                                                                                                                                                                                                                                                                                                                                                                                                                                                                                                                                                                                                                                                                                                                                                                                                                                                                                                                                                                                                                                                                                                                                                                                                                                                                                                                                                                                                                                                                                                        \n",
       "'company_public_response'                                                                                                                                                                                                                                                                                                                                                                                                                                                                                                                                                                                                                                                                                                                                                                                                                                                                                                                                                                                                                                                                                                                                                                                                                                                                                                                                                                                                                                                                                                                                                                                                                                                                                                                                                                                                                                                                                                                                                                                                                                                                                                                                                                                                                                                                                            'Company believes complaint caused principally by actions of third party outside the control or direction of the company', 'Company believes complaint is the result of an isolated error', 'Company believes complaint relates to a discontinued policy or procedure', 'Company believes complaint represents an opportunity for improvement to better serve consumers', 'Company believes it acted appropriately as authorized by contract or law', 'Company believes the complaint is the result of a misunderstanding', 'Company can\\'t verify or dispute the facts in the complaint', 'Company chooses not to provide a public response', 'Company disputes the facts presented in the complaint', 'Company has responded to the consumer and the CFPB and chooses not to provide a public response'\n",
       "'company_response'                                                                                                                                                                                                                                                                                                                                                                                                                                                                                                                                                                                                                                                                                                                                                                                                                                                                                                                                                                                                                                                                                                                                                                                                                                                                                                                                                                                                                                                                                                                                                                                                                                                                                                                                                                                                                                                                                                                                                                                                                                                                                                                                                                                                                                                                                                                                                                                                                                                                                                                                                                                                                                                                                                                                                                                                                                                                                                                                   'Closed', 'Closed with explanation', 'Closed with monetary relief', 'Closed with non-monetary relief', 'Closed with relief', 'Closed without relief', 'Untimely response'\n",
       "'consumer_consent_provided'                                                                                                                                                                                                                                                                                                                                                                                                                                                                                                                                                                                                                                                                                                                                                                                                                                                                                                                                                                                                                                                                                                                                                                                                                                                                                                                                                                                                                                                                                                                                                                                                                                                                                                                                                                                                                                                                                                                                                                                                                                                                                                                                                                                                                                                                                                                                                                                                                                                                                                                                                                                                                                                                                                                                                                                                                                                                                                                                                                                                                    'Consent not provided', 'Consent provided', 'Consent withdrawn', 'N/A', 'Other'\n",
       "'consumer_disputed'                                                                                                                                                                                                                                                                                                                                                                                                                                                                                                                                                                                                                                                                                                                                                                                                                                                                                                                                                                                                                                                                                                                                                                                                                                                                                                                                                                                                                                                                                                                                                                                                                                                                                                                                                                                                                                                                                                                                                                                                                                                                                                                                                                                                                                                                                                                                                                                                                                                                                                                                                                                                                                                                                                                                                                                                                                                                                                                                                                                                                                                                                                'No', 'Yes'\n",
       "'issue'                      'APR or interest rate', 'Account opening, closing, or management', 'Account terms and changes', 'Adding money', 'Advertising and marketing', 'Advertising, marketing or disclosures', 'Application processing delay', 'Application, originator, mortgage broker', 'Applied for loan/did not receive money', 'Arbitration', 'Balance transfer', 'Balance transfer fee', 'Bankruptcy', 'Billing disputes', 'Billing statement', 'Can\\'t contact lender', 'Can\\'t repay my loan', 'Can\\'t stop charges to bank account', 'Cash advance', 'Cash advance fee', 'Charged bank acct wrong day or amt', 'Charged fees or interest I didn\\'t expect', 'Closing/Cancelling account', 'Collection debt dispute', 'Collection practices', 'Communication tactics', 'Cont\\'d attempts collect debt not owed', 'Convenience checks', 'Credit card protection / Debt protection', 'Credit decision / Underwriting', 'Credit determination', 'Credit line increase/decrease', 'Credit monitoring or identity protection', 'Credit reporting', 'Credit reporting company\\'s investigation', 'Customer service / Customer relations', 'Customer service/Customer relations', 'Dealing with my lender or servicer', 'Delinquent account', 'Deposits and withdrawals', 'Disclosure verification of debt', 'Disclosures', 'Excessive fees', 'False statements or representation', 'Fees', 'Forbearance / Workout plans', 'Fraud or scam', 'Getting a loan', 'Identity theft / Fraud / Embezzlement', 'Improper contact or sharing of info', 'Improper use of my credit report', 'Incorrect exchange rate', 'Incorrect information on credit report', 'Incorrect/missing disclosures or info', 'Late fee', 'Lender damaged or destroyed property', 'Lender damaged or destroyed vehicle', 'Lender repossessed or sold the vehicle', 'Lender sold the property', 'Loan modification,collection,foreclosure', 'Loan servicing, payments, escrow account', 'Lost or stolen check', 'Lost or stolen money order', 'Making/receiving payments, sending money', 'Managing an account', 'Managing the line of credit', 'Managing the loan or lease', 'Managing, opening, or closing account', 'Money was not available when promised', 'Opening an account', 'Other', 'Other fee', 'Other service issues', 'Other transaction issues', 'Overdraft, savings or rewards features', 'Overlimit fee', 'Payment to acct not credited', 'Payoff process', 'Privacy', 'Problems caused by my funds being low', 'Problems when you are unable to pay', 'Received a loan I didn\\'t apply for', 'Repaying your loan', 'Rewards', 'Sale of account', 'Settlement process and costs', 'Shopping for a line of credit', 'Shopping for a loan or lease', 'Struggling to pay mortgage', 'Taking out the loan or lease', 'Taking/threatening an illegal action', 'Transaction issue', 'Trouble during payment process', 'Unable to get credit report/credit score', 'Unauthorized transactions/trans. issues', 'Unexpected/Other fees', 'Unsolicited issuance of credit card', 'Using a debit or ATM card', 'Wrong amount charged or received'\n",
       "'product'                                                                                                                                                                                                                                                                                                                                                                                                                                                                                                                                                                                                                                                                                                                                                                                                                                                                                                                                                                                                                                                                                                                                                                                                                                                                                                                                                                                                                                                                                                                                                                                                                                                                                                                                                                                                                                                                                                                                                                                                                                                                                                                                                                                                                                                                                                                                                                                                                                                                                                                                                                                                                                                                                                                                                                                                                                                         'Bank account or service', 'Checking or savings account', 'Consumer Loan', 'Credit card', 'Credit reporting', 'Debt collection', 'Money transfers', 'Mortgage', 'Other financial service', 'Payday loan', 'Prepaid card', 'Student loan', 'Virtual currency'\n",
       "'state'                                                                                                                                                                                                                                                                                                                                                                                                                                                                                                                                                                                                                                                                                                                                                                                                                                                                                                                                                                                                                                                                                                                                                                                                                                                                                                                                                                                                                                                                                                                                                                                                                                                                                                                                                                                                                                                                                                                                                                                                                                                                                                                                                                                                                                                                                                                                                                                                                                                                                                                                                                                                                                                                                                                                     'AA', 'AE', 'AK', 'AL', 'AP', 'AR', 'AS', 'AZ', 'CA', 'CO', 'CT', 'DC', 'DE', 'FL', 'FM', 'GA', 'GU', 'HI', 'IA', 'ID', 'IL', 'IN', 'KS', 'KY', 'LA', 'MA', 'MD', 'ME', 'MH', 'MI', 'MN', 'MO', 'MP', 'MS', 'MT', 'NC', 'ND', 'NE', 'NH', 'NJ', 'NM', 'NV', 'NY', 'OH', 'OK', 'OR', 'PA', 'PR', 'PW', 'RI', 'SC', 'SD', 'TN', 'TX', 'UT', 'VA', 'VI', 'VT', 'WA', 'WI', 'WV', 'WY'\n",
       "'sub_issue'                                                                                                                                                                                                                                                                                                                                                                                                                                                                                                                                                                                                                                                                                                                                                                                                                                                                      'Account opened as a result of fraud', 'Account status', 'Account terms', 'Account terms and changes', 'Attempted to collect wrong amount', 'Attempted to/Collected exempt funds', 'Billing dispute', 'Called after sent written cease of comm', 'Called outside of 8am-9pm', 'Can\\'t decrease my monthly payments', 'Can\\'t get flexible payment options', 'Can\\'t qualify for a loan', 'Can\\'t temporarily postpone payments', 'Contacted employer after asked not to', 'Contacted me after I asked not to', 'Contacted me instead of my attorney', 'Debt is not mine', 'Debt resulted from identity theft', 'Debt was discharged in bankruptcy', 'Debt was paid', 'Don\\'t agree with fees charged', 'Frequent or repeated calls', 'Having problems with customer service', 'Impersonated an attorney or official', 'Inadequate help over the phone', 'Indicated committed crime not paying', 'Indicated shouldn\\'t respond to lawsuit', 'Information is not mine', 'Insurance terms', 'Investigation took too long', 'Keep getting calls about my loan', 'Need information about my balance/terms', 'No notice of investigation status/result', 'Not disclosed as an attempt to collect', 'Not given enough info to verify debt', 'Personal information', 'Problem accessing account', 'Problem cancelling or closing account', 'Problem getting my free annual report', 'Problem getting report or credit score', 'Problem with fraud alerts', 'Problem with statement of dispute', 'Public record', 'Qualify for a better loan than offered', 'Received bad information about my loan', 'Received marketing offer after opted out', 'Receiving unwanted marketing/advertising', 'Reinserted previously deleted info', 'Report improperly shared by CRC', 'Report shared with employer w/o consent', 'Right to dispute notice not received', 'Seized/Attempted to seize property', 'Sued w/o proper notification of suit', 'Sued where didn\\'t live/sign for debt', 'Talked to a third party about my debt', 'Threatened arrest/jail if do not pay', 'Threatened to sue on too old debt', 'Threatened to take legal action', 'Trouble with how payments are handled', 'Used obscene/profane/abusive language', 'Deposits and withdrawals'\n",
       "'sub_product'                                                                                                                                                                                                                                                                                                                                                                                                                                                                                                                                                                                                                                                                                                                                                                                                                                                                                                                                                                                                                                                                                                                                                                                                                                                                                                                                                                                                                                                                                                                                                                                                                                                                                                                                                                                                                                                                                 '(CD) Certificate of deposit', 'Auto', 'Cashing a check without an account', 'Check cashing', 'Checking account', 'Conventional adjustable mortgage (ARM)', 'Conventional fixed mortgage', 'Conventional home mortgage', 'Credit card', 'Credit repair', 'Debt settlement', 'Domestic (US) money transfer', 'Electronic Benefit Transfer / EBT card', 'FHA mortgage', 'Federal student loan', 'Federal student loan servicing', 'Foreign currency exchange', 'General purpose card', 'Gift or merchant card', 'Government benefit payment card', 'Home equity loan or line of credit', 'I do not know', 'ID prepaid card', 'Installment loan', 'International money transfer', 'Medical', 'Mobile wallet', 'Money order', 'Mortgage', 'Non-federal student loan', 'Other (i.e. phone, health club, etc.)', 'Other bank product/service', 'Other banking product or service', 'Other mortgage', 'Other special purpose card', 'Other type of mortgage', 'Pawn loan', 'Payday loan', 'Payroll card', 'Personal line of credit', 'Refund anticipation check', 'Reverse mortgage', 'Savings account', 'Second mortgage', 'Title loan', 'Transit card', 'Traveler’s/Cashier’s checks', 'VA mortgage', 'Vehicle lease', 'Vehicle loan'\n",
       "'submitted_via'                                                                                                                                                                                                                                                                                                                                                                                                                                                                                                                                                                                                                                                                                                                                                                                                                                                                                                                                                                                                                                                                                                                                                                                                                                                                                                                                                                                                                                                                                                                                                                                                                                                                                                                                                                                                                                                                                                                                                                                                                                                                                                                                                                                                                                                                                                                                                                                                                                                                                                                                                                                                                                                                                                                                                                                                                                                                                                                                                                                                                                                      'Email', 'Fax', 'Phone', 'Postal mail', 'Referral', 'Web'\n",
       "'tags'                                                                                                                                                                                                                                                                                                                                                                                                                                                                                                                                                                                                                                                                                                                                                                                                                                                                                                                                                                                                                                                                                                                                                                                                                                                                                                                                                                                                                                                                                                                                                                                                                                                                                                                                                                                                                                                                                                                                                                                                                                                                                                                                                                                                                                                                                                                                                                                                                                                                                                                                                                                                                                                                                                                                                                                                                                                                                                                                                                                                                                                      'Older American', 'Older American, Servicemember', 'Servicemember'\n",
       "'timely'                                                                                                                                                                                                                                                                                                                                                                                                                                                                                                                                                                                                                                                                                                                                                                                                                                                                                                                                                                                                                                                                                                                                                                                                                                                                                                                                                                                                                                                                                                                                                                                                                                                                                                                                                                                                                                                                                                                                                                                                                                                                                                                                                                                                                                                                                                                                                                                                                                                                                                                                                                                                                                                                                                                                                                                                                                                                                                                                                                                                                                                                                                           'No', 'Yes'"
      ]
     },
     "metadata": {},
     "output_type": "display_data"
    }
   ],
   "source": [
    "tfdv.display_schema(dataset_schema)"
   ]
  },
  {
   "cell_type": "code",
   "execution_count": 30,
   "id": "b88b8891",
   "metadata": {},
   "outputs": [
    {
     "data": {
      "text/plain": [
       "['consumer_consent_provided', 'timely', 'state']"
      ]
     },
     "execution_count": 30,
     "metadata": {},
     "output_type": "execute_result"
    }
   ],
   "source": [
    "schema.one_hot_features"
   ]
  },
  {
   "cell_type": "code",
   "execution_count": 54,
   "id": "dd5255ee",
   "metadata": {},
   "outputs": [],
   "source": [
    "consumer_consent_vocab = tfdv.get_domain(schema=dataset_schema,feature_path=schema.consumer_consent_provided).value"
   ]
  },
  {
   "cell_type": "code",
   "execution_count": 56,
   "id": "db6f4620",
   "metadata": {},
   "outputs": [
    {
     "data": {
      "text/plain": [
       "['Consent not provided', 'Consent provided', 'Consent withdrawn', 'N/A', 'Other']"
      ]
     },
     "execution_count": 56,
     "metadata": {},
     "output_type": "execute_result"
    }
   ],
   "source": [
    "consumer_consent_vocab"
   ]
  },
  {
   "cell_type": "code",
   "execution_count": 60,
   "id": "704115a8",
   "metadata": {},
   "outputs": [],
   "source": [
    "indices = tf.range(len(consumer_consent_vocab),dtype=tf.int64)"
   ]
  },
  {
   "cell_type": "code",
   "execution_count": 61,
   "id": "2c1e1b34",
   "metadata": {},
   "outputs": [
    {
     "data": {
      "text/plain": [
       "<tf.Tensor: shape=(5,), dtype=int64, numpy=array([0, 1, 2, 3, 4])>"
      ]
     },
     "execution_count": 61,
     "metadata": {},
     "output_type": "execute_result"
    }
   ],
   "source": [
    "indices"
   ]
  },
  {
   "cell_type": "code",
   "execution_count": 62,
   "id": "5f9ae9c3",
   "metadata": {},
   "outputs": [],
   "source": [
    "table_init = tf.lookup.KeyValueTensorInitializer(consumer_consent_vocab,indices)"
   ]
  },
  {
   "cell_type": "code",
   "execution_count": 64,
   "id": "7b949c54",
   "metadata": {},
   "outputs": [],
   "source": [
    "num_oov_bucket=2\n",
    "table= tf.lookup.StaticVocabularyTable(table_init,num_oov_buckets=num_oov_bucket)"
   ]
  },
  {
   "cell_type": "code",
   "execution_count": 67,
   "id": "9d1e8229",
   "metadata": {},
   "outputs": [],
   "source": [
    "ccp_indices = table.lookup(dataset[schema.consumer_consent_provided])"
   ]
  },
  {
   "cell_type": "code",
   "execution_count": 68,
   "id": "d689f353",
   "metadata": {},
   "outputs": [
    {
     "data": {
      "text/plain": [
       "<tf.Tensor: shape=(1025, 7), dtype=float32, numpy=\n",
       "array([[0., 0., 0., ..., 0., 0., 0.],\n",
       "       [1., 0., 0., ..., 0., 0., 0.],\n",
       "       [1., 0., 0., ..., 0., 0., 0.],\n",
       "       ...,\n",
       "       [0., 1., 0., ..., 0., 0., 0.],\n",
       "       [0., 1., 0., ..., 0., 0., 0.],\n",
       "       [1., 0., 0., ..., 0., 0., 0.]], dtype=float32)>"
      ]
     },
     "execution_count": 68,
     "metadata": {},
     "output_type": "execute_result"
    }
   ],
   "source": [
    "tf.one_hot(ccp_indices,depth=len(consumer_consent_vocab)+num_oov_bucket)"
   ]
  },
  {
   "cell_type": "code",
   "execution_count": 74,
   "id": "70936ab6",
   "metadata": {},
   "outputs": [],
   "source": [
    "import tensorflow_transform as tft"
   ]
  },
  {
   "cell_type": "code",
   "execution_count": 75,
   "id": "a6b98286",
   "metadata": {},
   "outputs": [
    {
     "data": {
      "text/plain": [
       "'issue'"
      ]
     },
     "execution_count": 75,
     "metadata": {},
     "output_type": "execute_result"
    }
   ],
   "source": []
  },
  {
   "cell_type": "code",
   "execution_count": null,
   "id": "59791234",
   "metadata": {},
   "outputs": [],
   "source": []
  },
  {
   "cell_type": "code",
   "execution_count": 76,
   "id": "5d0d873f",
   "metadata": {},
   "outputs": [
    {
     "ename": "RuntimeError",
     "evalue": "tf.placeholder() is not compatible with eager execution.",
     "output_type": "error",
     "traceback": [
      "\u001b[0;31m---------------------------------------------------------------------------\u001b[0m",
      "\u001b[0;31mRuntimeError\u001b[0m                              Traceback (most recent call last)",
      "\u001b[0;32m/tmp/ipykernel_236888/1795019664.py\u001b[0m in \u001b[0;36m<module>\u001b[0;34m\u001b[0m\n\u001b[0;32m----> 1\u001b[0;31m \u001b[0mtft\u001b[0m\u001b[0;34m.\u001b[0m\u001b[0mcompute_and_apply_vocabulary\u001b[0m\u001b[0;34m(\u001b[0m\u001b[0mdataset\u001b[0m\u001b[0;34m[\u001b[0m\u001b[0mschema\u001b[0m\u001b[0;34m.\u001b[0m\u001b[0mtokenizer_feature\u001b[0m\u001b[0;34m]\u001b[0m\u001b[0;34m)\u001b[0m\u001b[0;34m\u001b[0m\u001b[0m\n\u001b[0m",
      "\u001b[0;32m~/iNeuron_Private_Intelligence_Limited/project_neuron/finance-complaint/venv/lib/python3.7/site-packages/tensorflow_transform/common.py\u001b[0m in \u001b[0;36mwrapped_fn\u001b[0;34m(*args, **kwargs)\u001b[0m\n\u001b[1;32m     71\u001b[0m             \u001b[0mcollection\u001b[0m\u001b[0;34m.\u001b[0m\u001b[0mappend\u001b[0m\u001b[0;34m(\u001b[0m\u001b[0mcollections\u001b[0m\u001b[0;34m.\u001b[0m\u001b[0mCounter\u001b[0m\u001b[0;34m(\u001b[0m\u001b[0;34m)\u001b[0m\u001b[0;34m)\u001b[0m\u001b[0;34m\u001b[0m\u001b[0m\n\u001b[1;32m     72\u001b[0m           \u001b[0mcollection\u001b[0m\u001b[0;34m[\u001b[0m\u001b[0;36m0\u001b[0m\u001b[0;34m]\u001b[0m\u001b[0;34m[\u001b[0m\u001b[0mfn\u001b[0m\u001b[0;34m.\u001b[0m\u001b[0m__name__\u001b[0m\u001b[0;34m]\u001b[0m \u001b[0;34m+=\u001b[0m \u001b[0;36m1\u001b[0m\u001b[0;34m\u001b[0m\u001b[0m\n\u001b[0;32m---> 73\u001b[0;31m           \u001b[0;32mreturn\u001b[0m \u001b[0mfn\u001b[0m\u001b[0;34m(\u001b[0m\u001b[0;34m*\u001b[0m\u001b[0margs\u001b[0m\u001b[0;34m,\u001b[0m \u001b[0;34m**\u001b[0m\u001b[0mkwargs\u001b[0m\u001b[0;34m)\u001b[0m\u001b[0;34m\u001b[0m\u001b[0m\n\u001b[0m\u001b[1;32m     74\u001b[0m       \u001b[0;32melse\u001b[0m\u001b[0;34m:\u001b[0m\u001b[0;34m\u001b[0m\u001b[0m\n\u001b[1;32m     75\u001b[0m         \u001b[0;32mreturn\u001b[0m \u001b[0mfn\u001b[0m\u001b[0;34m(\u001b[0m\u001b[0;34m*\u001b[0m\u001b[0margs\u001b[0m\u001b[0;34m,\u001b[0m \u001b[0;34m**\u001b[0m\u001b[0mkwargs\u001b[0m\u001b[0;34m)\u001b[0m\u001b[0;34m\u001b[0m\u001b[0m\n",
      "\u001b[0;32m~/iNeuron_Private_Intelligence_Limited/project_neuron/finance-complaint/venv/lib/python3.7/site-packages/tensorflow_transform/mappers.py\u001b[0m in \u001b[0;36mcompute_and_apply_vocabulary\u001b[0;34m(x, default_value, top_k, frequency_threshold, num_oov_buckets, vocab_filename, weights, labels, use_adjusted_mutual_info, min_diff_from_avg, coverage_top_k, coverage_frequency_threshold, key_fn, fingerprint_shuffle, file_format, name)\u001b[0m\n\u001b[1;32m   1044\u001b[0m         \u001b[0mkey_fn\u001b[0m\u001b[0;34m=\u001b[0m\u001b[0mkey_fn\u001b[0m\u001b[0;34m,\u001b[0m\u001b[0;34m\u001b[0m\u001b[0m\n\u001b[1;32m   1045\u001b[0m         \u001b[0mfingerprint_shuffle\u001b[0m\u001b[0;34m=\u001b[0m\u001b[0mfingerprint_shuffle\u001b[0m\u001b[0;34m,\u001b[0m\u001b[0;34m\u001b[0m\u001b[0m\n\u001b[0;32m-> 1046\u001b[0;31m         file_format=file_format)\n\u001b[0m\u001b[1;32m   1047\u001b[0m     return apply_vocabulary(\n\u001b[1;32m   1048\u001b[0m         \u001b[0mx\u001b[0m\u001b[0;34m,\u001b[0m\u001b[0;34m\u001b[0m\u001b[0m\n",
      "\u001b[0;32m~/iNeuron_Private_Intelligence_Limited/project_neuron/finance-complaint/venv/lib/python3.7/site-packages/tensorflow_transform/common.py\u001b[0m in \u001b[0;36mwrapped_fn\u001b[0;34m(*args, **kwargs)\u001b[0m\n\u001b[1;32m     73\u001b[0m           \u001b[0;32mreturn\u001b[0m \u001b[0mfn\u001b[0m\u001b[0;34m(\u001b[0m\u001b[0;34m*\u001b[0m\u001b[0margs\u001b[0m\u001b[0;34m,\u001b[0m \u001b[0;34m**\u001b[0m\u001b[0mkwargs\u001b[0m\u001b[0;34m)\u001b[0m\u001b[0;34m\u001b[0m\u001b[0m\n\u001b[1;32m     74\u001b[0m       \u001b[0;32melse\u001b[0m\u001b[0;34m:\u001b[0m\u001b[0;34m\u001b[0m\u001b[0m\n\u001b[0;32m---> 75\u001b[0;31m         \u001b[0;32mreturn\u001b[0m \u001b[0mfn\u001b[0m\u001b[0;34m(\u001b[0m\u001b[0;34m*\u001b[0m\u001b[0margs\u001b[0m\u001b[0;34m,\u001b[0m \u001b[0;34m**\u001b[0m\u001b[0mkwargs\u001b[0m\u001b[0;34m)\u001b[0m\u001b[0;34m\u001b[0m\u001b[0m\n\u001b[0m\u001b[1;32m     76\u001b[0m \u001b[0;34m\u001b[0m\u001b[0m\n\u001b[1;32m     77\u001b[0m     \u001b[0;31m# We use tf_decorator here so that TF can correctly introspect into\u001b[0m\u001b[0;34m\u001b[0m\u001b[0;34m\u001b[0m\u001b[0m\n",
      "\u001b[0;32m~/iNeuron_Private_Intelligence_Limited/project_neuron/finance-complaint/venv/lib/python3.7/site-packages/tensorflow_transform/analyzers.py\u001b[0m in \u001b[0;36mvocabulary\u001b[0;34m(x, top_k, frequency_threshold, vocab_filename, store_frequency, weights, labels, use_adjusted_mutual_info, min_diff_from_avg, coverage_top_k, coverage_frequency_threshold, key_fn, fingerprint_shuffle, file_format, name)\u001b[0m\n\u001b[1;32m   1926\u001b[0m         \u001b[0mcoverage_informativeness_threshold\u001b[0m\u001b[0;34m=\u001b[0m\u001b[0mcoverage_informativeness_threshold\u001b[0m\u001b[0;34m,\u001b[0m\u001b[0;34m\u001b[0m\u001b[0m\n\u001b[1;32m   1927\u001b[0m         \u001b[0mfile_format\u001b[0m\u001b[0;34m=\u001b[0m\u001b[0mfile_format\u001b[0m\u001b[0;34m,\u001b[0m\u001b[0;34m\u001b[0m\u001b[0m\n\u001b[0;32m-> 1928\u001b[0;31m         vocabulary_key=vocabulary_key)\n\u001b[0m\u001b[1;32m   1929\u001b[0m \u001b[0;34m\u001b[0m\u001b[0m\n\u001b[1;32m   1930\u001b[0m \u001b[0;34m\u001b[0m\u001b[0m\n",
      "\u001b[0;32m~/iNeuron_Private_Intelligence_Limited/project_neuron/finance-complaint/venv/lib/python3.7/site-packages/tensorflow_transform/analyzers.py\u001b[0m in \u001b[0;36m_vocabulary_analyzer_nodes\u001b[0;34m(analyzer_inputs, input_dtype, vocab_ordering_type, vocab_filename, top_k, frequency_threshold, informativeness_threshold, use_adjusted_mutual_info, min_diff_from_avg, fingerprint_shuffle, store_frequency, key_fn, coverage_top_k, coverage_frequency_threshold, coverage_informativeness_threshold, file_format, vocabulary_key)\u001b[0m\n\u001b[1;32m   2066\u001b[0m       \u001b[0munfiltered_vocab_size_node\u001b[0m\u001b[0;34m,\u001b[0m\u001b[0;34m\u001b[0m\u001b[0m\n\u001b[1;32m   2067\u001b[0m       \u001b[0manalyzer_nodes\u001b[0m\u001b[0;34m.\u001b[0m\u001b[0mTensorInfo\u001b[0m\u001b[0;34m(\u001b[0m\u001b[0mtf\u001b[0m\u001b[0;34m.\u001b[0m\u001b[0mint64\u001b[0m\u001b[0;34m,\u001b[0m \u001b[0;34m[\u001b[0m\u001b[0;34m]\u001b[0m\u001b[0;34m,\u001b[0m \u001b[0;32mNone\u001b[0m\u001b[0;34m)\u001b[0m\u001b[0;34m,\u001b[0m\u001b[0;34m\u001b[0m\u001b[0m\n\u001b[0;32m-> 2068\u001b[0;31m       name=f'{vocab_filename}_unpruned_vocab_size')\n\u001b[0m\u001b[1;32m   2069\u001b[0m   filtered_vocab_size_node = nodes.apply_operation(\n\u001b[1;32m   2070\u001b[0m       \u001b[0manalyzer_nodes\u001b[0m\u001b[0;34m.\u001b[0m\u001b[0mVocabularyCount\u001b[0m\u001b[0;34m,\u001b[0m\u001b[0;34m\u001b[0m\u001b[0m\n",
      "\u001b[0;32m~/iNeuron_Private_Intelligence_Limited/project_neuron/finance-complaint/venv/lib/python3.7/site-packages/tensorflow_transform/analyzer_nodes.py\u001b[0m in \u001b[0;36mbind_future_as_tensor\u001b[0;34m(future, tensor_info, name)\u001b[0m\n\u001b[1;32m    310\u001b[0m     \u001b[0;32mreturn\u001b[0m \u001b[0m_bind_future_as_tensor_v2\u001b[0m\u001b[0;34m(\u001b[0m\u001b[0mfuture\u001b[0m\u001b[0;34m,\u001b[0m \u001b[0mtensor_info\u001b[0m\u001b[0;34m,\u001b[0m \u001b[0mname\u001b[0m\u001b[0;34m)\u001b[0m\u001b[0;34m\u001b[0m\u001b[0m\n\u001b[1;32m    311\u001b[0m   \u001b[0;32melse\u001b[0m\u001b[0;34m:\u001b[0m\u001b[0;34m\u001b[0m\u001b[0m\n\u001b[0;32m--> 312\u001b[0;31m     \u001b[0;32mreturn\u001b[0m \u001b[0m_bind_future_as_tensor_v1\u001b[0m\u001b[0;34m(\u001b[0m\u001b[0mfuture\u001b[0m\u001b[0;34m,\u001b[0m \u001b[0mtensor_info\u001b[0m\u001b[0;34m,\u001b[0m \u001b[0mname\u001b[0m\u001b[0;34m)\u001b[0m\u001b[0;34m\u001b[0m\u001b[0m\n\u001b[0m\u001b[1;32m    313\u001b[0m \u001b[0;34m\u001b[0m\u001b[0m\n\u001b[1;32m    314\u001b[0m \u001b[0;34m\u001b[0m\u001b[0m\n",
      "\u001b[0;32m~/iNeuron_Private_Intelligence_Limited/project_neuron/finance-complaint/venv/lib/python3.7/site-packages/tensorflow_transform/analyzer_nodes.py\u001b[0m in \u001b[0;36m_bind_future_as_tensor_v1\u001b[0;34m(future, tensor_info, name)\u001b[0m\n\u001b[1;32m    140\u001b[0m                               name: Optional[str] = None) -> tf.Tensor:\n\u001b[1;32m    141\u001b[0m   \u001b[0;34m\"\"\"Bind a future value as a tensor to a TF1 graph.\"\"\"\u001b[0m\u001b[0;34m\u001b[0m\u001b[0m\n\u001b[0;32m--> 142\u001b[0;31m   \u001b[0mresult\u001b[0m \u001b[0;34m=\u001b[0m \u001b[0mtf\u001b[0m\u001b[0;34m.\u001b[0m\u001b[0mcompat\u001b[0m\u001b[0;34m.\u001b[0m\u001b[0mv1\u001b[0m\u001b[0;34m.\u001b[0m\u001b[0mplaceholder\u001b[0m\u001b[0;34m(\u001b[0m\u001b[0mtensor_info\u001b[0m\u001b[0;34m.\u001b[0m\u001b[0mdtype\u001b[0m\u001b[0;34m,\u001b[0m \u001b[0mtensor_info\u001b[0m\u001b[0;34m.\u001b[0m\u001b[0mshape\u001b[0m\u001b[0;34m,\u001b[0m \u001b[0mname\u001b[0m\u001b[0;34m)\u001b[0m\u001b[0;34m\u001b[0m\u001b[0m\n\u001b[0m\u001b[1;32m    143\u001b[0m   \u001b[0mis_asset_filepath\u001b[0m \u001b[0;34m=\u001b[0m \u001b[0mtensor_info\u001b[0m\u001b[0;34m.\u001b[0m\u001b[0mtemporary_asset_info\u001b[0m \u001b[0;32mis\u001b[0m \u001b[0;32mnot\u001b[0m \u001b[0;32mNone\u001b[0m\u001b[0;34m\u001b[0m\u001b[0m\n\u001b[1;32m    144\u001b[0m   tf.compat.v1.add_to_collection(TENSOR_REPLACEMENTS,\n",
      "\u001b[0;32m~/iNeuron_Private_Intelligence_Limited/project_neuron/finance-complaint/venv/lib/python3.7/site-packages/tensorflow/python/ops/array_ops.py\u001b[0m in \u001b[0;36mplaceholder\u001b[0;34m(dtype, shape, name)\u001b[0m\n\u001b[1;32m   3341\u001b[0m   \"\"\"\n\u001b[1;32m   3342\u001b[0m   \u001b[0;32mif\u001b[0m \u001b[0mcontext\u001b[0m\u001b[0;34m.\u001b[0m\u001b[0mexecuting_eagerly\u001b[0m\u001b[0;34m(\u001b[0m\u001b[0;34m)\u001b[0m\u001b[0;34m:\u001b[0m\u001b[0;34m\u001b[0m\u001b[0m\n\u001b[0;32m-> 3343\u001b[0;31m     raise RuntimeError(\"tf.placeholder() is not compatible with \"\n\u001b[0m\u001b[1;32m   3344\u001b[0m                        \"eager execution.\")\n\u001b[1;32m   3345\u001b[0m \u001b[0;34m\u001b[0m\u001b[0m\n",
      "\u001b[0;31mRuntimeError\u001b[0m: tf.placeholder() is not compatible with eager execution."
     ]
    }
   ],
   "source": [
    "tft.compute_and_apply_vocabulary(dataset[schema.tokenizer_feature])"
   ]
  },
  {
   "cell_type": "code",
   "execution_count": 79,
   "id": "cdc54495",
   "metadata": {},
   "outputs": [
    {
     "data": {
      "text/plain": [
       "<function tensorflow.python.ops.gen_logging_ops.timestamp(name=None)>"
      ]
     },
     "execution_count": 79,
     "metadata": {},
     "output_type": "execute_result"
    }
   ],
   "source": [
    "tf.timestamp"
   ]
  },
  {
   "cell_type": "code",
   "execution_count": null,
   "id": "c6ca99e2",
   "metadata": {},
   "outputs": [],
   "source": []
  },
  {
   "cell_type": "code",
   "execution_count": 16,
   "id": "03567f5d",
   "metadata": {},
   "outputs": [],
   "source": [
    "import pandas as pd\n",
    "df =pd.DataFrame(['0','1'])"
   ]
  },
  {
   "cell_type": "code",
   "execution_count": 17,
   "id": "d6deeda7",
   "metadata": {},
   "outputs": [
    {
     "data": {
      "text/plain": [
       "0    object\n",
       "dtype: object"
      ]
     },
     "execution_count": 17,
     "metadata": {},
     "output_type": "execute_result"
    }
   ],
   "source": [
    "df.dtypes"
   ]
  },
  {
   "cell_type": "code",
   "execution_count": 18,
   "id": "d2bceff7",
   "metadata": {},
   "outputs": [
    {
     "data": {
      "text/html": [
       "<div>\n",
       "<style scoped>\n",
       "    .dataframe tbody tr th:only-of-type {\n",
       "        vertical-align: middle;\n",
       "    }\n",
       "\n",
       "    .dataframe tbody tr th {\n",
       "        vertical-align: top;\n",
       "    }\n",
       "\n",
       "    .dataframe thead th {\n",
       "        text-align: right;\n",
       "    }\n",
       "</style>\n",
       "<table border=\"1\" class=\"dataframe\">\n",
       "  <thead>\n",
       "    <tr style=\"text-align: right;\">\n",
       "      <th></th>\n",
       "      <th>0</th>\n",
       "    </tr>\n",
       "  </thead>\n",
       "  <tbody>\n",
       "    <tr>\n",
       "      <th>0</th>\n",
       "      <td>0</td>\n",
       "    </tr>\n",
       "    <tr>\n",
       "      <th>1</th>\n",
       "      <td>1</td>\n",
       "    </tr>\n",
       "  </tbody>\n",
       "</table>\n",
       "</div>"
      ],
      "text/plain": [
       "   0\n",
       "0  0\n",
       "1  1"
      ]
     },
     "execution_count": 18,
     "metadata": {},
     "output_type": "execute_result"
    }
   ],
   "source": [
    "df"
   ]
  },
  {
   "cell_type": "code",
   "execution_count": 22,
   "id": "4b8b3656",
   "metadata": {},
   "outputs": [
    {
     "data": {
      "text/plain": [
       "0    0\n",
       "1    1\n",
       "Name: 0, dtype: int64"
      ]
     },
     "execution_count": 22,
     "metadata": {},
     "output_type": "execute_result"
    }
   ],
   "source": [
    "df[0].astype('int')"
   ]
  },
  {
   "cell_type": "code",
   "execution_count": 21,
   "id": "575569f9",
   "metadata": {},
   "outputs": [
    {
     "data": {
      "text/plain": [
       "0    object\n",
       "dtype: object"
      ]
     },
     "execution_count": 21,
     "metadata": {},
     "output_type": "execute_result"
    }
   ],
   "source": [
    "df.dtypes"
   ]
  },
  {
   "cell_type": "code",
   "execution_count": null,
   "id": "fa875fb9",
   "metadata": {},
   "outputs": [],
   "source": []
  }
 ],
 "metadata": {
  "kernelspec": {
   "display_name": "Python 3 (ipykernel)",
   "language": "python",
   "name": "python3"
  },
  "language_info": {
   "codemirror_mode": {
    "name": "ipython",
    "version": 3
   },
   "file_extension": ".py",
   "mimetype": "text/x-python",
   "name": "python",
   "nbconvert_exporter": "python",
   "pygments_lexer": "ipython3",
   "version": "3.7.0"
  },
  "vscode": {
   "interpreter": {
    "hash": "ab306f2e1099d52f00fb4d14f56c2a368b6f2b0f9affd42a454085aae2c01d3a"
   }
  }
 },
 "nbformat": 4,
 "nbformat_minor": 5
}
