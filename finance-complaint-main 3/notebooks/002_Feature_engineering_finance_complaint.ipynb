{
 "cells": [
  {
   "cell_type": "markdown",
   "id": "676e5ad0",
   "metadata": {},
   "source": [
    "![iNeuron Logo](https://encrypted-tbn0.gstatic.com/images?q=tbn:ANd9GcTRLLj3Vw3ASLxRes0gT0QysvPrQ2Vy3uSC4IAWEjb3&s)"
   ]
  },
  {
   "cell_type": "markdown",
   "id": "f6ccada4",
   "metadata": {},
   "source": [
    "# Finance Complaint Project"
   ]
  },
  {
   "cell_type": "markdown",
   "id": "7cd00523",
   "metadata": {},
   "source": [
    "## Feature Engineering and Model Training "
   ]
  },
  {
   "cell_type": "markdown",
   "id": "c702b09a",
   "metadata": {},
   "source": [
    "**Import required libraries**"
   ]
  },
  {
   "cell_type": "code",
   "execution_count": 2,
   "id": "1c1a46e1",
   "metadata": {},
   "outputs": [],
   "source": [
    "# Basic\n",
    "import pandas as pd\n",
    "import numpy as np\n",
    "import matplotlib.pyplot as plt\n",
    "import seaborn as sns\n",
    "import plotly.express as px\n",
    "import warnings\n",
    "warnings.filterwarnings(\"ignore\")\n",
    "\n",
    "# For text processing\n",
    "import nltk\n",
    "from nltk.corpus import stopwords\n",
    "from nltk import word_tokenize, FreqDist\n",
    "import string\n",
    "from nltk.stem.wordnet import WordNetLemmatizer\n",
    "from sklearn.feature_extraction.text import TfidfVectorizer\n",
    "\n",
    "# For Classification model selection\n",
    "from sklearn.tree  import DecisionTreeClassifier\n",
    "from sklearn.ensemble import RandomForestClassifier, GradientBoostingClassifier, AdaBoostClassifier\n",
    "from sklearn.linear_model import LogisticRegression\n",
    "from sklearn.neighbors import KNeighborsClassifier\n",
    "from sklearn.metrics import accuracy_score, confusion_matrix,ConfusionMatrixDisplay, \\\n",
    "                            precision_score, recall_score, f1_score, roc_auc_score,roc_curve \n",
    "from sklearn.svm import SVC\n",
    "from sklearn.tree import DecisionTreeClassifier\n",
    "from xgboost import XGBClassifier\n",
    "from catboost import CatBoostClassifier\n",
    "\n",
    "# For data pre-processing\n",
    "from sklearn.preprocessing import OneHotEncoder,StandardScaler, RobustScaler\n",
    "from sklearn.compose import ColumnTransformer\n",
    "from sklearn.pipeline import Pipeline\n",
    "from sklearn.impute import SimpleImputer\n",
    "from category_encoders.binary import BinaryEncoder\n",
    "from imblearn.combine import SMOTETomek\n",
    "\n",
    "# For Hyperparameter tuning\n",
    "from hyperopt import tpe,hp,Trials,space_eval\n",
    "from hyperopt.fmin import fmin\n",
    "from hyperopt.pyll import scope"
   ]
  },
  {
   "cell_type": "markdown",
   "id": "768d1ab0",
   "metadata": {},
   "source": [
    "**Import the data from source**"
   ]
  },
  {
   "cell_type": "code",
   "execution_count": 3,
   "id": "c3c64c0f",
   "metadata": {},
   "outputs": [],
   "source": [
    "df = pd.read_parquet('data/finance.parquet')"
   ]
  },
  {
   "cell_type": "markdown",
   "id": "551af35e",
   "metadata": {},
   "source": [
    "### As per Final report of EDA some features can be removed "
   ]
  },
  {
   "cell_type": "code",
   "execution_count": 5,
   "id": "35fdb5bd",
   "metadata": {},
   "outputs": [
    {
     "data": {
      "text/html": [
       "<div>\n",
       "<style scoped>\n",
       "    .dataframe tbody tr th:only-of-type {\n",
       "        vertical-align: middle;\n",
       "    }\n",
       "\n",
       "    .dataframe tbody tr th {\n",
       "        vertical-align: top;\n",
       "    }\n",
       "\n",
       "    .dataframe thead th {\n",
       "        text-align: right;\n",
       "    }\n",
       "</style>\n",
       "<table border=\"1\" class=\"dataframe\">\n",
       "  <thead>\n",
       "    <tr style=\"text-align: right;\">\n",
       "      <th></th>\n",
       "      <th>0</th>\n",
       "    </tr>\n",
       "  </thead>\n",
       "  <tbody>\n",
       "    <tr>\n",
       "      <th>tags</th>\n",
       "      <td>85.884302</td>\n",
       "    </tr>\n",
       "    <tr>\n",
       "      <th>company_public_response</th>\n",
       "      <td>74.461999</td>\n",
       "    </tr>\n",
       "    <tr>\n",
       "      <th>sub_issue</th>\n",
       "      <td>59.124530</td>\n",
       "    </tr>\n",
       "    <tr>\n",
       "      <th>sub_product</th>\n",
       "      <td>30.542196</td>\n",
       "    </tr>\n",
       "    <tr>\n",
       "      <th>state</th>\n",
       "      <td>0.736007</td>\n",
       "    </tr>\n",
       "    <tr>\n",
       "      <th>zip_code</th>\n",
       "      <td>0.735616</td>\n",
       "    </tr>\n",
       "    <tr>\n",
       "      <th>consumer_consent_provided</th>\n",
       "      <td>0.004950</td>\n",
       "    </tr>\n",
       "    <tr>\n",
       "      <th>product</th>\n",
       "      <td>0.000000</td>\n",
       "    </tr>\n",
       "  </tbody>\n",
       "</table>\n",
       "</div>"
      ],
      "text/plain": [
       "                                   0\n",
       "tags                       85.884302\n",
       "company_public_response    74.461999\n",
       "sub_issue                  59.124530\n",
       "sub_product                30.542196\n",
       "state                       0.736007\n",
       "zip_code                    0.735616\n",
       "consumer_consent_provided   0.004950\n",
       "product                     0.000000"
      ]
     },
     "execution_count": 5,
     "metadata": {},
     "output_type": "execute_result"
    }
   ],
   "source": [
    "missing = df.isnull().sum().div(df.shape[0]).mul(100).to_frame().sort_values(by=0, ascending = False)\n",
    "missing[0:8]"
   ]
  },
  {
   "cell_type": "markdown",
   "id": "ea1520f4",
   "metadata": {},
   "source": [
    "**Company column can be dropped as it contains 4284 unique values which are names**"
   ]
  },
  {
   "cell_type": "code",
   "execution_count": 6,
   "id": "24ec228c",
   "metadata": {},
   "outputs": [],
   "source": [
    "drop_columns = ['tags','complaint_what_happened','company_public_response',\n",
    "                'sub_issue','sub_product','zip_code','complaint_id', 'company']\n",
    "df.drop(drop_columns, axis=1, inplace=True)"
   ]
  },
  {
   "cell_type": "code",
   "execution_count": 37,
   "id": "3242417d",
   "metadata": {},
   "outputs": [
    {
     "data": {
      "text/html": [
       "<div>\n",
       "<style scoped>\n",
       "    .dataframe tbody tr th:only-of-type {\n",
       "        vertical-align: middle;\n",
       "    }\n",
       "\n",
       "    .dataframe tbody tr th {\n",
       "        vertical-align: top;\n",
       "    }\n",
       "\n",
       "    .dataframe thead th {\n",
       "        text-align: right;\n",
       "    }\n",
       "</style>\n",
       "<table border=\"1\" class=\"dataframe\">\n",
       "  <thead>\n",
       "    <tr style=\"text-align: right;\">\n",
       "      <th></th>\n",
       "      <th>0</th>\n",
       "    </tr>\n",
       "  </thead>\n",
       "  <tbody>\n",
       "    <tr>\n",
       "      <th>state</th>\n",
       "      <td>0.736007</td>\n",
       "    </tr>\n",
       "    <tr>\n",
       "      <th>consumer_consent_provided</th>\n",
       "      <td>0.004950</td>\n",
       "    </tr>\n",
       "    <tr>\n",
       "      <th>company_response</th>\n",
       "      <td>0.000000</td>\n",
       "    </tr>\n",
       "    <tr>\n",
       "      <th>consumer_disputed</th>\n",
       "      <td>0.000000</td>\n",
       "    </tr>\n",
       "    <tr>\n",
       "      <th>date_received</th>\n",
       "      <td>0.000000</td>\n",
       "    </tr>\n",
       "    <tr>\n",
       "      <th>date_sent_to_company</th>\n",
       "      <td>0.000000</td>\n",
       "    </tr>\n",
       "    <tr>\n",
       "      <th>issue</th>\n",
       "      <td>0.000000</td>\n",
       "    </tr>\n",
       "    <tr>\n",
       "      <th>product</th>\n",
       "      <td>0.000000</td>\n",
       "    </tr>\n",
       "    <tr>\n",
       "      <th>submitted_via</th>\n",
       "      <td>0.000000</td>\n",
       "    </tr>\n",
       "    <tr>\n",
       "      <th>timely</th>\n",
       "      <td>0.000000</td>\n",
       "    </tr>\n",
       "    <tr>\n",
       "      <th>days_to_forward_complaint</th>\n",
       "      <td>0.000000</td>\n",
       "    </tr>\n",
       "  </tbody>\n",
       "</table>\n",
       "</div>"
      ],
      "text/plain": [
       "                                  0\n",
       "state                      0.736007\n",
       "consumer_consent_provided  0.004950\n",
       "company_response           0.000000\n",
       "consumer_disputed          0.000000\n",
       "date_received              0.000000\n",
       "date_sent_to_company       0.000000\n",
       "issue                      0.000000\n",
       "product                    0.000000\n",
       "submitted_via              0.000000\n",
       "timely                     0.000000\n",
       "days_to_forward_complaint  0.000000"
      ]
     },
     "execution_count": 37,
     "metadata": {},
     "output_type": "execute_result"
    }
   ],
   "source": [
    "missing = df.isnull().sum().div(df.shape[0]).mul(100).to_frame().sort_values(by=0, ascending = False)\n",
    "missing"
   ]
  },
  {
   "cell_type": "markdown",
   "id": "b8f7de1e",
   "metadata": {},
   "source": [
    "- In `state` and `consumer_consent_provided` only 0.7 and 0.04 % of missing values. it can be imputed with Simple imputer with mode strategy "
   ]
  },
  {
   "cell_type": "markdown",
   "id": "13177b24",
   "metadata": {},
   "source": [
    "## Feature Extraction"
   ]
  },
  {
   "cell_type": "code",
   "execution_count": 7,
   "id": "4bc3fbd5",
   "metadata": {},
   "outputs": [
    {
     "data": {
      "text/html": [
       "<div>\n",
       "<style scoped>\n",
       "    .dataframe tbody tr th:only-of-type {\n",
       "        vertical-align: middle;\n",
       "    }\n",
       "\n",
       "    .dataframe tbody tr th {\n",
       "        vertical-align: top;\n",
       "    }\n",
       "\n",
       "    .dataframe thead th {\n",
       "        text-align: right;\n",
       "    }\n",
       "</style>\n",
       "<table border=\"1\" class=\"dataframe\">\n",
       "  <thead>\n",
       "    <tr style=\"text-align: right;\">\n",
       "      <th></th>\n",
       "      <th>date_received</th>\n",
       "      <th>date_sent_to_company</th>\n",
       "    </tr>\n",
       "  </thead>\n",
       "  <tbody>\n",
       "    <tr>\n",
       "      <th>0</th>\n",
       "      <td>2017-04-05T12:00:00-05:00</td>\n",
       "      <td>2017-04-05T12:00:00-05:00</td>\n",
       "    </tr>\n",
       "    <tr>\n",
       "      <th>1</th>\n",
       "      <td>2017-04-07T12:00:00-05:00</td>\n",
       "      <td>2017-04-07T12:00:00-05:00</td>\n",
       "    </tr>\n",
       "    <tr>\n",
       "      <th>2</th>\n",
       "      <td>2017-04-07T12:00:00-05:00</td>\n",
       "      <td>2017-04-07T12:00:00-05:00</td>\n",
       "    </tr>\n",
       "  </tbody>\n",
       "</table>\n",
       "</div>"
      ],
      "text/plain": [
       "               date_received       date_sent_to_company\n",
       "0  2017-04-05T12:00:00-05:00  2017-04-05T12:00:00-05:00\n",
       "1  2017-04-07T12:00:00-05:00  2017-04-07T12:00:00-05:00\n",
       "2  2017-04-07T12:00:00-05:00  2017-04-07T12:00:00-05:00"
      ]
     },
     "execution_count": 7,
     "metadata": {},
     "output_type": "execute_result"
    }
   ],
   "source": [
    "df[['date_received','date_sent_to_company']].head(3)"
   ]
  },
  {
   "cell_type": "markdown",
   "id": "54ebecfd",
   "metadata": {},
   "source": [
    "- Here dataset has two date feature, `date_received` which is the the date on which the complaint was registered to CFPB and `date_sent_to_company` is when the complaint has been sent the respective company.   "
   ]
  },
  {
   "cell_type": "code",
   "execution_count": 9,
   "id": "04152959",
   "metadata": {},
   "outputs": [],
   "source": [
    "# difference between date complaint received vs data complaint sent to the company\n",
    "df['days_to_forward_complaint']=pd.to_datetime(df.date_sent_to_company)-pd.to_datetime(df.date_received)\n",
    "\n",
    "# Get the days in datetime days (numeric) format\n",
    "df['days_to_forward_complaint']= df['days_to_forward_complaint'].dt.days"
   ]
  },
  {
   "cell_type": "code",
   "execution_count": 40,
   "id": "3c51267d",
   "metadata": {},
   "outputs": [],
   "source": [
    "# After creating the days_to_forward_complaint, both the date columns can be removed \n",
    "df.drop(['date_sent_to_company','date_received'], axis=1, inplace=True)"
   ]
  },
  {
   "cell_type": "markdown",
   "id": "cb2cfc35",
   "metadata": {},
   "source": [
    "The feature days to forward complaint has information about the duration taken for CFPB to forward the complaint to companies"
   ]
  },
  {
   "cell_type": "markdown",
   "id": "43e064f1",
   "metadata": {},
   "source": [
    "### For model to reduce computation time we can use sample of the data for model"
   ]
  },
  {
   "cell_type": "code",
   "execution_count": 16,
   "id": "b12da190",
   "metadata": {},
   "outputs": [],
   "source": [
    "# Get a sample data to perform model training\n",
    "\n",
    "df1 = df.groupby(\"consumer_disputed\").sample(n=50000)\n",
    "df1.reset_index(inplace=True)"
   ]
  },
  {
   "cell_type": "markdown",
   "id": "d126c851",
   "metadata": {},
   "source": [
    "## Text Processing"
   ]
  },
  {
   "cell_type": "markdown",
   "id": "4f7c2802",
   "metadata": {},
   "source": [
    "**For Vectorization**\n",
    "\n",
    "* TFIDF\n",
    "* CountVectorizer\n",
    "* NLTK/Scipy Library\n",
    "* Pretrained Glove\n",
    "\n",
    "- here we can use TFIDF to process"
   ]
  },
  {
   "cell_type": "markdown",
   "id": "920f4be8",
   "metadata": {},
   "source": [
    "**Steps for text processing**\n",
    "\n",
    "*   Remove Punctuation\n",
    "*   Remove Stop words\n",
    "*   Lower Casing\n",
    "*   Tokenization\n",
    "*   Stemmig/Lemmatization"
   ]
  },
  {
   "cell_type": "markdown",
   "id": "67016499",
   "metadata": {},
   "source": [
    "- `issue` column has text which has to be preprocessed.\n",
    "- The text needs to be transformed into vectors so as the algorithms will be able to make predictions. In this case, it will be used the Term Frequency – Inverse Document Frequency (TFIDF) weight to evaluate how important a word is to a document in a collection of documents.\n",
    "- After removing punctuation and lower casing the words, the importance of a word is determined in terms of its frequency."
   ]
  },
  {
   "cell_type": "markdown",
   "id": "e98ad8eb",
   "metadata": {},
   "source": [
    "**Create list of stop words which has to be removed**"
   ]
  },
  {
   "cell_type": "code",
   "execution_count": 12,
   "id": "a527274d",
   "metadata": {},
   "outputs": [],
   "source": [
    "stopwords_list = stopwords.words('english') + list(string.punctuation)"
   ]
  },
  {
   "cell_type": "markdown",
   "id": "40dec254",
   "metadata": {},
   "source": [
    "**Create Function to tokenize and lematize the text column**"
   ]
  },
  {
   "cell_type": "code",
   "execution_count": 19,
   "id": "33b47060",
   "metadata": {},
   "outputs": [],
   "source": [
    "# function to tokenize data and remove stopwords\n",
    "def process_text(issue):\n",
    "    \n",
    "    #create tokens\n",
    "    tokens = nltk.word_tokenize(issue)\n",
    "    \n",
    "    # remove common stopwords\n",
    "    stopwords_removed = [token.lower() for token in tokens if token.lower() not in stopwords_list]\n",
    "    \n",
    "    # remove stopwords including few punctuation\n",
    "    stopwords_removed = [word for word in stopwords_removed if word.isalpha()]\n",
    "    return stopwords_removed\n",
    "\n",
    "\n",
    "# concant the strings\n",
    "def concat_strings(words_list):\n",
    "    concat_words = ''\n",
    "    for word in words_list:\n",
    "        concat_words += word + ' '\n",
    "    return concat_words.strip()\n",
    "\n",
    "\n",
    "# function to lemmatize words and merge each complaint into a single space-separated string\n",
    "lemm = WordNetLemmatizer()\n",
    "\n",
    "def lemmatizer_concat(words_list):\n",
    "    # remove any NaN's\n",
    "    list_of_words = [i for i in words_list if i is not np.nan]\n",
    "    \n",
    "    # lemmatize each word\n",
    "    lemmatized_list = []\n",
    "    for idx, word in enumerate(words_list):\n",
    "        lemmatized_list.append(lemm.lemmatize(word))\n",
    "    \n",
    "    # make the list into a single string with the words separated by ' '\n",
    "    final_string = concat_strings(lemmatized_list)\n",
    "    return final_string"
   ]
  },
  {
   "cell_type": "markdown",
   "id": "4f81f6e1",
   "metadata": {},
   "source": [
    "**Prepare data with text processing**"
   ]
  },
  {
   "cell_type": "code",
   "execution_count": 22,
   "id": "76bf178f",
   "metadata": {},
   "outputs": [
    {
     "name": "stdout",
     "output_type": "stream",
     "text": [
      "Processed Row Number 0\n",
      "Processed Row Number 5000\n",
      "Processed Row Number 10000\n",
      "Processed Row Number 15000\n",
      "Processed Row Number 20000\n",
      "Processed Row Number 25000\n",
      "Processed Row Number 30000\n",
      "Processed Row Number 35000\n",
      "Processed Row Number 40000\n",
      "Processed Row Number 45000\n",
      "Processed Row Number 50000\n",
      "Processed Row Number 55000\n",
      "Processed Row Number 60000\n",
      "Processed Row Number 65000\n",
      "Processed Row Number 70000\n",
      "Processed Row Number 75000\n",
      "Processed Row Number 80000\n",
      "Processed Row Number 85000\n",
      "Processed Row Number 90000\n",
      "Processed Row Number 95000\n"
     ]
    }
   ],
   "source": [
    "for i in range(len(df1)):\n",
    "    text = process_text(df1['issue'].loc[i])\n",
    "    final_texts = lemmatizer_concat(text)\n",
    "    df1['issue'].loc[i] = final_texts\n",
    "    if i % 5000 == 0:\n",
    "        print(f'Processed Row Number {i}')"
   ]
  },
  {
   "cell_type": "markdown",
   "id": "f58969e5",
   "metadata": {},
   "source": [
    "**Vectorizing the processed texts**"
   ]
  },
  {
   "cell_type": "code",
   "execution_count": 25,
   "id": "71c11ec1",
   "metadata": {},
   "outputs": [],
   "source": [
    "tfidv = TfidfVectorizer(max_features=None, strip_accents='unicode', analyzer='word', ngram_range=(1, 2))\n",
    "\n",
    "# Get data after vectorizing issue column\n",
    "df_vect = tfidv.fit_transform(df1['issue'])\n",
    "\n",
    "feature_names = tfidv.get_feature_names()"
   ]
  },
  {
   "cell_type": "markdown",
   "id": "7ebeb963",
   "metadata": {},
   "source": [
    "# Data Preprocessing"
   ]
  },
  {
   "cell_type": "markdown",
   "id": "acaa17f2",
   "metadata": {},
   "source": [
    "**Concat old data with vectorized data from issue text column**"
   ]
  },
  {
   "cell_type": "code",
   "execution_count": 30,
   "id": "573d2719",
   "metadata": {},
   "outputs": [],
   "source": [
    "df1 =pd.concat([df1, pd.DataFrame(df_vect.toarray())], axis = 1)"
   ]
  },
  {
   "cell_type": "markdown",
   "id": "fba03def",
   "metadata": {},
   "source": [
    "**After processing issue column as vectors, Now issue column can be removed**"
   ]
  },
  {
   "cell_type": "code",
   "execution_count": 43,
   "id": "25e1dac9",
   "metadata": {},
   "outputs": [],
   "source": [
    "df1.drop(['issue', 'index'], axis=1, inplace=True)"
   ]
  },
  {
   "cell_type": "code",
   "execution_count": 185,
   "id": "35a428f0",
   "metadata": {},
   "outputs": [],
   "source": [
    "from sklearn.model_selection import train_test_split\n",
    "X = df1.drop(['consumer_disputed'], axis=1)\n",
    "y = df1['consumer_disputed']"
   ]
  },
  {
   "cell_type": "code",
   "execution_count": 172,
   "id": "df3405b4",
   "metadata": {},
   "outputs": [
    {
     "data": {
      "text/plain": [
       "(100000, 321)"
      ]
     },
     "execution_count": 172,
     "metadata": {},
     "output_type": "execute_result"
    }
   ],
   "source": [
    "#check shape of Train data\n",
    "X.shape"
   ]
  },
  {
   "cell_type": "markdown",
   "id": "a0cda771",
   "metadata": {},
   "source": [
    "#### Initialize features for transformation "
   ]
  },
  {
   "cell_type": "code",
   "execution_count": 157,
   "id": "6293647f",
   "metadata": {},
   "outputs": [],
   "source": [
    "# for binary encoder\n",
    "binary_features = ['product', 'state', 'submitted_via', 'company_response']\n",
    "# for onehot encoder\n",
    "onhot_features = ['consumer_consent_provided', 'timely','state']"
   ]
  },
  {
   "cell_type": "markdown",
   "id": "67712dce",
   "metadata": {},
   "source": [
    "**Create columntrasnformer for transformation**"
   ]
  },
  {
   "cell_type": "code",
   "execution_count": 186,
   "id": "7a29b2a3",
   "metadata": {},
   "outputs": [],
   "source": [
    "onehot_encoder_pipeline = Pipeline(steps=[\n",
    "    ('SimpleImputer', SimpleImputer(strategy='most_frequent')),\n",
    "    ('OneHot_encoder', OneHotEncoder())\n",
    "])\n",
    "\n",
    "binary_encoder_pipeline = Pipeline(steps=[\n",
    "    ('SimpleImputer', SimpleImputer(strategy='most_frequent')),\n",
    "    ('BinaryEncoder', BinaryEncoder())\n",
    "])\n",
    "\n",
    "# getting data pre processor object\n",
    "preprocessor = ColumnTransformer(\n",
    "    [\n",
    "        (\"Categorical_Pipeline\", onehot_encoder_pipeline, onhot_features),\n",
    "        (\"Binary_encoder_pipeline\", binary_encoder_pipeline, binary_features),\n",
    "        (\"Numeric_Pipeline\", RobustScaler(), numerical_feature)\n",
    "    ]\n",
    ",remainder='passthrough'\n",
    ")"
   ]
  },
  {
   "cell_type": "markdown",
   "id": "c37a6103",
   "metadata": {},
   "source": [
    "**Transforming the data for modelling**"
   ]
  },
  {
   "cell_type": "code",
   "execution_count": 187,
   "id": "d433b51c",
   "metadata": {
    "scrolled": false
   },
   "outputs": [],
   "source": [
    "# fit transform the train data\n",
    "X= preprocessor.fit_transform(X)"
   ]
  },
  {
   "cell_type": "markdown",
   "id": "ccdb30bc",
   "metadata": {},
   "source": [
    "**Manually Encoding Target Feature**"
   ]
  },
  {
   "cell_type": "code",
   "execution_count": 189,
   "id": "fa09a105",
   "metadata": {},
   "outputs": [],
   "source": [
    "# manually encoding \"Yes\" as 0 and \"No\" as 1 \n",
    "y = np.where(y.values==\"Yes\", 0, 1)"
   ]
  },
  {
   "cell_type": "markdown",
   "id": "8c4550ea",
   "metadata": {},
   "source": [
    "## Handling Imbalanced Dataset\n",
    "**Handling Imbalanced Target Variable.**\n",
    "\n",
    "- Synthetic Minority Oversampling Technique or SMOTE is another technique to oversample the minority class. Simply adding duplicate records of minority class often don’t add any new information to the model.\n",
    "\n",
    "- SMOTE is one of the famous oversampling techniques and is very effective in handling class imbalance. The idea is to combine SMOTE with some undersampling techniques (ENN, Tomek) to increase the effectiveness of handling the imbalanced class."
   ]
  },
  {
   "cell_type": "code",
   "execution_count": 167,
   "id": "3048854d",
   "metadata": {},
   "outputs": [],
   "source": [
    "# Resampling the minority class. The strategy can be changed as required.\n",
    "smt = SMOTETomek(random_state=42,sampling_strategy='minority', n_jobs=-1)\n",
    "\n",
    "# Fit the model to generate the data.\n",
    "X_res, y_res = smt.fit_resample(X, y)"
   ]
  },
  {
   "cell_type": "markdown",
   "id": "f24a07ac",
   "metadata": {},
   "source": [
    "## Model Selection"
   ]
  },
  {
   "cell_type": "markdown",
   "id": "b1a6b3b7",
   "metadata": {},
   "source": [
    "**Here should understand the Various Classification models with default values from these models we can choose top 4 with Highest Accuracy score and proceed with HyperParameter Tuning**\n"
   ]
  },
  {
   "cell_type": "code",
   "execution_count": 127,
   "id": "f5baa42f",
   "metadata": {},
   "outputs": [],
   "source": [
    "# Function which returns all evaluation metrics for classification model\n",
    "\n",
    "def evaluate_clf(true, predicted):\n",
    "    acc = accuracy_score(true, predicted) # Calculate Accuracy\n",
    "    f1 = f1_score(true, predicted) # Calculate F1-score\n",
    "    precision = precision_score(true, predicted) # Calculate Precision\n",
    "    recall = recall_score(true, predicted)  # Calculate Recall\n",
    "    roc_auc = roc_auc_score(true, predicted) #Calculate Roc\n",
    "    return acc, f1 , precision, recall, roc_auc"
   ]
  },
  {
   "cell_type": "code",
   "execution_count": 128,
   "id": "42196d5f",
   "metadata": {},
   "outputs": [],
   "source": [
    "# Initialize models which are required for model selection\n",
    "\n",
    "models = {\n",
    "    \"Random Forest\": RandomForestClassifier(),\n",
    "    \"Decision Tree\": DecisionTreeClassifier(),\n",
    "    \"Gradient Boosting\": GradientBoostingClassifier(),\n",
    "    \"Logistic Regression\": LogisticRegression(),\n",
    "     \"K-Neighbors Classifier\": KNeighborsClassifier(),\n",
    "    \"XGBClassifier\": XGBClassifier(), \n",
    "     \"CatBoosting Classifier\": CatBoostClassifier(verbose=False),\n",
    "    \"AdaBoost Classifier\": AdaBoostClassifier()\n",
    "}"
   ]
  },
  {
   "cell_type": "code",
   "execution_count": 129,
   "id": "e62a2033",
   "metadata": {},
   "outputs": [],
   "source": [
    "# Create a function which can evaluate models and return a report in Dataframe\n",
    "\n",
    "def evaluate_models(X, y, models):\n",
    "    '''\n",
    "    This function takes in X and y and models dictionary as input\n",
    "    It splits the data into Train Test split\n",
    "    Iterates through the given model dictionary and evaluates the metrics\n",
    "    Returns: Dataframe which contains report of all models metrics with cost\n",
    "    '''\n",
    "    # separate dataset into train and test\n",
    "    X_train, X_test, y_train, y_test = train_test_split(X,y,test_size=0.2,random_state=42)\n",
    "    \n",
    "    models_list = []\n",
    "    accuracy_list = []\n",
    "    auc= []\n",
    "    \n",
    "    for i in range(len(list(models))):\n",
    "        model = list(models.values())[i]\n",
    "        model.fit(X_train, y_train) # Train model\n",
    "\n",
    "        # Make predictions\n",
    "        y_train_pred = model.predict(X_train)\n",
    "        y_test_pred = model.predict(X_test)\n",
    "\n",
    "        # Training set performance\n",
    "        model_train_accuracy, model_train_f1,model_train_precision,\\\n",
    "        model_train_recall,model_train_rocauc_score=evaluate_clf(y_train ,y_train_pred)\n",
    "\n",
    "\n",
    "        # Test set performance\n",
    "        model_test_accuracy,model_test_f1,model_test_precision,\\\n",
    "        model_test_recall,model_test_rocauc_score=evaluate_clf(y_test, y_test_pred)\n",
    "\n",
    "        print(list(models.keys())[i])\n",
    "        models_list.append(list(models.keys())[i])\n",
    "\n",
    "        print('Model performance for Training set')\n",
    "        print(\"- Accuracy: {:.4f}\".format(model_train_accuracy))\n",
    "        print('- F1 score: {:.4f}'.format(model_train_f1)) \n",
    "        print('- Precision: {:.4f}'.format(model_train_precision))\n",
    "        print('- Recall: {:.4f}'.format(model_train_recall))\n",
    "        print('- Roc Auc Score: {:.4f}'.format(model_train_rocauc_score))\n",
    "\n",
    "        print('----------------------------------')\n",
    "\n",
    "        print('Model performance for Test set')\n",
    "        print('- Accuracy: {:.4f}'.format(model_test_accuracy))\n",
    "        accuracy_list.append(model_test_accuracy)\n",
    "        print('- F1 score: {:.4f}'.format(model_test_f1))\n",
    "        print('- Precision: {:.4f}'.format(model_test_precision))\n",
    "        print('- Recall: {:.4f}'.format(model_test_recall))\n",
    "        print('- Roc Auc Score: {:.4f}'.format(model_test_rocauc_score))\n",
    "        auc.append(model_test_rocauc_score)\n",
    "        print('='*35)\n",
    "        print('\\n')\n",
    "        \n",
    "    report=pd.DataFrame(list(zip(models_list, accuracy_list)), \n",
    "                        columns=['Model Name', 'Accuracy']).sort_values(by=['Accuracy'], ascending=False)\n",
    "        \n",
    "    return report"
   ]
  },
  {
   "cell_type": "markdown",
   "id": "0ca2209a",
   "metadata": {},
   "source": [
    "### Base report of all models with default parameters"
   ]
  },
  {
   "cell_type": "code",
   "execution_count": 190,
   "id": "da872325",
   "metadata": {
    "scrolled": false
   },
   "outputs": [
    {
     "name": "stdout",
     "output_type": "stream",
     "text": [
      "Random Forest\n",
      "Model performance for Training set\n",
      "- Accuracy: 0.7742\n",
      "- F1 score: 0.7642\n",
      "- Precision: 0.7989\n",
      "- Recall: 0.7324\n",
      "- Roc Auc Score: 0.7742\n",
      "----------------------------------\n",
      "Model performance for Test set\n",
      "- Accuracy: 0.5702\n",
      "- F1 score: 0.5567\n",
      "- Precision: 0.5772\n",
      "- Recall: 0.5377\n",
      "- Roc Auc Score: 0.5703\n",
      "===================================\n",
      "\n",
      "\n",
      "Decision Tree\n",
      "Model performance for Training set\n",
      "- Accuracy: 0.7743\n",
      "- F1 score: 0.7511\n",
      "- Precision: 0.8362\n",
      "- Recall: 0.6817\n",
      "- Roc Auc Score: 0.7742\n",
      "----------------------------------\n",
      "Model performance for Test set\n",
      "- Accuracy: 0.5625\n",
      "- F1 score: 0.5257\n",
      "- Precision: 0.5766\n",
      "- Recall: 0.4831\n",
      "- Roc Auc Score: 0.5628\n",
      "===================================\n",
      "\n",
      "\n",
      "Gradient Boosting\n",
      "Model performance for Training set\n",
      "- Accuracy: 0.5910\n",
      "- F1 score: 0.5411\n",
      "- Precision: 0.6155\n",
      "- Recall: 0.4828\n",
      "- Roc Auc Score: 0.5909\n",
      "----------------------------------\n",
      "Model performance for Test set\n",
      "- Accuracy: 0.5927\n",
      "- F1 score: 0.5453\n",
      "- Precision: 0.6202\n",
      "- Recall: 0.4866\n",
      "- Roc Auc Score: 0.5931\n",
      "===================================\n",
      "\n",
      "\n",
      "Logistic Regression\n",
      "Model performance for Training set\n",
      "- Accuracy: 0.5820\n",
      "- F1 score: 0.5705\n",
      "- Precision: 0.5860\n",
      "- Recall: 0.5558\n",
      "- Roc Auc Score: 0.5820\n",
      "----------------------------------\n",
      "Model performance for Test set\n",
      "- Accuracy: 0.5885\n",
      "- F1 score: 0.5787\n",
      "- Precision: 0.5953\n",
      "- Recall: 0.5630\n",
      "- Roc Auc Score: 0.5886\n",
      "===================================\n",
      "\n",
      "\n",
      "K-Neighbors Classifier\n",
      "Model performance for Training set\n",
      "- Accuracy: 0.6636\n",
      "- F1 score: 0.6601\n",
      "- Precision: 0.6664\n",
      "- Recall: 0.6539\n",
      "- Roc Auc Score: 0.6636\n",
      "----------------------------------\n",
      "Model performance for Test set\n",
      "- Accuracy: 0.5595\n",
      "- F1 score: 0.5554\n",
      "- Precision: 0.5630\n",
      "- Recall: 0.5480\n",
      "- Roc Auc Score: 0.5596\n",
      "===================================\n",
      "\n",
      "\n",
      "XGBClassifier\n",
      "Model performance for Training set\n",
      "- Accuracy: 0.6281\n",
      "- F1 score: 0.5862\n",
      "- Precision: 0.6597\n",
      "- Recall: 0.5274\n",
      "- Roc Auc Score: 0.6280\n",
      "----------------------------------\n",
      "Model performance for Test set\n",
      "- Accuracy: 0.5976\n",
      "- F1 score: 0.5535\n",
      "- Precision: 0.6247\n",
      "- Recall: 0.4969\n",
      "- Roc Auc Score: 0.5980\n",
      "===================================\n",
      "\n",
      "\n",
      "CatBoosting Classifier\n",
      "Model performance for Training set\n",
      "- Accuracy: 0.6306\n",
      "- F1 score: 0.5924\n",
      "- Precision: 0.6600\n",
      "- Recall: 0.5374\n",
      "- Roc Auc Score: 0.6306\n",
      "----------------------------------\n",
      "Model performance for Test set\n",
      "- Accuracy: 0.6008\n",
      "- F1 score: 0.5625\n",
      "- Precision: 0.6252\n",
      "- Recall: 0.5112\n",
      "- Roc Auc Score: 0.6011\n",
      "===================================\n",
      "\n",
      "\n",
      "AdaBoost Classifier\n",
      "Model performance for Training set\n",
      "- Accuracy: 0.5802\n",
      "- F1 score: 0.5699\n",
      "- Precision: 0.5836\n",
      "- Recall: 0.5568\n",
      "- Roc Auc Score: 0.5801\n",
      "----------------------------------\n",
      "Model performance for Test set\n",
      "- Accuracy: 0.5875\n",
      "- F1 score: 0.5784\n",
      "- Precision: 0.5940\n",
      "- Recall: 0.5635\n",
      "- Roc Auc Score: 0.5876\n",
      "===================================\n",
      "\n",
      "\n"
     ]
    }
   ],
   "source": [
    "base_report =evaluate_models(X=X_res, y=y_res, models=models)"
   ]
  },
  {
   "cell_type": "markdown",
   "id": "9c095685",
   "metadata": {},
   "source": [
    "### Report in DataFrame"
   ]
  },
  {
   "cell_type": "code",
   "execution_count": 191,
   "id": "4592b0ae",
   "metadata": {},
   "outputs": [
    {
     "data": {
      "text/html": [
       "<div>\n",
       "<style scoped>\n",
       "    .dataframe tbody tr th:only-of-type {\n",
       "        vertical-align: middle;\n",
       "    }\n",
       "\n",
       "    .dataframe tbody tr th {\n",
       "        vertical-align: top;\n",
       "    }\n",
       "\n",
       "    .dataframe thead th {\n",
       "        text-align: right;\n",
       "    }\n",
       "</style>\n",
       "<table border=\"1\" class=\"dataframe\">\n",
       "  <thead>\n",
       "    <tr style=\"text-align: right;\">\n",
       "      <th></th>\n",
       "      <th>Model Name</th>\n",
       "      <th>Accuracy</th>\n",
       "    </tr>\n",
       "  </thead>\n",
       "  <tbody>\n",
       "    <tr>\n",
       "      <th>6</th>\n",
       "      <td>CatBoosting Classifier</td>\n",
       "      <td>0.600750</td>\n",
       "    </tr>\n",
       "    <tr>\n",
       "      <th>5</th>\n",
       "      <td>XGBClassifier</td>\n",
       "      <td>0.597572</td>\n",
       "    </tr>\n",
       "    <tr>\n",
       "      <th>2</th>\n",
       "      <td>Gradient Boosting</td>\n",
       "      <td>0.592674</td>\n",
       "    </tr>\n",
       "    <tr>\n",
       "      <th>3</th>\n",
       "      <td>Logistic Regression</td>\n",
       "      <td>0.588505</td>\n",
       "    </tr>\n",
       "    <tr>\n",
       "      <th>7</th>\n",
       "      <td>AdaBoost Classifier</td>\n",
       "      <td>0.587515</td>\n",
       "    </tr>\n",
       "    <tr>\n",
       "      <th>0</th>\n",
       "      <td>Random Forest</td>\n",
       "      <td>0.570163</td>\n",
       "    </tr>\n",
       "    <tr>\n",
       "      <th>1</th>\n",
       "      <td>Decision Tree</td>\n",
       "      <td>0.562451</td>\n",
       "    </tr>\n",
       "    <tr>\n",
       "      <th>4</th>\n",
       "      <td>K-Neighbors Classifier</td>\n",
       "      <td>0.559533</td>\n",
       "    </tr>\n",
       "  </tbody>\n",
       "</table>\n",
       "</div>"
      ],
      "text/plain": [
       "               Model Name  Accuracy\n",
       "6  CatBoosting Classifier  0.600750\n",
       "5           XGBClassifier  0.597572\n",
       "2       Gradient Boosting  0.592674\n",
       "3     Logistic Regression  0.588505\n",
       "7     AdaBoost Classifier  0.587515\n",
       "0           Random Forest  0.570163\n",
       "1           Decision Tree  0.562451\n",
       "4  K-Neighbors Classifier  0.559533"
      ]
     },
     "execution_count": 191,
     "metadata": {},
     "output_type": "execute_result"
    }
   ],
   "source": [
    "base_report"
   ]
  },
  {
   "cell_type": "markdown",
   "id": "1c652798",
   "metadata": {},
   "source": [
    "**Here we can use CatBoost Classifier, XGBClassifier for Hyper Parameter Tuning**"
   ]
  },
  {
   "cell_type": "markdown",
   "id": "d677fdbc",
   "metadata": {},
   "source": [
    "## Hyperopt: Distributed Hyperparameter Optimization"
   ]
  },
  {
   "cell_type": "markdown",
   "id": "62a2f244",
   "metadata": {},
   "source": [
    "- Hyperopt is a powerful python library for hyperparameter optimization developed by James Bergstra. Hyperopt uses a form of Bayesian optimization for parameter tuning that allows you to get the best parameters for a given model.\n",
    "- Grid Search is exhaustive in case of Resources usage.\n",
    "- Random Search, is random, so could miss the most important values. However, there is a superior method available through the Hyperopt package\n",
    "\n",
    "\n",
    "**Search space is where Hyperopt really gives you a many of sampling options:**\n",
    "\n",
    "- for categorical parameters you have hp.choice\n",
    "- for integers you get hp.randit, hp.quniform, hp.qloguniform and hp.qlognormal\n",
    "- for floats we have hp.normal, hp.uniform, hp.lognormal and hp.loguniform\n",
    "- It is the most extensive sampling functionality out there.\n",
    "\n",
    "\n",
    "You define your search space before you run optimization but you can create very complex parameter spaces:"
   ]
  },
  {
   "cell_type": "markdown",
   "id": "c456f0b3",
   "metadata": {},
   "source": [
    "### Hyperparamter tuning for Xgboost Model"
   ]
  },
  {
   "cell_type": "markdown",
   "id": "281776f6",
   "metadata": {},
   "source": [
    "**This is a function to minimize that receives hyperparameters values as input from the search space and returns the loss**\n",
    "\n"
   ]
  },
  {
   "cell_type": "code",
   "execution_count": 197,
   "id": "8dc6d5d5",
   "metadata": {},
   "outputs": [],
   "source": [
    "# Create an objective function for hyperopt\n",
    "def XGB_objective(params):\n",
    "    model = XGBClassifier(**params, n_jobs =-1)\n",
    "    X_train, X_test, y_train, y_test = train_test_split(X_res,y_res,test_size=0.2,random_state=42)\n",
    "    model = model.fit(X_train, y_train)\n",
    "    y_pred = model.predict(X_test)\n",
    "    acc = accuracy_score(y_test, y_pred)\n",
    "    return -acc"
   ]
  },
  {
   "cell_type": "code",
   "execution_count": 200,
   "id": "815ac2df",
   "metadata": {},
   "outputs": [
    {
     "name": "stdout",
     "output_type": "stream",
     "text": [
      "100%|████████████████████████████████████████████████| 10/10 [16:26<00:00, 98.65s/trial, best loss: -0.593559481006722]\n"
     ]
    }
   ],
   "source": [
    "# Define the seacrh space\n",
    "\n",
    "search_space={'max_depth': hp.quniform(\"max_depth\", 3, 10, 1),\n",
    "        'gamma': hp.uniform ('gamma', 1,9),\n",
    "        'colsample_bytree' : hp.uniform('colsample_bytree', 0.5,1),\n",
    "        'min_child_weight' : hp.quniform('min_child_weight', 0, 10, 1),\n",
    "        'n_estimators': 180,\n",
    "        'seed': 0\n",
    "    }\n",
    "\n",
    "xgb_trials = Trials()\n",
    "\n",
    "# Using Fmin function to get best xgb_objective\n",
    "best_xgb= fmin(\n",
    "    fn=XGB_objective,\n",
    "    space=search_space,\n",
    "    algo=tpe.suggest,\n",
    "    trials=xgb_trials,\n",
    "    max_evals=10,\n",
    "    rstate=np.random.default_rng()\n",
    ")"
   ]
  },
  {
   "cell_type": "markdown",
   "id": "ffa7b690",
   "metadata": {},
   "source": [
    "* **Xgboost Classifier has accuracy of 59.35%**"
   ]
  },
  {
   "cell_type": "markdown",
   "id": "848d6669",
   "metadata": {},
   "source": [
    "### HyperParamter tuning for Catboost model"
   ]
  },
  {
   "cell_type": "code",
   "execution_count": 202,
   "id": "fb2ae3ab",
   "metadata": {},
   "outputs": [],
   "source": [
    "def CatBoost_objective(params):\n",
    "    model = CatBoostClassifier(**params,verbose=False, thread_count=-1)\n",
    "    X_train, X_test, y_train, y_test = train_test_split(X_res,y_res,test_size=0.2,random_state=42)\n",
    "    model = model.fit(X_train, y_train)\n",
    "    y_pred = model.predict(X_test)\n",
    "    acc = accuracy_score(y_test, y_pred)\n",
    "    return -acc"
   ]
  },
  {
   "cell_type": "code",
   "execution_count": 235,
   "id": "5fc04b0b",
   "metadata": {},
   "outputs": [
    {
     "name": "stdout",
     "output_type": "stream",
     "text": [
      "100%|███████████████████████████████████████████████| 10/10 [02:07<00:00, 12.73s/trial, best loss: -0.6027825543223386]\n"
     ]
    }
   ],
   "source": [
    "search_space = {\n",
    "        'learning_rate': hp.uniform('learning_rate', 0.001, 1),\n",
    "        'depth': scope.int(hp.quniform('max_depth', 2, 10, 1)),\n",
    "        'iterations': scope.int(hp.quniform('iterations', 50,1000,50)),\n",
    "        'l2_leaf_reg': scope.int(hp.quniform('l2_leaf_reg',1,50,1))\n",
    "}\n",
    "\n",
    "cat_trials = Trials()\n",
    "\n",
    "# Using Fmin function to get best rf_objective\n",
    "best_cat= fmin(\n",
    "    fn=CatBoost_objective,\n",
    "    space=search_space,\n",
    "    algo=tpe.suggest,\n",
    "    trials=cat_trials,\n",
    "    max_evals=10,\n",
    "    rstate=np.random.default_rng()\n",
    ")"
   ]
  },
  {
   "cell_type": "markdown",
   "id": "cdea33d5",
   "metadata": {},
   "source": [
    "**Best parameters for catboost model**"
   ]
  },
  {
   "cell_type": "code",
   "execution_count": 236,
   "id": "71807cd4",
   "metadata": {},
   "outputs": [
    {
     "data": {
      "text/plain": [
       "{'iterations': 500.0,\n",
       " 'l2_leaf_reg': 34.0,\n",
       " 'learning_rate': 0.08499842096744226,\n",
       " 'max_depth': 8.0}"
      ]
     },
     "execution_count": 236,
     "metadata": {},
     "output_type": "execute_result"
    }
   ],
   "source": [
    "best_cat"
   ]
  },
  {
   "cell_type": "markdown",
   "id": "d4ca9638",
   "metadata": {},
   "source": [
    "## Final Model"
   ]
  },
  {
   "cell_type": "code",
   "execution_count": 238,
   "id": "10cb5c3d",
   "metadata": {},
   "outputs": [
    {
     "data": {
      "text/plain": [
       "<sklearn.metrics._plot.confusion_matrix.ConfusionMatrixDisplay at 0x1884f6dc820>"
      ]
     },
     "execution_count": 238,
     "metadata": {},
     "output_type": "execute_result"
    },
    {
     "data": {
      "image/png": "[encoded data removed]",
      "text/plain": [
       "<Figure size 432x288 with 2 Axes>"
      ]
     },
     "metadata": {
      "needs_background": "light"
     },
     "output_type": "display_data"
    }
   ],
   "source": [
    "model = CatBoostClassifier(**best_cat, verbose=False, thread_count=-1)\n",
    "\n",
    "X_train, X_test, y_train, y_test = train_test_split(X_res,y_res,test_size=0.2,random_state=42)\n",
    "\n",
    "model = model.fit(X_train, y_train)\n",
    "y_pred = model.predict(X_test)\n",
    "acc = accuracy_score(y_test, y_pred)\n",
    "\n",
    "matrix =confusion_matrix(y_test, y_pred)\n",
    "cm = ConfusionMatrixDisplay(matrix)"
   ]
  },
  {
   "cell_type": "markdown",
   "id": "06ddfc33",
   "metadata": {},
   "source": [
    "### Confusion matrix for the Final Catboost model"
   ]
  },
  {
   "cell_type": "code",
   "execution_count": 239,
   "id": "99077128",
   "metadata": {},
   "outputs": [
    {
     "data": {
      "image/png": "[encoded data removed]",
      "text/plain": [
       "<Figure size 432x288 with 2 Axes>"
      ]
     },
     "metadata": {
      "needs_background": "light"
     },
     "output_type": "display_data"
    }
   ],
   "source": [
    "cm.plot();"
   ]
  },
  {
   "cell_type": "markdown",
   "id": "09178f6a",
   "metadata": {},
   "source": [
    "## The Best model is Catboost Classifier with 60.27% Accuracy"
   ]
  },
  {
   "cell_type": "code",
   "execution_count": null,
   "id": "554a6cf4",
   "metadata": {},
   "outputs": [],
   "source": [
    "## - Note accuracy may vary on different runs as we take random sample from the data for model training"
   ]
  }
 ],
 "metadata": {
  "kernelspec": {
   "display_name": "Python 3 (ipykernel)",
   "language": "python",
   "name": "python3"
  },
  "language_info": {
   "codemirror_mode": {
    "name": "ipython",
    "version": 3
   },
   "file_extension": ".py",
   "mimetype": "text/x-python",
   "name": "python",
   "nbconvert_exporter": "python",
   "pygments_lexer": "ipython3",
   "version": "3.9.12"
  }
 },
 "nbformat": 4,
 "nbformat_minor": 5
}
