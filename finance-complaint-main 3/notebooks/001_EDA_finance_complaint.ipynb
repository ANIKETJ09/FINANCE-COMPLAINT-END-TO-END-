{
 "cells": [
  {
   "cell_type": "markdown",
   "id": "677e9888",
   "metadata": {},
   "source": [
    "![iNeuron Logo](https://encrypted-tbn0.gstatic.com/images?q=tbn:ANd9GcTRLLj3Vw3ASLxRes0gT0QysvPrQ2Vy3uSC4IAWEjb3&s)"
   ]
  },
  {
   "cell_type": "markdown",
   "id": "7aa3cf5c",
   "metadata": {},
   "source": [
    "# Finance Complaint Project"
   ]
  },
  {
   "cell_type": "markdown",
   "id": "0d28140e",
   "metadata": {},
   "source": [
    "## Exploratory Data Analysis"
   ]
  },
  {
   "cell_type": "markdown",
   "id": "b9165967",
   "metadata": {},
   "source": [
    "### Problem Statement"
   ]
  },
  {
   "cell_type": "markdown",
   "id": "03b72b0d",
   "metadata": {},
   "source": [
    "The Consumer Financial Protection Bureau (CFPB) is a federal U.S. agency that acts as a mediator when disputes arise between financial institutions and consumers. Via a web form, consumers can send the agency a narrative of their dispute.\n",
    "\n",
    "This project made using Natural Language Processing (NLP) with machine learning models to process the issues text written in the complaint and other features in the dataset to predict if the customer will dispute or not.\n",
    "\n",
    "**Industry use case:** An NLP + Machine learning model would make the classification of whether the consumer will dispute with the companty or not and thus helping the company to prioritize the complaint based on the prediction."
   ]
  },
  {
   "cell_type": "markdown",
   "id": "2c3ef2c7",
   "metadata": {},
   "source": [
    "**Importing Required libraries**"
   ]
  },
  {
   "cell_type": "code",
   "execution_count": 1,
   "id": "abaa8bf3",
   "metadata": {},
   "outputs": [],
   "source": [
    "import pandas as pd\n",
    "import numpy as np\n",
    "import matplotlib.pyplot as plt\n",
    "import seaborn as sns\n",
    "import plotly.express as px\n",
    "import warnings\n",
    "\n",
    "warnings.filterwarnings(\"ignore\")\n",
    "\n",
    "%matplotlib inline\n",
    "pd.set_option('display.max_columns', 50)"
   ]
  },
  {
   "cell_type": "markdown",
   "id": "b2b4d3c5",
   "metadata": {},
   "source": [
    "\n",
    "\n",
    "-  Most of the companies even though they solved the issue and responded to both customer and CFPB they choose not to provide public respose. That can be a reason why consumer disputed response data is not publicly available This justifies the N/A values in target column.\n",
    "- So while downloading the data N/A were removed"
   ]
  },
  {
   "cell_type": "markdown",
   "id": "e2678fd5",
   "metadata": {},
   "source": [
    "**Import the Parquet file as Pandas DataFrame**"
   ]
  },
  {
   "cell_type": "code",
   "execution_count": 2,
   "id": "19779744",
   "metadata": {
    "scrolled": false
   },
   "outputs": [],
   "source": [
    "df = pd.read_parquet('data/finance.parquet')"
   ]
  },
  {
   "cell_type": "markdown",
   "id": "2800aed0",
   "metadata": {},
   "source": [
    "**Show Top 5 Records**"
   ]
  },
  {
   "cell_type": "code",
   "execution_count": 3,
   "id": "707c4ff2",
   "metadata": {},
   "outputs": [
    {
     "data": {
      "text/html": [
       "<div>\n",
       "<style scoped>\n",
       "    .dataframe tbody tr th:only-of-type {\n",
       "        vertical-align: middle;\n",
       "    }\n",
       "\n",
       "    .dataframe tbody tr th {\n",
       "        vertical-align: top;\n",
       "    }\n",
       "\n",
       "    .dataframe thead th {\n",
       "        text-align: right;\n",
       "    }\n",
       "</style>\n",
       "<table border=\"1\" class=\"dataframe\">\n",
       "  <thead>\n",
       "    <tr style=\"text-align: right;\">\n",
       "      <th></th>\n",
       "      <th>company</th>\n",
       "      <th>company_public_response</th>\n",
       "      <th>company_response</th>\n",
       "      <th>complaint_id</th>\n",
       "      <th>complaint_what_happened</th>\n",
       "      <th>consumer_consent_provided</th>\n",
       "      <th>consumer_disputed</th>\n",
       "      <th>date_received</th>\n",
       "      <th>date_sent_to_company</th>\n",
       "      <th>issue</th>\n",
       "      <th>product</th>\n",
       "      <th>state</th>\n",
       "      <th>sub_issue</th>\n",
       "      <th>sub_product</th>\n",
       "      <th>submitted_via</th>\n",
       "      <th>tags</th>\n",
       "      <th>timely</th>\n",
       "      <th>zip_code</th>\n",
       "    </tr>\n",
       "  </thead>\n",
       "  <tbody>\n",
       "    <tr>\n",
       "      <th>0</th>\n",
       "      <td>CAPITAL ONE FINANCIAL CORPORATION</td>\n",
       "      <td>None</td>\n",
       "      <td>Closed with explanation</td>\n",
       "      <td>2417725</td>\n",
       "      <td></td>\n",
       "      <td>Consent not provided</td>\n",
       "      <td>No</td>\n",
       "      <td>2017-04-05T12:00:00-05:00</td>\n",
       "      <td>2017-04-05T12:00:00-05:00</td>\n",
       "      <td>Disclosure verification of debt</td>\n",
       "      <td>Debt collection</td>\n",
       "      <td>TX</td>\n",
       "      <td>Not given enough info to verify debt</td>\n",
       "      <td>Auto</td>\n",
       "      <td>Web</td>\n",
       "      <td>None</td>\n",
       "      <td>Yes</td>\n",
       "      <td>77093</td>\n",
       "    </tr>\n",
       "    <tr>\n",
       "      <th>1</th>\n",
       "      <td>EQUIFAX, INC.</td>\n",
       "      <td>None</td>\n",
       "      <td>Closed with explanation</td>\n",
       "      <td>2425095</td>\n",
       "      <td></td>\n",
       "      <td>Consent not provided</td>\n",
       "      <td>No</td>\n",
       "      <td>2017-04-07T12:00:00-05:00</td>\n",
       "      <td>2017-04-07T12:00:00-05:00</td>\n",
       "      <td>Incorrect information on credit report</td>\n",
       "      <td>Credit reporting</td>\n",
       "      <td>VA</td>\n",
       "      <td>Account status</td>\n",
       "      <td>None</td>\n",
       "      <td>Web</td>\n",
       "      <td>None</td>\n",
       "      <td>Yes</td>\n",
       "      <td>23113</td>\n",
       "    </tr>\n",
       "    <tr>\n",
       "      <th>2</th>\n",
       "      <td>TRANSUNION INTERMEDIATE HOLDINGS, INC.</td>\n",
       "      <td>Company has responded to the consumer and the ...</td>\n",
       "      <td>Closed with explanation</td>\n",
       "      <td>2425690</td>\n",
       "      <td>Updated case number XXXX. I have been writting...</td>\n",
       "      <td>Consent provided</td>\n",
       "      <td>No</td>\n",
       "      <td>2017-04-07T12:00:00-05:00</td>\n",
       "      <td>2017-04-07T12:00:00-05:00</td>\n",
       "      <td>Credit reporting company's investigation</td>\n",
       "      <td>Credit reporting</td>\n",
       "      <td>TX</td>\n",
       "      <td>Investigation took too long</td>\n",
       "      <td>None</td>\n",
       "      <td>Web</td>\n",
       "      <td>None</td>\n",
       "      <td>Yes</td>\n",
       "      <td>75035</td>\n",
       "    </tr>\n",
       "    <tr>\n",
       "      <th>3</th>\n",
       "      <td>Santander Consumer USA Holdings Inc.</td>\n",
       "      <td>None</td>\n",
       "      <td>Closed with explanation</td>\n",
       "      <td>2417087</td>\n",
       "      <td>I co-signed for an auto loan XX/XX/XXXX for a ...</td>\n",
       "      <td>Consent provided</td>\n",
       "      <td>Yes</td>\n",
       "      <td>2017-04-03T12:00:00-05:00</td>\n",
       "      <td>2017-04-03T12:00:00-05:00</td>\n",
       "      <td>Problems when you are unable to pay</td>\n",
       "      <td>Consumer Loan</td>\n",
       "      <td>NC</td>\n",
       "      <td>None</td>\n",
       "      <td>Vehicle loan</td>\n",
       "      <td>Web</td>\n",
       "      <td>None</td>\n",
       "      <td>Yes</td>\n",
       "      <td>28212</td>\n",
       "    </tr>\n",
       "    <tr>\n",
       "      <th>4</th>\n",
       "      <td>Fidelity National Information Services, Inc. (...</td>\n",
       "      <td>Company has responded to the consumer and the ...</td>\n",
       "      <td>Closed with explanation</td>\n",
       "      <td>2357620</td>\n",
       "      <td></td>\n",
       "      <td>Consent not provided</td>\n",
       "      <td>No</td>\n",
       "      <td>2017-02-23T12:00:00-05:00</td>\n",
       "      <td>2017-02-28T12:00:00-05:00</td>\n",
       "      <td>Incorrect information on credit report</td>\n",
       "      <td>Credit reporting</td>\n",
       "      <td>CA</td>\n",
       "      <td>Information is not mine</td>\n",
       "      <td>None</td>\n",
       "      <td>Web</td>\n",
       "      <td>None</td>\n",
       "      <td>Yes</td>\n",
       "      <td>95945</td>\n",
       "    </tr>\n",
       "  </tbody>\n",
       "</table>\n",
       "</div>"
      ],
      "text/plain": [
       "                                             company  \\\n",
       "0                  CAPITAL ONE FINANCIAL CORPORATION   \n",
       "1                                      EQUIFAX, INC.   \n",
       "2             TRANSUNION INTERMEDIATE HOLDINGS, INC.   \n",
       "3               Santander Consumer USA Holdings Inc.   \n",
       "4  Fidelity National Information Services, Inc. (...   \n",
       "\n",
       "                             company_public_response         company_response  \\\n",
       "0                                               None  Closed with explanation   \n",
       "1                                               None  Closed with explanation   \n",
       "2  Company has responded to the consumer and the ...  Closed with explanation   \n",
       "3                                               None  Closed with explanation   \n",
       "4  Company has responded to the consumer and the ...  Closed with explanation   \n",
       "\n",
       "  complaint_id                            complaint_what_happened  \\\n",
       "0      2417725                                                      \n",
       "1      2425095                                                      \n",
       "2      2425690  Updated case number XXXX. I have been writting...   \n",
       "3      2417087  I co-signed for an auto loan XX/XX/XXXX for a ...   \n",
       "4      2357620                                                      \n",
       "\n",
       "  consumer_consent_provided consumer_disputed              date_received  \\\n",
       "0      Consent not provided                No  2017-04-05T12:00:00-05:00   \n",
       "1      Consent not provided                No  2017-04-07T12:00:00-05:00   \n",
       "2          Consent provided                No  2017-04-07T12:00:00-05:00   \n",
       "3          Consent provided               Yes  2017-04-03T12:00:00-05:00   \n",
       "4      Consent not provided                No  2017-02-23T12:00:00-05:00   \n",
       "\n",
       "        date_sent_to_company                                     issue  \\\n",
       "0  2017-04-05T12:00:00-05:00           Disclosure verification of debt   \n",
       "1  2017-04-07T12:00:00-05:00    Incorrect information on credit report   \n",
       "2  2017-04-07T12:00:00-05:00  Credit reporting company's investigation   \n",
       "3  2017-04-03T12:00:00-05:00       Problems when you are unable to pay   \n",
       "4  2017-02-28T12:00:00-05:00    Incorrect information on credit report   \n",
       "\n",
       "            product state                             sub_issue   sub_product  \\\n",
       "0   Debt collection    TX  Not given enough info to verify debt          Auto   \n",
       "1  Credit reporting    VA                        Account status          None   \n",
       "2  Credit reporting    TX           Investigation took too long          None   \n",
       "3     Consumer Loan    NC                                  None  Vehicle loan   \n",
       "4  Credit reporting    CA               Information is not mine          None   \n",
       "\n",
       "  submitted_via  tags timely zip_code  \n",
       "0           Web  None    Yes    77093  \n",
       "1           Web  None    Yes    23113  \n",
       "2           Web  None    Yes    75035  \n",
       "3           Web  None    Yes    28212  \n",
       "4           Web  None    Yes    95945  "
      ]
     },
     "execution_count": 3,
     "metadata": {},
     "output_type": "execute_result"
    }
   ],
   "source": [
    "df.head()"
   ]
  },
  {
   "cell_type": "markdown",
   "id": "82d41900",
   "metadata": {},
   "source": [
    "**Unique values in target column** "
   ]
  },
  {
   "cell_type": "code",
   "execution_count": 4,
   "id": "f62debc1",
   "metadata": {},
   "outputs": [
    {
     "data": {
      "text/plain": [
       "No     80.701903\n",
       "Yes    19.298097\n",
       "Name: consumer_disputed, dtype: float64"
      ]
     },
     "execution_count": 4,
     "metadata": {},
     "output_type": "execute_result"
    }
   ],
   "source": [
    "df.consumer_disputed.value_counts(normalize=True)*100"
   ]
  },
  {
   "cell_type": "markdown",
   "id": "7fd1fdde",
   "metadata": {},
   "source": [
    "**Shape of the dataset**"
   ]
  },
  {
   "cell_type": "code",
   "execution_count": 5,
   "id": "9f8d94a3",
   "metadata": {},
   "outputs": [
    {
     "data": {
      "text/plain": [
       "(767656, 18)"
      ]
     },
     "execution_count": 5,
     "metadata": {},
     "output_type": "execute_result"
    }
   ],
   "source": [
    "df.shape"
   ]
  },
  {
   "cell_type": "markdown",
   "id": "b25c7fd4",
   "metadata": {},
   "source": [
    "#### As we can see `complaint_what_happened` has empty strings which can be converted to np.nan"
   ]
  },
  {
   "cell_type": "code",
   "execution_count": 6,
   "id": "a3c68aa6",
   "metadata": {},
   "outputs": [],
   "source": [
    "df.replace('', np.nan, inplace=True)"
   ]
  },
  {
   "cell_type": "markdown",
   "id": "72eea4c0",
   "metadata": {},
   "source": [
    "**Summary of the dataset**"
   ]
  },
  {
   "cell_type": "code",
   "execution_count": 7,
   "id": "35c005bf",
   "metadata": {},
   "outputs": [
    {
     "data": {
      "text/html": [
       "<div>\n",
       "<style scoped>\n",
       "    .dataframe tbody tr th:only-of-type {\n",
       "        vertical-align: middle;\n",
       "    }\n",
       "\n",
       "    .dataframe tbody tr th {\n",
       "        vertical-align: top;\n",
       "    }\n",
       "\n",
       "    .dataframe thead th {\n",
       "        text-align: right;\n",
       "    }\n",
       "</style>\n",
       "<table border=\"1\" class=\"dataframe\">\n",
       "  <thead>\n",
       "    <tr style=\"text-align: right;\">\n",
       "      <th></th>\n",
       "      <th>count</th>\n",
       "      <th>unique</th>\n",
       "      <th>top</th>\n",
       "      <th>freq</th>\n",
       "    </tr>\n",
       "  </thead>\n",
       "  <tbody>\n",
       "    <tr>\n",
       "      <th>company</th>\n",
       "      <td>767656</td>\n",
       "      <td>4284</td>\n",
       "      <td>BANK OF AMERICA, NATIONAL ASSOCIATION</td>\n",
       "      <td>65534</td>\n",
       "    </tr>\n",
       "    <tr>\n",
       "      <th>company_public_response</th>\n",
       "      <td>196044</td>\n",
       "      <td>10</td>\n",
       "      <td>Company has responded to the consumer and the ...</td>\n",
       "      <td>95657</td>\n",
       "    </tr>\n",
       "    <tr>\n",
       "      <th>company_response</th>\n",
       "      <td>767656</td>\n",
       "      <td>7</td>\n",
       "      <td>Closed with explanation</td>\n",
       "      <td>579257</td>\n",
       "    </tr>\n",
       "    <tr>\n",
       "      <th>complaint_id</th>\n",
       "      <td>767656</td>\n",
       "      <td>765945</td>\n",
       "      <td>1723008</td>\n",
       "      <td>2</td>\n",
       "    </tr>\n",
       "    <tr>\n",
       "      <th>complaint_what_happened</th>\n",
       "      <td>164343</td>\n",
       "      <td>160968</td>\n",
       "      <td>I am filing this complaint because Experian ha...</td>\n",
       "      <td>103</td>\n",
       "    </tr>\n",
       "    <tr>\n",
       "      <th>consumer_consent_provided</th>\n",
       "      <td>767618</td>\n",
       "      <td>5</td>\n",
       "      <td>N/A</td>\n",
       "      <td>469214</td>\n",
       "    </tr>\n",
       "    <tr>\n",
       "      <th>consumer_disputed</th>\n",
       "      <td>767656</td>\n",
       "      <td>2</td>\n",
       "      <td>No</td>\n",
       "      <td>619513</td>\n",
       "    </tr>\n",
       "    <tr>\n",
       "      <th>date_received</th>\n",
       "      <td>767656</td>\n",
       "      <td>1940</td>\n",
       "      <td>2017-01-19T12:00:00-05:00</td>\n",
       "      <td>2070</td>\n",
       "    </tr>\n",
       "    <tr>\n",
       "      <th>date_sent_to_company</th>\n",
       "      <td>767656</td>\n",
       "      <td>2024</td>\n",
       "      <td>2017-01-19T12:00:00-05:00</td>\n",
       "      <td>1614</td>\n",
       "    </tr>\n",
       "    <tr>\n",
       "      <th>issue</th>\n",
       "      <td>767656</td>\n",
       "      <td>99</td>\n",
       "      <td>Loan modification,collection,foreclosure</td>\n",
       "      <td>111899</td>\n",
       "    </tr>\n",
       "    <tr>\n",
       "      <th>product</th>\n",
       "      <td>767656</td>\n",
       "      <td>13</td>\n",
       "      <td>Mortgage</td>\n",
       "      <td>226113</td>\n",
       "    </tr>\n",
       "    <tr>\n",
       "      <th>state</th>\n",
       "      <td>762006</td>\n",
       "      <td>62</td>\n",
       "      <td>CA</td>\n",
       "      <td>110421</td>\n",
       "    </tr>\n",
       "    <tr>\n",
       "      <th>sub_issue</th>\n",
       "      <td>313783</td>\n",
       "      <td>61</td>\n",
       "      <td>Account status</td>\n",
       "      <td>37157</td>\n",
       "    </tr>\n",
       "    <tr>\n",
       "      <th>sub_product</th>\n",
       "      <td>533197</td>\n",
       "      <td>50</td>\n",
       "      <td>Other mortgage</td>\n",
       "      <td>86420</td>\n",
       "    </tr>\n",
       "    <tr>\n",
       "      <th>submitted_via</th>\n",
       "      <td>767656</td>\n",
       "      <td>6</td>\n",
       "      <td>Web</td>\n",
       "      <td>522825</td>\n",
       "    </tr>\n",
       "    <tr>\n",
       "      <th>tags</th>\n",
       "      <td>108360</td>\n",
       "      <td>3</td>\n",
       "      <td>Older American</td>\n",
       "      <td>61365</td>\n",
       "    </tr>\n",
       "    <tr>\n",
       "      <th>timely</th>\n",
       "      <td>767656</td>\n",
       "      <td>2</td>\n",
       "      <td>Yes</td>\n",
       "      <td>746372</td>\n",
       "    </tr>\n",
       "    <tr>\n",
       "      <th>zip_code</th>\n",
       "      <td>762009</td>\n",
       "      <td>28716</td>\n",
       "      <td>48382</td>\n",
       "      <td>942</td>\n",
       "    </tr>\n",
       "  </tbody>\n",
       "</table>\n",
       "</div>"
      ],
      "text/plain": [
       "                            count  unique  \\\n",
       "company                    767656    4284   \n",
       "company_public_response    196044      10   \n",
       "company_response           767656       7   \n",
       "complaint_id               767656  765945   \n",
       "complaint_what_happened    164343  160968   \n",
       "consumer_consent_provided  767618       5   \n",
       "consumer_disputed          767656       2   \n",
       "date_received              767656    1940   \n",
       "date_sent_to_company       767656    2024   \n",
       "issue                      767656      99   \n",
       "product                    767656      13   \n",
       "state                      762006      62   \n",
       "sub_issue                  313783      61   \n",
       "sub_product                533197      50   \n",
       "submitted_via              767656       6   \n",
       "tags                       108360       3   \n",
       "timely                     767656       2   \n",
       "zip_code                   762009   28716   \n",
       "\n",
       "                                                                         top  \\\n",
       "company                                BANK OF AMERICA, NATIONAL ASSOCIATION   \n",
       "company_public_response    Company has responded to the consumer and the ...   \n",
       "company_response                                     Closed with explanation   \n",
       "complaint_id                                                         1723008   \n",
       "complaint_what_happened    I am filing this complaint because Experian ha...   \n",
       "consumer_consent_provided                                                N/A   \n",
       "consumer_disputed                                                         No   \n",
       "date_received                                      2017-01-19T12:00:00-05:00   \n",
       "date_sent_to_company                               2017-01-19T12:00:00-05:00   \n",
       "issue                               Loan modification,collection,foreclosure   \n",
       "product                                                             Mortgage   \n",
       "state                                                                     CA   \n",
       "sub_issue                                                     Account status   \n",
       "sub_product                                                   Other mortgage   \n",
       "submitted_via                                                            Web   \n",
       "tags                                                          Older American   \n",
       "timely                                                                   Yes   \n",
       "zip_code                                                               48382   \n",
       "\n",
       "                             freq  \n",
       "company                     65534  \n",
       "company_public_response     95657  \n",
       "company_response           579257  \n",
       "complaint_id                    2  \n",
       "complaint_what_happened       103  \n",
       "consumer_consent_provided  469214  \n",
       "consumer_disputed          619513  \n",
       "date_received                2070  \n",
       "date_sent_to_company         1614  \n",
       "issue                      111899  \n",
       "product                    226113  \n",
       "state                      110421  \n",
       "sub_issue                   37157  \n",
       "sub_product                 86420  \n",
       "submitted_via              522825  \n",
       "tags                        61365  \n",
       "timely                     746372  \n",
       "zip_code                      942  "
      ]
     },
     "execution_count": 7,
     "metadata": {},
     "output_type": "execute_result"
    }
   ],
   "source": [
    "# Display summary statistics for a dataframe\n",
    "df.describe().T"
   ]
  },
  {
   "cell_type": "markdown",
   "id": "b7bcab4d",
   "metadata": {},
   "source": [
    "#### Check the unique values of our target column"
   ]
  },
  {
   "cell_type": "code",
   "execution_count": 8,
   "id": "e213ee28",
   "metadata": {},
   "outputs": [
    {
     "data": {
      "text/plain": [
       "No     80.701903\n",
       "Yes    19.298097\n",
       "Name: consumer_disputed, dtype: float64"
      ]
     },
     "execution_count": 8,
     "metadata": {},
     "output_type": "execute_result"
    }
   ],
   "source": [
    "df.consumer_disputed.value_counts(normalize=True)*100"
   ]
  },
  {
   "cell_type": "markdown",
   "id": "fb9c8e66",
   "metadata": {},
   "source": [
    "**Check Datatypes in the dataset**"
   ]
  },
  {
   "cell_type": "code",
   "execution_count": 9,
   "id": "b710ef10",
   "metadata": {},
   "outputs": [
    {
     "name": "stdout",
     "output_type": "stream",
     "text": [
      "<class 'pandas.core.frame.DataFrame'>\n",
      "RangeIndex: 767656 entries, 0 to 767655\n",
      "Data columns (total 18 columns):\n",
      " #   Column                     Non-Null Count   Dtype \n",
      "---  ------                     --------------   ----- \n",
      " 0   company                    767656 non-null  object\n",
      " 1   company_public_response    196044 non-null  object\n",
      " 2   company_response           767656 non-null  object\n",
      " 3   complaint_id               767656 non-null  object\n",
      " 4   complaint_what_happened    164343 non-null  object\n",
      " 5   consumer_consent_provided  767618 non-null  object\n",
      " 6   consumer_disputed          767656 non-null  object\n",
      " 7   date_received              767656 non-null  object\n",
      " 8   date_sent_to_company       767656 non-null  object\n",
      " 9   issue                      767656 non-null  object\n",
      " 10  product                    767656 non-null  object\n",
      " 11  state                      762006 non-null  object\n",
      " 12  sub_issue                  313783 non-null  object\n",
      " 13  sub_product                533197 non-null  object\n",
      " 14  submitted_via              767656 non-null  object\n",
      " 15  tags                       108360 non-null  object\n",
      " 16  timely                     767656 non-null  object\n",
      " 17  zip_code                   762009 non-null  object\n",
      "dtypes: object(18)\n",
      "memory usage: 105.4+ MB\n"
     ]
    }
   ],
   "source": [
    "# Check Null and dtypes\n",
    "df.info()"
   ]
  },
  {
   "cell_type": "markdown",
   "id": "3684c205",
   "metadata": {},
   "source": [
    "## 3. EXPLORING DATA"
   ]
  },
  {
   "cell_type": "code",
   "execution_count": 10,
   "id": "e36d86a1",
   "metadata": {},
   "outputs": [
    {
     "name": "stdout",
     "output_type": "stream",
     "text": [
      "We have 0 numerical features : []\n",
      "\n",
      "We have 18 categorical features : ['company', 'company_public_response', 'company_response', 'complaint_id', 'complaint_what_happened', 'consumer_consent_provided', 'consumer_disputed', 'date_received', 'date_sent_to_company', 'issue', 'product', 'state', 'sub_issue', 'sub_product', 'submitted_via', 'tags', 'timely', 'zip_code']\n"
     ]
    }
   ],
   "source": [
    "# define numerical & categorical columns\n",
    "numeric_features = [feature for feature in df.columns if df[feature].dtype != 'O']\n",
    "categorical_features = [feature for feature in df.columns if df[feature].dtype == 'O']\n",
    "\n",
    "# print columns\n",
    "print('We have {} numerical features : {}'.format(len(numeric_features), numeric_features))\n",
    "print('\\nWe have {} categorical features : {}'.format(len(categorical_features), categorical_features))"
   ]
  },
  {
   "cell_type": "markdown",
   "id": "7a315e03",
   "metadata": {},
   "source": [
    "- Here we have only categorical columns in the dataset"
   ]
  },
  {
   "cell_type": "markdown",
   "id": "7f321e7a",
   "metadata": {},
   "source": [
    "### Checking Null values"
   ]
  },
  {
   "cell_type": "code",
   "execution_count": 11,
   "id": "97b171ac",
   "metadata": {},
   "outputs": [
    {
     "data": {
      "text/html": [
       "<div>\n",
       "<style scoped>\n",
       "    .dataframe tbody tr th:only-of-type {\n",
       "        vertical-align: middle;\n",
       "    }\n",
       "\n",
       "    .dataframe tbody tr th {\n",
       "        vertical-align: top;\n",
       "    }\n",
       "\n",
       "    .dataframe thead th {\n",
       "        text-align: right;\n",
       "    }\n",
       "</style>\n",
       "<table border=\"1\" class=\"dataframe\">\n",
       "  <thead>\n",
       "    <tr style=\"text-align: right;\">\n",
       "      <th></th>\n",
       "      <th>0</th>\n",
       "    </tr>\n",
       "  </thead>\n",
       "  <tbody>\n",
       "    <tr>\n",
       "      <th>tags</th>\n",
       "      <td>85.884302</td>\n",
       "    </tr>\n",
       "    <tr>\n",
       "      <th>complaint_what_happened</th>\n",
       "      <td>78.591583</td>\n",
       "    </tr>\n",
       "    <tr>\n",
       "      <th>company_public_response</th>\n",
       "      <td>74.461999</td>\n",
       "    </tr>\n",
       "    <tr>\n",
       "      <th>sub_issue</th>\n",
       "      <td>59.124530</td>\n",
       "    </tr>\n",
       "    <tr>\n",
       "      <th>sub_product</th>\n",
       "      <td>30.542196</td>\n",
       "    </tr>\n",
       "    <tr>\n",
       "      <th>state</th>\n",
       "      <td>0.736007</td>\n",
       "    </tr>\n",
       "    <tr>\n",
       "      <th>zip_code</th>\n",
       "      <td>0.735616</td>\n",
       "    </tr>\n",
       "    <tr>\n",
       "      <th>consumer_consent_provided</th>\n",
       "      <td>0.004950</td>\n",
       "    </tr>\n",
       "    <tr>\n",
       "      <th>timely</th>\n",
       "      <td>0.000000</td>\n",
       "    </tr>\n",
       "    <tr>\n",
       "      <th>submitted_via</th>\n",
       "      <td>0.000000</td>\n",
       "    </tr>\n",
       "    <tr>\n",
       "      <th>company</th>\n",
       "      <td>0.000000</td>\n",
       "    </tr>\n",
       "    <tr>\n",
       "      <th>product</th>\n",
       "      <td>0.000000</td>\n",
       "    </tr>\n",
       "    <tr>\n",
       "      <th>date_sent_to_company</th>\n",
       "      <td>0.000000</td>\n",
       "    </tr>\n",
       "    <tr>\n",
       "      <th>date_received</th>\n",
       "      <td>0.000000</td>\n",
       "    </tr>\n",
       "    <tr>\n",
       "      <th>consumer_disputed</th>\n",
       "      <td>0.000000</td>\n",
       "    </tr>\n",
       "    <tr>\n",
       "      <th>complaint_id</th>\n",
       "      <td>0.000000</td>\n",
       "    </tr>\n",
       "    <tr>\n",
       "      <th>company_response</th>\n",
       "      <td>0.000000</td>\n",
       "    </tr>\n",
       "    <tr>\n",
       "      <th>issue</th>\n",
       "      <td>0.000000</td>\n",
       "    </tr>\n",
       "  </tbody>\n",
       "</table>\n",
       "</div>"
      ],
      "text/plain": [
       "                                   0\n",
       "tags                       85.884302\n",
       "complaint_what_happened    78.591583\n",
       "company_public_response    74.461999\n",
       "sub_issue                  59.124530\n",
       "sub_product                30.542196\n",
       "state                       0.736007\n",
       "zip_code                    0.735616\n",
       "consumer_consent_provided   0.004950\n",
       "timely                      0.000000\n",
       "submitted_via               0.000000\n",
       "company                     0.000000\n",
       "product                     0.000000\n",
       "date_sent_to_company        0.000000\n",
       "date_received               0.000000\n",
       "consumer_disputed           0.000000\n",
       "complaint_id                0.000000\n",
       "company_response            0.000000\n",
       "issue                       0.000000"
      ]
     },
     "execution_count": 11,
     "metadata": {},
     "output_type": "execute_result"
    }
   ],
   "source": [
    "missing = df.isnull().sum().div(df.shape[0]).mul(100).to_frame().sort_values(by=0, ascending = False)\n",
    "missing"
   ]
  },
  {
   "cell_type": "code",
   "execution_count": 12,
   "id": "2cf86e2a",
   "metadata": {},
   "outputs": [],
   "source": [
    "drop_columns = ['tags','complaint_what_happened','company_public_response','sub_issue','sub_product','zip_code','complaint_id']\n",
    "df.drop(drop_columns, axis=1, inplace=True)"
   ]
  },
  {
   "cell_type": "markdown",
   "id": "3c59be20",
   "metadata": {},
   "source": [
    "#### Number of unique values in each column "
   ]
  },
  {
   "cell_type": "code",
   "execution_count": 13,
   "id": "5fc8183b",
   "metadata": {},
   "outputs": [
    {
     "name": "stdout",
     "output_type": "stream",
     "text": [
      "company 4284\n",
      "company_response 7\n",
      "consumer_consent_provided 5\n",
      "consumer_disputed 2\n",
      "date_received 1940\n",
      "date_sent_to_company 2024\n",
      "issue 99\n",
      "product 13\n",
      "state 62\n",
      "submitted_via 6\n",
      "timely 2\n"
     ]
    }
   ],
   "source": [
    "for col in df.columns:\n",
    "    print(col,df[col].nunique())"
   ]
  },
  {
   "cell_type": "markdown",
   "id": "cc5927a2",
   "metadata": {},
   "source": [
    "## Visualization"
   ]
  },
  {
   "cell_type": "markdown",
   "id": "f9051e02",
   "metadata": {},
   "source": [
    "### 4.1 Visualize the Target Feature (Customer Disputed)"
   ]
  },
  {
   "cell_type": "markdown",
   "id": "1ef22d0f",
   "metadata": {},
   "source": [
    "- **Whether the consumer disputed the company’s response.**"
   ]
  },
  {
   "cell_type": "code",
   "execution_count": 14,
   "id": "09fd909f",
   "metadata": {},
   "outputs": [
    {
     "data": {
      "image/png": "[encoded data removed]",
      "text/plain": [
       "<Figure size 1080x576 with 1 Axes>"
      ]
     },
     "metadata": {},
     "output_type": "display_data"
    }
   ],
   "source": [
    "percentage = df.consumer_disputed.value_counts(normalize=True)*100\n",
    "label = [\"No\", \"Yes\"]\n",
    "\n",
    "# Plot PieChart with Ploty library\n",
    "fig, ax = plt.subplots(figsize =(15, 8))\n",
    "explode = (0, 0.1)\n",
    "colors = ['#e63a2a','#1188ff' ]\n",
    "ax.pie(percentage, labels = label, startangle = 90,\n",
    "       autopct='%1.2f%%',explode=explode, shadow=True, colors=colors)\n",
    "plt.show()"
   ]
  },
  {
   "cell_type": "markdown",
   "id": "77d3ea27",
   "metadata": {},
   "source": [
    "- From the chart it is clear that the Target Variable is Imbalanced\n",
    "\n",
    "**What is imbalanced data?**\n",
    "\n",
    "- Imbalanced data are types of data where the target class has an uneven distribution of observations, i.e Here number of Not-stroke has more count than the number of stroke of the dataset."
   ]
  },
  {
   "cell_type": "markdown",
   "id": "a75f46e1",
   "metadata": {},
   "source": [
    "## Products on which the complaints were made."
   ]
  },
  {
   "cell_type": "markdown",
   "id": "e87154c5",
   "metadata": {},
   "source": [
    "- **The type of product the consumer identified in the complaint.**"
   ]
  },
  {
   "cell_type": "code",
   "execution_count": 156,
   "id": "a7bd3972",
   "metadata": {},
   "outputs": [
    {
     "data": {
      "text/html": [
       "<div>\n",
       "<style scoped>\n",
       "    .dataframe tbody tr th:only-of-type {\n",
       "        vertical-align: middle;\n",
       "    }\n",
       "\n",
       "    .dataframe tbody tr th {\n",
       "        vertical-align: top;\n",
       "    }\n",
       "\n",
       "    .dataframe thead th {\n",
       "        text-align: right;\n",
       "    }\n",
       "</style>\n",
       "<table border=\"1\" class=\"dataframe\">\n",
       "  <thead>\n",
       "    <tr style=\"text-align: right;\">\n",
       "      <th></th>\n",
       "      <th>product</th>\n",
       "    </tr>\n",
       "  </thead>\n",
       "  <tbody>\n",
       "    <tr>\n",
       "      <th>Mortgage</th>\n",
       "      <td>29.454990</td>\n",
       "    </tr>\n",
       "    <tr>\n",
       "      <th>Debt collection</th>\n",
       "      <td>19.040039</td>\n",
       "    </tr>\n",
       "    <tr>\n",
       "      <th>Credit reporting</th>\n",
       "      <td>18.335947</td>\n",
       "    </tr>\n",
       "    <tr>\n",
       "      <th>Credit card</th>\n",
       "      <td>11.481445</td>\n",
       "    </tr>\n",
       "    <tr>\n",
       "      <th>Bank account or service</th>\n",
       "      <td>11.254129</td>\n",
       "    </tr>\n",
       "    <tr>\n",
       "      <th>Student loan</th>\n",
       "      <td>4.245261</td>\n",
       "    </tr>\n",
       "    <tr>\n",
       "      <th>Consumer Loan</th>\n",
       "      <td>4.124894</td>\n",
       "    </tr>\n",
       "    <tr>\n",
       "      <th>Payday loan</th>\n",
       "      <td>0.724804</td>\n",
       "    </tr>\n",
       "    <tr>\n",
       "      <th>Money transfers</th>\n",
       "      <td>0.699141</td>\n",
       "    </tr>\n",
       "    <tr>\n",
       "      <th>Prepaid card</th>\n",
       "      <td>0.498531</td>\n",
       "    </tr>\n",
       "  </tbody>\n",
       "</table>\n",
       "</div>"
      ],
      "text/plain": [
       "                           product\n",
       "Mortgage                 29.454990\n",
       "Debt collection          19.040039\n",
       "Credit reporting         18.335947\n",
       "Credit card              11.481445\n",
       "Bank account or service  11.254129\n",
       "Student loan              4.245261\n",
       "Consumer Loan             4.124894\n",
       "Payday loan               0.724804\n",
       "Money transfers           0.699141\n",
       "Prepaid card              0.498531"
      ]
     },
     "execution_count": 156,
     "metadata": {},
     "output_type": "execute_result"
    }
   ],
   "source": [
    "# Percentage of each Top 10 product\n",
    "product_percentage.to_frame()[0:10]"
   ]
  },
  {
   "cell_type": "markdown",
   "id": "2eac17c8",
   "metadata": {},
   "source": [
    "**Visualize product percentage in a pie chart**"
   ]
  },
  {
   "cell_type": "code",
   "execution_count": 150,
   "id": "db14ba57",
   "metadata": {},
   "outputs": [
    {
     "data": {
      "image/png": "[encoded data removed]",
      "text/plain": [
       "<Figure size 1296x720 with 1 Axes>"
      ]
     },
     "metadata": {},
     "output_type": "display_data"
    }
   ],
   "source": [
    "product_percentage = df['product'].value_counts(normalize=True)*100\n",
    "product_labels = product_percentage.index\n",
    "colors = ['yellowgreen','red','gold','lightskyblue','darkorange','lightcoral','blue',\n",
    "          'pink', 'darkgreen','yellow','grey','violet','magenta','cyan']\n",
    "\n",
    "fig, ax = plt.subplots(figsize =(18, 10))\n",
    "patches, texts = ax.pie(product_percentage, startangle = 90, shadow=True, colors=colors,radius=1.2)\n",
    "\n",
    "plt.legend(patches, labels, loc='best', bbox_to_anchor=(-0.1, 1.),\n",
    "           fontsize=14)\n",
    "plt.show()"
   ]
  },
  {
   "cell_type": "markdown",
   "id": "06baa68d",
   "metadata": {},
   "source": [
    "**Insights**\n",
    "- Mortgage Product had the most finance complaints product which is 29% of total.\n",
    "- It is followed by debt collection product which is 19% of total."
   ]
  },
  {
   "cell_type": "markdown",
   "id": "612d747a",
   "metadata": {},
   "source": [
    "### States in US and their impact on target feature"
   ]
  },
  {
   "cell_type": "markdown",
   "id": "20abe0c9",
   "metadata": {},
   "source": [
    "- **The state of the mailing address provided by the consumer.**"
   ]
  },
  {
   "cell_type": "code",
   "execution_count": 168,
   "id": "ad414036",
   "metadata": {},
   "outputs": [
    {
     "data": {
      "text/html": [
       "<div>\n",
       "<style scoped>\n",
       "    .dataframe tbody tr th:only-of-type {\n",
       "        vertical-align: middle;\n",
       "    }\n",
       "\n",
       "    .dataframe tbody tr th {\n",
       "        vertical-align: top;\n",
       "    }\n",
       "\n",
       "    .dataframe thead th {\n",
       "        text-align: right;\n",
       "    }\n",
       "</style>\n",
       "<table border=\"1\" class=\"dataframe\">\n",
       "  <thead>\n",
       "    <tr style=\"text-align: right;\">\n",
       "      <th></th>\n",
       "      <th>state</th>\n",
       "    </tr>\n",
       "  </thead>\n",
       "  <tbody>\n",
       "    <tr>\n",
       "      <th>CA</th>\n",
       "      <td>14.490831</td>\n",
       "    </tr>\n",
       "    <tr>\n",
       "      <th>FL</th>\n",
       "      <td>9.644412</td>\n",
       "    </tr>\n",
       "    <tr>\n",
       "      <th>TX</th>\n",
       "      <td>7.797445</td>\n",
       "    </tr>\n",
       "    <tr>\n",
       "      <th>NY</th>\n",
       "      <td>6.883935</td>\n",
       "    </tr>\n",
       "    <tr>\n",
       "      <th>GA</th>\n",
       "      <td>4.754818</td>\n",
       "    </tr>\n",
       "    <tr>\n",
       "      <th>NJ</th>\n",
       "      <td>4.002724</td>\n",
       "    </tr>\n",
       "    <tr>\n",
       "      <th>IL</th>\n",
       "      <td>3.696690</td>\n",
       "    </tr>\n",
       "    <tr>\n",
       "      <th>PA</th>\n",
       "      <td>3.610995</td>\n",
       "    </tr>\n",
       "    <tr>\n",
       "      <th>VA</th>\n",
       "      <td>3.214542</td>\n",
       "    </tr>\n",
       "    <tr>\n",
       "      <th>MD</th>\n",
       "      <td>3.152206</td>\n",
       "    </tr>\n",
       "  </tbody>\n",
       "</table>\n",
       "</div>"
      ],
      "text/plain": [
       "        state\n",
       "CA  14.490831\n",
       "FL   9.644412\n",
       "TX   7.797445\n",
       "NY   6.883935\n",
       "GA   4.754818\n",
       "NJ   4.002724\n",
       "IL   3.696690\n",
       "PA   3.610995\n",
       "VA   3.214542\n",
       "MD   3.152206"
      ]
     },
     "execution_count": 168,
     "metadata": {},
     "output_type": "execute_result"
    }
   ],
   "source": [
    "top_states = df.state.value_counts(normalize=True)[0:10]*100\n",
    "top_states.to_frame()"
   ]
  },
  {
   "cell_type": "code",
   "execution_count": 181,
   "id": "45a5f5ce",
   "metadata": {
    "scrolled": false
   },
   "outputs": [
    {
     "data": {
      "image/png": "[encoded data removed]",
      "text/plain": [
       "<Figure size 1080x504 with 1 Axes>"
      ]
     },
     "metadata": {},
     "output_type": "display_data"
    }
   ],
   "source": [
    "plt.subplots(figsize=(15,7))\n",
    "top_states.plot(kind='bar', color='blue');"
   ]
  },
  {
   "cell_type": "markdown",
   "id": "d55fde87",
   "metadata": {},
   "source": [
    "**Insights**\n",
    "- California has the highest number of complaints registered which is 14.4% of the total complaints\n",
    "- Then Followed by Florida with 9.6%"
   ]
  },
  {
   "cell_type": "markdown",
   "id": "e05269ec",
   "metadata": {},
   "source": [
    "### Company's Response and its effect on Target feature"
   ]
  },
  {
   "cell_type": "markdown",
   "id": "c656b6c6",
   "metadata": {},
   "source": [
    "- **The company’s mandatory response for the particular complaint**"
   ]
  },
  {
   "cell_type": "code",
   "execution_count": 34,
   "id": "0083ec08",
   "metadata": {},
   "outputs": [
    {
     "data": {
      "text/html": [
       "<div>\n",
       "<style scoped>\n",
       "    .dataframe tbody tr th:only-of-type {\n",
       "        vertical-align: middle;\n",
       "    }\n",
       "\n",
       "    .dataframe tbody tr th {\n",
       "        vertical-align: top;\n",
       "    }\n",
       "\n",
       "    .dataframe thead th {\n",
       "        text-align: right;\n",
       "    }\n",
       "</style>\n",
       "<table border=\"1\" class=\"dataframe\">\n",
       "  <thead>\n",
       "    <tr style=\"text-align: right;\">\n",
       "      <th></th>\n",
       "      <th></th>\n",
       "      <th>consumer_disputed</th>\n",
       "    </tr>\n",
       "    <tr>\n",
       "      <th>company_response</th>\n",
       "      <th>consumer_disputed</th>\n",
       "      <th></th>\n",
       "    </tr>\n",
       "  </thead>\n",
       "  <tbody>\n",
       "    <tr>\n",
       "      <th rowspan=\"2\" valign=\"top\">Closed</th>\n",
       "      <th>No</th>\n",
       "      <td>79.429089</td>\n",
       "    </tr>\n",
       "    <tr>\n",
       "      <th>Yes</th>\n",
       "      <td>20.570911</td>\n",
       "    </tr>\n",
       "    <tr>\n",
       "      <th rowspan=\"2\" valign=\"top\">Closed with explanation</th>\n",
       "      <th>No</th>\n",
       "      <td>78.770390</td>\n",
       "    </tr>\n",
       "    <tr>\n",
       "      <th>Yes</th>\n",
       "      <td>21.229610</td>\n",
       "    </tr>\n",
       "    <tr>\n",
       "      <th rowspan=\"2\" valign=\"top\">Closed with monetary relief</th>\n",
       "      <th>No</th>\n",
       "      <td>89.402829</td>\n",
       "    </tr>\n",
       "    <tr>\n",
       "      <th>Yes</th>\n",
       "      <td>10.597171</td>\n",
       "    </tr>\n",
       "    <tr>\n",
       "      <th rowspan=\"2\" valign=\"top\">Closed with non-monetary relief</th>\n",
       "      <th>No</th>\n",
       "      <td>88.370391</td>\n",
       "    </tr>\n",
       "    <tr>\n",
       "      <th>Yes</th>\n",
       "      <td>11.629609</td>\n",
       "    </tr>\n",
       "    <tr>\n",
       "      <th rowspan=\"2\" valign=\"top\">Closed with relief</th>\n",
       "      <th>No</th>\n",
       "      <td>86.306965</td>\n",
       "    </tr>\n",
       "    <tr>\n",
       "      <th>Yes</th>\n",
       "      <td>13.693035</td>\n",
       "    </tr>\n",
       "    <tr>\n",
       "      <th rowspan=\"2\" valign=\"top\">Closed without relief</th>\n",
       "      <th>No</th>\n",
       "      <td>73.108773</td>\n",
       "    </tr>\n",
       "    <tr>\n",
       "      <th>Yes</th>\n",
       "      <td>26.891227</td>\n",
       "    </tr>\n",
       "    <tr>\n",
       "      <th rowspan=\"2\" valign=\"top\">Untimely response</th>\n",
       "      <th>No</th>\n",
       "      <td>99.965434</td>\n",
       "    </tr>\n",
       "    <tr>\n",
       "      <th>Yes</th>\n",
       "      <td>0.034566</td>\n",
       "    </tr>\n",
       "  </tbody>\n",
       "</table>\n",
       "</div>"
      ],
      "text/plain": [
       "                                                   consumer_disputed\n",
       "company_response                consumer_disputed                   \n",
       "Closed                          No                         79.429089\n",
       "                                Yes                        20.570911\n",
       "Closed with explanation         No                         78.770390\n",
       "                                Yes                        21.229610\n",
       "Closed with monetary relief     No                         89.402829\n",
       "                                Yes                        10.597171\n",
       "Closed with non-monetary relief No                         88.370391\n",
       "                                Yes                        11.629609\n",
       "Closed with relief              No                         86.306965\n",
       "                                Yes                        13.693035\n",
       "Closed without relief           No                         73.108773\n",
       "                                Yes                        26.891227\n",
       "Untimely response               No                         99.965434\n",
       "                                Yes                         0.034566"
      ]
     },
     "execution_count": 34,
     "metadata": {},
     "output_type": "execute_result"
    }
   ],
   "source": [
    "df.groupby('company_response')['consumer_disputed'].value_counts(normalize=True).to_frame()*100"
   ]
  },
  {
   "cell_type": "markdown",
   "id": "2a5dece3",
   "metadata": {},
   "source": [
    "**Proportion of consumer who has disputed and Company's response**"
   ]
  },
  {
   "cell_type": "code",
   "execution_count": 69,
   "id": "06d18dcd",
   "metadata": {
    "scrolled": true
   },
   "outputs": [
    {
     "data": {
      "text/html": [
       "<div>\n",
       "<style scoped>\n",
       "    .dataframe tbody tr th:only-of-type {\n",
       "        vertical-align: middle;\n",
       "    }\n",
       "\n",
       "    .dataframe tbody tr th {\n",
       "        vertical-align: top;\n",
       "    }\n",
       "\n",
       "    .dataframe thead th {\n",
       "        text-align: right;\n",
       "    }\n",
       "</style>\n",
       "<table border=\"1\" class=\"dataframe\">\n",
       "  <thead>\n",
       "    <tr style=\"text-align: right;\">\n",
       "      <th></th>\n",
       "      <th>company_response</th>\n",
       "    </tr>\n",
       "  </thead>\n",
       "  <tbody>\n",
       "    <tr>\n",
       "      <th>Closed with explanation</th>\n",
       "      <td>83.010335</td>\n",
       "    </tr>\n",
       "    <tr>\n",
       "      <th>Closed with non-monetary relief</th>\n",
       "      <td>7.509636</td>\n",
       "    </tr>\n",
       "    <tr>\n",
       "      <th>Closed with monetary relief</th>\n",
       "      <td>3.682253</td>\n",
       "    </tr>\n",
       "    <tr>\n",
       "      <th>Closed without relief</th>\n",
       "      <td>2.915426</td>\n",
       "    </tr>\n",
       "    <tr>\n",
       "      <th>Closed</th>\n",
       "      <td>2.451685</td>\n",
       "    </tr>\n",
       "    <tr>\n",
       "      <th>Closed with relief</th>\n",
       "      <td>0.429990</td>\n",
       "    </tr>\n",
       "    <tr>\n",
       "      <th>Untimely response</th>\n",
       "      <td>0.000675</td>\n",
       "    </tr>\n",
       "  </tbody>\n",
       "</table>\n",
       "</div>"
      ],
      "text/plain": [
       "                                 company_response\n",
       "Closed with explanation                 83.010335\n",
       "Closed with non-monetary relief          7.509636\n",
       "Closed with monetary relief              3.682253\n",
       "Closed without relief                    2.915426\n",
       "Closed                                   2.451685\n",
       "Closed with relief                       0.429990\n",
       "Untimely response                        0.000675"
      ]
     },
     "execution_count": 69,
     "metadata": {},
     "output_type": "execute_result"
    }
   ],
   "source": [
    "dispute_df=df.loc[df.consumer_disputed == 'Yes']\n",
    "dispute_df.company_response.value_counts(normalize=True).to_frame()*100"
   ]
  },
  {
   "cell_type": "markdown",
   "id": "39e10f9d",
   "metadata": {},
   "source": [
    "**Visualization**"
   ]
  },
  {
   "cell_type": "code",
   "execution_count": 47,
   "id": "08d0c4cd",
   "metadata": {},
   "outputs": [
    {
     "data": {
      "image/png": "[encoded data removed]",
      "text/plain": [
       "<Figure size 1008x504 with 1 Axes>"
      ]
     },
     "metadata": {
      "needs_background": "light"
     },
     "output_type": "display_data"
    }
   ],
   "source": [
    "plt.subplots(figsize=(14,7))\n",
    "sns.countplot(x=\"company_response\",hue=\"consumer_disputed\", data=df,ec = \"black\",palette=\"Set2_r\")\n",
    "plt.title(\"Company's response vs Consumer Dispute\", weight=\"bold\",fontsize=20, pad=10)\n",
    "plt.ylabel(\"Dispute Count\", weight=\"bold\", fontsize=14)\n",
    "plt.xlabel(\"Company's response\", weight=\"bold\", fontsize=16)\n",
    "plt.xticks(rotation=20);"
   ]
  },
  {
   "cell_type": "markdown",
   "id": "ab5c6832",
   "metadata": {},
   "source": [
    "**Insights**\n",
    "- From the above report, the insight is most of the finance complaints where company's response is `Closed with explanation` has 84% of consumers dispute."
   ]
  },
  {
   "cell_type": "markdown",
   "id": "160acd71",
   "metadata": {},
   "source": [
    "### Finance Complaint Year and Disputed Consumer's count\n",
    "- **The Year the CFPB received the complaint**."
   ]
  },
  {
   "cell_type": "markdown",
   "id": "df60b631",
   "metadata": {},
   "source": [
    "- As this is the imbalanced data. visualizing only the data in which consumer has dispute on the company's response"
   ]
  },
  {
   "cell_type": "code",
   "execution_count": 88,
   "id": "06833173",
   "metadata": {},
   "outputs": [],
   "source": [
    "# create a copy of dispute consumer data\n",
    "viz_df = dispute_df.copy()\n",
    "viz_df['received_date']= pd.to_datetime(viz_df['date_received']).dt.date\n",
    "viz_df['received_month'] = pd.to_datetime(viz_df['received_date']).dt.month\n",
    "viz_df['received_year'] = pd.to_datetime(viz_df['received_date']).dt.year"
   ]
  },
  {
   "cell_type": "code",
   "execution_count": 90,
   "id": "2049f688",
   "metadata": {},
   "outputs": [
    {
     "data": {
      "image/png": "[encoded data removed]",
      "text/plain": [
       "<Figure size 1152x504 with 1 Axes>"
      ]
     },
     "metadata": {},
     "output_type": "display_data"
    }
   ],
   "source": [
    "plt.subplots(figsize=(16,7))\n",
    "sns.countplot(x=\"received_year\",data= viz_df,ec = \"black\")\n",
    "plt.xticks(rotation=45)\n",
    "plt.title(\"Complaint Year and Disputed consumers count\", weight=\"bold\",fontsize=20, pad=10)\n",
    "plt.ylabel(\"Dispute Count\", weight=\"bold\", fontsize=14)\n",
    "plt.xlabel(\"Complaint's year\", weight=\"bold\", fontsize=16)\n",
    "plt.grid(alpha = 0.5,axis = \"y\")\n",
    "plt.show()"
   ]
  },
  {
   "cell_type": "markdown",
   "id": "10f57034",
   "metadata": {},
   "source": [
    "**Insights**\n",
    "- Complaints were Highest on 2016 and 2015\n",
    "- Complaints were Least on 2017 and 2011"
   ]
  },
  {
   "cell_type": "markdown",
   "id": "6dfecceb",
   "metadata": {},
   "source": [
    "### Finance Complaint Month and Disputed Consumer's count\n",
    "- **The Month the CFPB received the complaint**."
   ]
  },
  {
   "cell_type": "markdown",
   "id": "16405fe1",
   "metadata": {},
   "source": [
    "**Map the Numerical months as month names**"
   ]
  },
  {
   "cell_type": "code",
   "execution_count": 93,
   "id": "fa43d1b3",
   "metadata": {},
   "outputs": [],
   "source": [
    "map_months = {1 : 'January', 2 : 'February', 3: 'March', 4 : 'April', 5: 'May', 6:'June', 7:'July', 8:'August',9:'September',\n",
    "       10:'October', 11:'November', 12: 'December'}\n",
    "viz_df=viz_df.replace({\"received_month\": map_months})"
   ]
  },
  {
   "cell_type": "markdown",
   "id": "7eb35af5",
   "metadata": {},
   "source": [
    "**Plot the months against the dispute data count**"
   ]
  },
  {
   "cell_type": "code",
   "execution_count": 94,
   "id": "fc26a9e3",
   "metadata": {},
   "outputs": [
    {
     "data": {
      "image/png": "[encoded data removed]",
      "text/plain": [
       "<Figure size 1152x504 with 1 Axes>"
      ]
     },
     "metadata": {},
     "output_type": "display_data"
    }
   ],
   "source": [
    "months_order = [\"January\", \"February\", \"March\", \"April\", \"May\", \"June\", \"July\", \"August\", \n",
    "                \"September\", \"October\", \"November\", \"December\"]\n",
    "plt.subplots(figsize=(16,7))\n",
    "sns.countplot(x=\"received_month\",data= viz_df,ec = \"black\", palette='rainbow',order=months_order)\n",
    "plt.xticks(rotation=45)\n",
    "plt.title(\"Complaint Month and Disputed Consumers count\", weight=\"bold\",fontsize=20, pad=10)\n",
    "plt.ylabel(\"Dispute Count\", weight=\"bold\", fontsize=14)\n",
    "plt.xlabel(\"Complaint's Month\", weight=\"bold\", fontsize=16)\n",
    "plt.grid(alpha = 0.5,axis = \"y\")\n",
    "plt.show()"
   ]
  },
  {
   "cell_type": "markdown",
   "id": "501c8e35",
   "metadata": {},
   "source": [
    "**Insights**\n",
    "- Month of March had recieved more complaints than anyother month \n",
    "- Q1 of the year had more financial complaints"
   ]
  },
  {
   "cell_type": "code",
   "execution_count": 15,
   "id": "3e518327",
   "metadata": {},
   "outputs": [
    {
     "data": {
      "text/html": [
       "<div>\n",
       "<style scoped>\n",
       "    .dataframe tbody tr th:only-of-type {\n",
       "        vertical-align: middle;\n",
       "    }\n",
       "\n",
       "    .dataframe tbody tr th {\n",
       "        vertical-align: top;\n",
       "    }\n",
       "\n",
       "    .dataframe thead th {\n",
       "        text-align: right;\n",
       "    }\n",
       "</style>\n",
       "<table border=\"1\" class=\"dataframe\">\n",
       "  <thead>\n",
       "    <tr style=\"text-align: right;\">\n",
       "      <th></th>\n",
       "      <th>company</th>\n",
       "      <th>company_response</th>\n",
       "      <th>consumer_consent_provided</th>\n",
       "      <th>consumer_disputed</th>\n",
       "      <th>date_received</th>\n",
       "      <th>date_sent_to_company</th>\n",
       "      <th>issue</th>\n",
       "      <th>product</th>\n",
       "      <th>state</th>\n",
       "      <th>submitted_via</th>\n",
       "      <th>timely</th>\n",
       "    </tr>\n",
       "  </thead>\n",
       "  <tbody>\n",
       "    <tr>\n",
       "      <th>0</th>\n",
       "      <td>CAPITAL ONE FINANCIAL CORPORATION</td>\n",
       "      <td>Closed with explanation</td>\n",
       "      <td>Consent not provided</td>\n",
       "      <td>No</td>\n",
       "      <td>2017-04-05T12:00:00-05:00</td>\n",
       "      <td>2017-04-05T12:00:00-05:00</td>\n",
       "      <td>Disclosure verification of debt</td>\n",
       "      <td>Debt collection</td>\n",
       "      <td>TX</td>\n",
       "      <td>Web</td>\n",
       "      <td>Yes</td>\n",
       "    </tr>\n",
       "    <tr>\n",
       "      <th>1</th>\n",
       "      <td>EQUIFAX, INC.</td>\n",
       "      <td>Closed with explanation</td>\n",
       "      <td>Consent not provided</td>\n",
       "      <td>No</td>\n",
       "      <td>2017-04-07T12:00:00-05:00</td>\n",
       "      <td>2017-04-07T12:00:00-05:00</td>\n",
       "      <td>Incorrect information on credit report</td>\n",
       "      <td>Credit reporting</td>\n",
       "      <td>VA</td>\n",
       "      <td>Web</td>\n",
       "      <td>Yes</td>\n",
       "    </tr>\n",
       "    <tr>\n",
       "      <th>2</th>\n",
       "      <td>TRANSUNION INTERMEDIATE HOLDINGS, INC.</td>\n",
       "      <td>Closed with explanation</td>\n",
       "      <td>Consent provided</td>\n",
       "      <td>No</td>\n",
       "      <td>2017-04-07T12:00:00-05:00</td>\n",
       "      <td>2017-04-07T12:00:00-05:00</td>\n",
       "      <td>Credit reporting company's investigation</td>\n",
       "      <td>Credit reporting</td>\n",
       "      <td>TX</td>\n",
       "      <td>Web</td>\n",
       "      <td>Yes</td>\n",
       "    </tr>\n",
       "    <tr>\n",
       "      <th>3</th>\n",
       "      <td>Santander Consumer USA Holdings Inc.</td>\n",
       "      <td>Closed with explanation</td>\n",
       "      <td>Consent provided</td>\n",
       "      <td>Yes</td>\n",
       "      <td>2017-04-03T12:00:00-05:00</td>\n",
       "      <td>2017-04-03T12:00:00-05:00</td>\n",
       "      <td>Problems when you are unable to pay</td>\n",
       "      <td>Consumer Loan</td>\n",
       "      <td>NC</td>\n",
       "      <td>Web</td>\n",
       "      <td>Yes</td>\n",
       "    </tr>\n",
       "    <tr>\n",
       "      <th>4</th>\n",
       "      <td>Fidelity National Information Services, Inc. (...</td>\n",
       "      <td>Closed with explanation</td>\n",
       "      <td>Consent not provided</td>\n",
       "      <td>No</td>\n",
       "      <td>2017-02-23T12:00:00-05:00</td>\n",
       "      <td>2017-02-28T12:00:00-05:00</td>\n",
       "      <td>Incorrect information on credit report</td>\n",
       "      <td>Credit reporting</td>\n",
       "      <td>CA</td>\n",
       "      <td>Web</td>\n",
       "      <td>Yes</td>\n",
       "    </tr>\n",
       "  </tbody>\n",
       "</table>\n",
       "</div>"
      ],
      "text/plain": [
       "                                             company         company_response  \\\n",
       "0                  CAPITAL ONE FINANCIAL CORPORATION  Closed with explanation   \n",
       "1                                      EQUIFAX, INC.  Closed with explanation   \n",
       "2             TRANSUNION INTERMEDIATE HOLDINGS, INC.  Closed with explanation   \n",
       "3               Santander Consumer USA Holdings Inc.  Closed with explanation   \n",
       "4  Fidelity National Information Services, Inc. (...  Closed with explanation   \n",
       "\n",
       "  consumer_consent_provided consumer_disputed              date_received  \\\n",
       "0      Consent not provided                No  2017-04-05T12:00:00-05:00   \n",
       "1      Consent not provided                No  2017-04-07T12:00:00-05:00   \n",
       "2          Consent provided                No  2017-04-07T12:00:00-05:00   \n",
       "3          Consent provided               Yes  2017-04-03T12:00:00-05:00   \n",
       "4      Consent not provided                No  2017-02-23T12:00:00-05:00   \n",
       "\n",
       "        date_sent_to_company                                     issue  \\\n",
       "0  2017-04-05T12:00:00-05:00           Disclosure verification of debt   \n",
       "1  2017-04-07T12:00:00-05:00    Incorrect information on credit report   \n",
       "2  2017-04-07T12:00:00-05:00  Credit reporting company's investigation   \n",
       "3  2017-04-03T12:00:00-05:00       Problems when you are unable to pay   \n",
       "4  2017-02-28T12:00:00-05:00    Incorrect information on credit report   \n",
       "\n",
       "            product state submitted_via timely  \n",
       "0   Debt collection    TX           Web    Yes  \n",
       "1  Credit reporting    VA           Web    Yes  \n",
       "2  Credit reporting    TX           Web    Yes  \n",
       "3     Consumer Loan    NC           Web    Yes  \n",
       "4  Credit reporting    CA           Web    Yes  "
      ]
     },
     "execution_count": 15,
     "metadata": {},
     "output_type": "execute_result"
    }
   ],
   "source": [
    "df.head()"
   ]
  },
  {
   "cell_type": "markdown",
   "id": "59e71eee",
   "metadata": {},
   "source": [
    "## Complaints Submission"
   ]
  },
  {
   "cell_type": "markdown",
   "id": "122b41d6",
   "metadata": {},
   "source": [
    "- **How the complaint was submitted to the CFPB. For example, “Web” or “Phone.”**"
   ]
  },
  {
   "cell_type": "code",
   "execution_count": 186,
   "id": "891ddb48",
   "metadata": {},
   "outputs": [
    {
     "data": {
      "text/html": [
       "<div>\n",
       "<style scoped>\n",
       "    .dataframe tbody tr th:only-of-type {\n",
       "        vertical-align: middle;\n",
       "    }\n",
       "\n",
       "    .dataframe tbody tr th {\n",
       "        vertical-align: top;\n",
       "    }\n",
       "\n",
       "    .dataframe thead th {\n",
       "        text-align: right;\n",
       "    }\n",
       "</style>\n",
       "<table border=\"1\" class=\"dataframe\">\n",
       "  <thead>\n",
       "    <tr style=\"text-align: right;\">\n",
       "      <th></th>\n",
       "      <th>submitted_via</th>\n",
       "    </tr>\n",
       "  </thead>\n",
       "  <tbody>\n",
       "    <tr>\n",
       "      <th>Web</th>\n",
       "      <td>68.106678</td>\n",
       "    </tr>\n",
       "    <tr>\n",
       "      <th>Referral</th>\n",
       "      <td>17.289515</td>\n",
       "    </tr>\n",
       "    <tr>\n",
       "      <th>Phone</th>\n",
       "      <td>6.782986</td>\n",
       "    </tr>\n",
       "    <tr>\n",
       "      <th>Postal mail</th>\n",
       "      <td>6.349719</td>\n",
       "    </tr>\n",
       "    <tr>\n",
       "      <th>Fax</th>\n",
       "      <td>1.426941</td>\n",
       "    </tr>\n",
       "    <tr>\n",
       "      <th>Email</th>\n",
       "      <td>0.044160</td>\n",
       "    </tr>\n",
       "  </tbody>\n",
       "</table>\n",
       "</div>"
      ],
      "text/plain": [
       "             submitted_via\n",
       "Web              68.106678\n",
       "Referral         17.289515\n",
       "Phone             6.782986\n",
       "Postal mail       6.349719\n",
       "Fax               1.426941\n",
       "Email             0.044160"
      ]
     },
     "execution_count": 186,
     "metadata": {},
     "output_type": "execute_result"
    }
   ],
   "source": [
    "df.submitted_via.value_counts(normalize=True).to_frame()*100"
   ]
  },
  {
   "cell_type": "code",
   "execution_count": 183,
   "id": "805d4bc4",
   "metadata": {},
   "outputs": [
    {
     "data": {
      "image/png": "[encoded data removed]",
      "text/plain": [
       "<Figure size 1008x504 with 1 Axes>"
      ]
     },
     "metadata": {},
     "output_type": "display_data"
    }
   ],
   "source": [
    "plt.subplots(figsize=(14,7))\n",
    "sns.countplot(x=\"submitted_via\",hue=\"consumer_disputed\", data=df,ec = \"black\",palette=\"Set1_r\")\n",
    "plt.title(\"Complaints Submitted_via\", weight=\"bold\",fontsize=20, pad=10)\n",
    "plt.ylabel(\"Dispute Count\", weight=\"bold\", fontsize=14)\n",
    "plt.xlabel(\"Submitted_via\", weight=\"bold\", fontsize=16);"
   ]
  },
  {
   "cell_type": "markdown",
   "id": "40d287e9",
   "metadata": {},
   "source": [
    "**Insights**\n",
    "- 68% of total complaints were submmited via Web.\n",
    "- Second most used platflorm to submit is Referral then followed by Phone"
   ]
  },
  {
   "cell_type": "markdown",
   "id": "8678bdfd",
   "metadata": {},
   "source": [
    "### Timely response has any effect on Target column"
   ]
  },
  {
   "cell_type": "code",
   "execution_count": 193,
   "id": "73e46d2b",
   "metadata": {},
   "outputs": [
    {
     "data": {
      "image/png": "[encoded data removed]",
      "text/plain": [
       "<Figure size 1008x504 with 1 Axes>"
      ]
     },
     "metadata": {},
     "output_type": "display_data"
    }
   ],
   "source": [
    "plt.subplots(figsize=(14,7))\n",
    "sns.countplot(x=\"timely\",hue=\"consumer_disputed\", data=df,ec = \"black\",palette=\"vlag\")\n",
    "plt.title(\"Timely Response and its effect on Target column\", weight=\"bold\",fontsize=20, pad=10)\n",
    "plt.ylabel(\"Dispute Count\", weight=\"bold\", fontsize=14)\n",
    "plt.xlabel(\"Timely response\", weight=\"bold\", fontsize=16);"
   ]
  },
  {
   "cell_type": "markdown",
   "id": "f3efde3c",
   "metadata": {},
   "source": [
    "**Insights**\n",
    "- Most of the complaints which had timely response also had consumer disputed\n",
    "- No much impact on target column"
   ]
  },
  {
   "cell_type": "markdown",
   "id": "206f1427",
   "metadata": {},
   "source": [
    "### Consumer consent provided and its effect on Target column"
   ]
  },
  {
   "cell_type": "markdown",
   "id": "7b049b18",
   "metadata": {},
   "source": [
    "- here consent provided columns is approval given by the consumer on publishing their complaints public"
   ]
  },
  {
   "cell_type": "code",
   "execution_count": 84,
   "id": "3c34cd47",
   "metadata": {},
   "outputs": [
    {
     "data": {
      "image/png": "[encoded data removed]",
      "text/plain": [
       "<Figure size 1008x504 with 1 Axes>"
      ]
     },
     "metadata": {},
     "output_type": "display_data"
    }
   ],
   "source": [
    "plt.subplots(figsize=(14,7))\n",
    "sns.countplot(x=\"consumer_consent_provided\",hue=\"consumer_disputed\", data=df,ec = \"black\",palette=\"Spectral\")\n",
    "plt.title(\"Consumer consent provided vs Consumer Dispute\", weight=\"bold\",fontsize=20, pad=10)\n",
    "plt.ylabel(\"Dispute Count\", weight=\"bold\", fontsize=14)\n",
    "plt.xlabel(\"Consent Provided\", weight=\"bold\", fontsize=16)\n",
    "plt.xticks(rotation=20);"
   ]
  },
  {
   "cell_type": "markdown",
   "id": "c1a2b380",
   "metadata": {},
   "source": [
    "**Insights**\n",
    "- Most of the Record here is not available `N/A`.\n",
    "- Consent Provided has more impact on the target variable, because most consumer wanted complaints to be public."
   ]
  },
  {
   "cell_type": "markdown",
   "id": "881b5bd8",
   "metadata": {},
   "source": [
    "## Final Report\n",
    "- Dataset is collected from consumerfinance US government website.\n",
    "- `tags`,`complaint_what_happened`,`company_public_response`,`sub_issue`,`sub_product`,`zip_code`,`complaint_id` are the columns which can be removed as they are redundant or doesn’t help the model.\n",
    "- `company` its a name column can be removed as it contains 4284 unique values, which cannot be used in model.\n",
    "- new feature can be created `days_to_forward_complaint` which is the difference between `date_sent_to_company`-`date_received`.\n",
    "- `issue` column is a text column, so text processing can be done and vectorized by tfidf for the model training.\n",
    "- Null values can be imputed with mode."
   ]
  },
  {
   "cell_type": "code",
   "execution_count": null,
   "id": "54452687",
   "metadata": {},
   "outputs": [],
   "source": []
  }
 ],
 "metadata": {
  "kernelspec": {
   "display_name": "Python 3 (ipykernel)",
   "language": "python",
   "name": "python3"
  },
  "language_info": {
   "codemirror_mode": {
    "name": "ipython",
    "version": 3
   },
   "file_extension": ".py",
   "mimetype": "text/x-python",
   "name": "python",
   "nbconvert_exporter": "python",
   "pygments_lexer": "ipython3",
   "version": "3.9.12"
  }
 },
 "nbformat": 4,
 "nbformat_minor": 5
}
